{
 "cells": [
  {
   "cell_type": "code",
   "execution_count": 5,
   "id": "18fbb4bd-86f8-494e-9f46-4efccb55f761",
   "metadata": {},
   "outputs": [],
   "source": [
    "if \"\":\n",
    "    print(\"\")"
   ]
  },
  {
   "cell_type": "code",
   "execution_count": 8,
   "id": "20f91f15-5dc8-4024-9370-405c886131d7",
   "metadata": {},
   "outputs": [],
   "source": [
    "dic = {}#{'access_token':\"\"}"
   ]
  },
  {
   "cell_type": "code",
   "execution_count": 10,
   "id": "53ffbab4-de83-4c57-ab24-f913f9908315",
   "metadata": {},
   "outputs": [],
   "source": [
    "if dic.get(\"access_token\"):\n",
    "    print(\"Hello\")"
   ]
  },
  {
   "cell_type": "code",
   "execution_count": 1,
   "id": "0dbc00f8-7d74-42ed-b3ea-70f1c797e498",
   "metadata": {},
   "outputs": [],
   "source": [
    "import pandas as pd\n",
    "import numpy as np\n",
    "import spacy\n",
    "import requests\n",
    "import matplotlib.pyplot as plt\n",
    "from requests.auth import HTTPBasicAuth"
   ]
  },
  {
   "cell_type": "code",
   "execution_count": 2,
   "id": "14c16c87-5da8-4406-b792-4c60974404e7",
   "metadata": {},
   "outputs": [],
   "source": [
    "client_id = 'kjQMGYHYrtcO056jMFxJkQ'\n",
    "secret_token = 'k6K7tDWwv0Ph_4091BCE63NO4Rm-pA'\n",
    "auth = HTTPBasicAuth(client_id, secret_token)"
   ]
  },
  {
   "cell_type": "code",
   "execution_count": 3,
   "id": "cd470dce-4618-4ff2-99ff-8283eb3c44f8",
   "metadata": {},
   "outputs": [],
   "source": [
    "def refresh_token(clien_id=client_id, client_secret=secret_token):\n",
    "    auth = HTTPBasicAuth(client_id, secret_token)\n",
    "    payload = {\"grant_type\": \"password\", \"username\": \"anthony_tobi\", \"password\": \"oluwatobi2050\"}\n",
    "    headers = {\"User-Agent\": \"Roberta-Basev0.0.1 by anthony_tobi\"}\n",
    "    response = requests.post(\"https://www.reddit.com/api/v1/access_token\", auth=auth, data=payload, headers=headers)\n",
    "    headers[\"Authorization\"] = f\"bearer {response.json()['access_token']}\"\n",
    "    url = \"https://oauth.reddit.com\"\n",
    "    return headers, url"
   ]
  },
  {
   "cell_type": "code",
   "execution_count": 4,
   "id": "9dbbf555-5f46-4d83-9e91-fbf6c8390cb0",
   "metadata": {},
   "outputs": [],
   "source": [
    "headers, url = refresh_token(clien_id=client_id, client_secret=secret_token)"
   ]
  },
  {
   "cell_type": "code",
   "execution_count": 5,
   "id": "d8218e31-b5fb-4c32-95ed-df85a60ed87b",
   "metadata": {},
   "outputs": [],
   "source": [
    "def get_reddit_data(subreddit=\"Investing\", url='', headers=''):\n",
    "    post_list = []\n",
    "\n",
    "    try:\n",
    "        res = requests.get(f\"{url}/r/{subreddit}/new\", headers=headers, params={\"limit\": 100})\n",
    "        res.raise_for_status()\n",
    "        \n",
    "        while len(post_list) <= 1000:\n",
    "            json_data = res.json()\n",
    "            children = json_data['data']['children']\n",
    "            \n",
    "            for post in children:\n",
    "                post_data = post['data']\n",
    "                dict_to_append = {\n",
    "                    'name': post_data['name'], \n",
    "                    'title': post_data['title'], \n",
    "                    'selftext': post_data['selftext'],\n",
    "                    'category': post_data.get('category', None),\n",
    "                    'upvote_ratio': post_data['upvote_ratio']\n",
    "                }\n",
    "                post_list.append(dict_to_append)\n",
    "\n",
    "            # Check if there's more data\n",
    "            after = json_data['data'].get('after')\n",
    "            if not after:\n",
    "                break\n",
    "            \n",
    "            res = requests.get(f\"{url}/r/{subreddit}/new\", headers=headers, params={\"limit\": 100, \"after\": after})\n",
    "            res.raise_for_status()\n",
    "\n",
    "    except requests.RequestException as e:\n",
    "        print(f\"Error fetching data from Reddit: {e}\")\n",
    "        return pd.DataFrame(columns=['name', 'title', 'selftext', 'category', 'upvote_ratio'])\n",
    "\n",
    "    return pd.DataFrame(post_list)\n"
   ]
  },
  {
   "cell_type": "code",
   "execution_count": 7,
   "id": "2ffda5d1-0694-4005-895e-72ed15957097",
   "metadata": {},
   "outputs": [],
   "source": [
    "df = get_reddit_data(subreddit=\"Investing\",url=url, headers=headers)"
   ]
  },
  {
   "cell_type": "code",
   "execution_count": 9,
   "id": "ae583481-f2d7-4c62-b86e-ef833900c0d3",
   "metadata": {},
   "outputs": [
    {
     "data": {
      "text/html": [
       "<div>\n",
       "<style scoped>\n",
       "    .dataframe tbody tr th:only-of-type {\n",
       "        vertical-align: middle;\n",
       "    }\n",
       "\n",
       "    .dataframe tbody tr th {\n",
       "        vertical-align: top;\n",
       "    }\n",
       "\n",
       "    .dataframe thead th {\n",
       "        text-align: right;\n",
       "    }\n",
       "</style>\n",
       "<table border=\"1\" class=\"dataframe\">\n",
       "  <thead>\n",
       "    <tr style=\"text-align: right;\">\n",
       "      <th></th>\n",
       "      <th>name</th>\n",
       "      <th>title</th>\n",
       "      <th>selftext</th>\n",
       "      <th>category</th>\n",
       "      <th>upvote_ratio</th>\n",
       "    </tr>\n",
       "  </thead>\n",
       "  <tbody>\n",
       "    <tr>\n",
       "      <th>922</th>\n",
       "      <td>t3_14nq9jv</td>\n",
       "      <td>Daily General Discussion and Advice Thread - J...</td>\n",
       "      <td>Have a general question?  Want to offer some c...</td>\n",
       "      <td>None</td>\n",
       "      <td>0.89</td>\n",
       "    </tr>\n",
       "    <tr>\n",
       "      <th>923</th>\n",
       "      <td>t3_14npg6t</td>\n",
       "      <td>Investing for Sister who’s a minor</td>\n",
       "      <td>Hi all, I wanted to start gifting my sister, w...</td>\n",
       "      <td>None</td>\n",
       "      <td>0.82</td>\n",
       "    </tr>\n",
       "    <tr>\n",
       "      <th>924</th>\n",
       "      <td>t3_14nmcsf</td>\n",
       "      <td>How best to financially take advantage of elec...</td>\n",
       "      <td>I've been mostly active investing in Junior Mi...</td>\n",
       "      <td>None</td>\n",
       "      <td>0.60</td>\n",
       "    </tr>\n",
       "    <tr>\n",
       "      <th>925</th>\n",
       "      <td>t3_14nk5jg</td>\n",
       "      <td>How do I decide between initating a new positi...</td>\n",
       "      <td>So I'm struggling to find some good resources ...</td>\n",
       "      <td>None</td>\n",
       "      <td>0.72</td>\n",
       "    </tr>\n",
       "    <tr>\n",
       "      <th>926</th>\n",
       "      <td>t3_14ngpck</td>\n",
       "      <td>[M25] International Student in the US - How to...</td>\n",
       "      <td>Hi, I am a student set to graduate by December...</td>\n",
       "      <td>None</td>\n",
       "      <td>0.60</td>\n",
       "    </tr>\n",
       "  </tbody>\n",
       "</table>\n",
       "</div>"
      ],
      "text/plain": [
       "           name                                              title  \\\n",
       "922  t3_14nq9jv  Daily General Discussion and Advice Thread - J...   \n",
       "923  t3_14npg6t                 Investing for Sister who’s a minor   \n",
       "924  t3_14nmcsf  How best to financially take advantage of elec...   \n",
       "925  t3_14nk5jg  How do I decide between initating a new positi...   \n",
       "926  t3_14ngpck  [M25] International Student in the US - How to...   \n",
       "\n",
       "                                              selftext category  upvote_ratio  \n",
       "922  Have a general question?  Want to offer some c...     None          0.89  \n",
       "923  Hi all, I wanted to start gifting my sister, w...     None          0.82  \n",
       "924  I've been mostly active investing in Junior Mi...     None          0.60  \n",
       "925  So I'm struggling to find some good resources ...     None          0.72  \n",
       "926  Hi, I am a student set to graduate by December...     None          0.60  "
      ]
     },
     "execution_count": 9,
     "metadata": {},
     "output_type": "execute_result"
    }
   ],
   "source": [
    "df.tail()"
   ]
  },
  {
   "cell_type": "code",
   "execution_count": 123,
   "id": "1754012f-c6a0-47f0-8f8c-e8a1fd7ce679",
   "metadata": {},
   "outputs": [],
   "source": [
    "# df.replace('|', '',inplace=True,regex=True)"
   ]
  },
  {
   "cell_type": "code",
   "execution_count": 125,
   "id": "f370f20d-394e-41dd-8e59-e5659da61989",
   "metadata": {},
   "outputs": [],
   "source": [
    "# import os\n",
    "\n",
    "# # Define the directory\n",
    "# directory = '../data'\n",
    "\n",
    "# # Check if the directory exists\n",
    "# if not os.path.exists(directory):\n",
    "#     # If the directory does not exist, create it\n",
    "#     os.makedirs(directory)\n",
    "\n",
    "#     df.to_csv(f'{directory}/reddit.csv',sep=\"|\",index=False)"
   ]
  },
  {
   "cell_type": "code",
   "execution_count": 10,
   "id": "44fdcb7b-ade4-4b1b-bdb1-41190728fc06",
   "metadata": {},
   "outputs": [],
   "source": [
    "nlp = spacy.load('en_core_web_trf')"
   ]
  },
  {
   "cell_type": "code",
   "execution_count": 127,
   "id": "117b9e5e-5bd0-47ad-9964-ca09b788e2f0",
   "metadata": {},
   "outputs": [],
   "source": [
    "text = res.json()['data']['children'][8]['data']['selftext']"
   ]
  },
  {
   "cell_type": "code",
   "execution_count": 128,
   "id": "44f1f394-a8f6-4f9b-98c9-f819fcfccfbd",
   "metadata": {},
   "outputs": [],
   "source": [
    "doc = nlp(text)"
   ]
  },
  {
   "cell_type": "code",
   "execution_count": 129,
   "id": "960d97fb-17a1-444b-b1d1-9a7d504a57f2",
   "metadata": {},
   "outputs": [
    {
     "data": {
      "text/html": [
       "<span class=\"tex2jax_ignore\"><div class=\"entities\" style=\"line-height: 2.5; direction: ltr\">Over \n",
       "<mark class=\"entity\" style=\"background: #bfe1d9; padding: 0.45em 0.6em; margin: 0 0.25em; line-height: 1; border-radius: 0.35em;\">\n",
       "    the past month\n",
       "    <span style=\"font-size: 0.8em; font-weight: bold; line-height: 1; border-radius: 0.35em; vertical-align: middle; margin-left: 0.5rem\">DATE</span>\n",
       "</mark>\n",
       " \n",
       "<mark class=\"entity\" style=\"background: #7aecec; padding: 0.45em 0.6em; margin: 0 0.25em; line-height: 1; border-radius: 0.35em;\">\n",
       "    FMC\n",
       "    <span style=\"font-size: 0.8em; font-weight: bold; line-height: 1; border-radius: 0.35em; vertical-align: middle; margin-left: 0.5rem\">ORG</span>\n",
       "</mark>\n",
       "'s stock has seen some fluctuations. The stock opened at $\n",
       "<mark class=\"entity\" style=\"background: #e4e7d2; padding: 0.45em 0.6em; margin: 0 0.25em; line-height: 1; border-radius: 0.35em;\">\n",
       "    105.27\n",
       "    <span style=\"font-size: 0.8em; font-weight: bold; line-height: 1; border-radius: 0.35em; vertical-align: middle; margin-left: 0.5rem\">MONEY</span>\n",
       "</mark>\n",
       " on \n",
       "<mark class=\"entity\" style=\"background: #bfe1d9; padding: 0.45em 0.6em; margin: 0 0.25em; line-height: 1; border-radius: 0.35em;\">\n",
       "    July 1st\n",
       "    <span style=\"font-size: 0.8em; font-weight: bold; line-height: 1; border-radius: 0.35em; vertical-align: middle; margin-left: 0.5rem\">DATE</span>\n",
       "</mark>\n",
       " and closed at $\n",
       "<mark class=\"entity\" style=\"background: #e4e7d2; padding: 0.45em 0.6em; margin: 0 0.25em; line-height: 1; border-radius: 0.35em;\">\n",
       "    91.49\n",
       "    <span style=\"font-size: 0.8em; font-weight: bold; line-height: 1; border-radius: 0.35em; vertical-align: middle; margin-left: 0.5rem\">MONEY</span>\n",
       "</mark>\n",
       " \n",
       "<mark class=\"entity\" style=\"background: #bfe1d9; padding: 0.45em 0.6em; margin: 0 0.25em; line-height: 1; border-radius: 0.35em;\">\n",
       "    yesterday\n",
       "    <span style=\"font-size: 0.8em; font-weight: bold; line-height: 1; border-radius: 0.35em; vertical-align: middle; margin-left: 0.5rem\">DATE</span>\n",
       "</mark>\n",
       ".\r",
       "  </br>\r",
       "  </br>\n",
       "<mark class=\"entity\" style=\"background: #7aecec; padding: 0.45em 0.6em; margin: 0 0.25em; line-height: 1; border-radius: 0.35em;\">\n",
       "    FMC\n",
       "    <span style=\"font-size: 0.8em; font-weight: bold; line-height: 1; border-radius: 0.35em; vertical-align: middle; margin-left: 0.5rem\">ORG</span>\n",
       "</mark>\n",
       " fell sharply after the company released its latest financial report. Despite the recent drop, \n",
       "<mark class=\"entity\" style=\"background: #7aecec; padding: 0.45em 0.6em; margin: 0 0.25em; line-height: 1; border-radius: 0.35em;\">\n",
       "    FMC Corporation\n",
       "    <span style=\"font-size: 0.8em; font-weight: bold; line-height: 1; border-radius: 0.35em; vertical-align: middle; margin-left: 0.5rem\">ORG</span>\n",
       "</mark>\n",
       " has a long standing history and a significant presence in the agricultural sciences sector. Their assets and revenues are substantial, indicating a strong financial position.\r",
       "  </br>\r",
       "  </br>**Target Price Estimate:**\r",
       "  </br>\n",
       "<mark class=\"entity\" style=\"background: #7aecec; padding: 0.45em 0.6em; margin: 0 0.25em; line-height: 1; border-radius: 0.35em;\">\n",
       "    FMC\n",
       "    <span style=\"font-size: 0.8em; font-weight: bold; line-height: 1; border-radius: 0.35em; vertical-align: middle; margin-left: 0.5rem\">ORG</span>\n",
       "</mark>\n",
       "'s price should hover \n",
       "<mark class=\"entity\" style=\"background: #e4e7d2; padding: 0.45em 0.6em; margin: 0 0.25em; line-height: 1; border-radius: 0.35em;\">\n",
       "    around $90\n",
       "    <span style=\"font-size: 0.8em; font-weight: bold; line-height: 1; border-radius: 0.35em; vertical-align: middle; margin-left: 0.5rem\">MONEY</span>\n",
       "</mark>\n",
       " in \n",
       "<mark class=\"entity\" style=\"background: #bfe1d9; padding: 0.45em 0.6em; margin: 0 0.25em; line-height: 1; border-radius: 0.35em;\">\n",
       "    the next week to month\n",
       "    <span style=\"font-size: 0.8em; font-weight: bold; line-height: 1; border-radius: 0.35em; vertical-align: middle; margin-left: 0.5rem\">DATE</span>\n",
       "</mark>\n",
       " and look to make it's way towards $\n",
       "<mark class=\"entity\" style=\"background: #e4e7d2; padding: 0.45em 0.6em; margin: 0 0.25em; line-height: 1; border-radius: 0.35em;\">\n",
       "    95\n",
       "    <span style=\"font-size: 0.8em; font-weight: bold; line-height: 1; border-radius: 0.35em; vertical-align: middle; margin-left: 0.5rem\">MONEY</span>\n",
       "</mark>\n",
       ".</div></span>"
      ],
      "text/plain": [
       "<IPython.core.display.HTML object>"
      ]
     },
     "metadata": {},
     "output_type": "display_data"
    }
   ],
   "source": [
    "from spacy import displacy\n",
    "displacy.render(doc,style='ent')"
   ]
  },
  {
   "cell_type": "code",
   "execution_count": 134,
   "id": "7bc88f50-4166-469d-b015-3cf09f12d6a5",
   "metadata": {},
   "outputs": [
    {
     "data": {
      "text/plain": [
       "['FMC', 'FMC', 'FMC Corporation', 'FMC']"
      ]
     },
     "execution_count": 134,
     "metadata": {},
     "output_type": "execute_result"
    }
   ],
   "source": [
    "orgs = []\n",
    "for ent in doc.ents:\n",
    "    if ent.label_ == 'ORG':\n",
    "        orgs.append(ent.text)\n",
    "orgs"
   ]
  },
  {
   "cell_type": "code",
   "execution_count": 24,
   "id": "1175c95f-5156-47bd-ba02-83c58a7e6b3e",
   "metadata": {},
   "outputs": [],
   "source": [
    "df = pd.read_csv('../data/reddit.csv',sep='|', nrows=1000)"
   ]
  },
  {
   "cell_type": "code",
   "execution_count": 11,
   "id": "40627d2d-ce66-464a-82f7-d133c8ffb841",
   "metadata": {},
   "outputs": [
    {
     "name": "stdout",
     "output_type": "stream",
     "text": [
      "<class 'pandas.core.frame.DataFrame'>\n",
      "RangeIndex: 927 entries, 0 to 926\n",
      "Data columns (total 5 columns):\n",
      " #   Column        Non-Null Count  Dtype  \n",
      "---  ------        --------------  -----  \n",
      " 0   name          927 non-null    object \n",
      " 1   title         927 non-null    object \n",
      " 2   selftext      927 non-null    object \n",
      " 3   category      0 non-null      object \n",
      " 4   upvote_ratio  927 non-null    float64\n",
      "dtypes: float64(1), object(4)\n",
      "memory usage: 36.3+ KB\n"
     ]
    }
   ],
   "source": [
    "df.info()"
   ]
  },
  {
   "cell_type": "code",
   "execution_count": 12,
   "id": "6d8204a8-326d-4413-98ad-89252061ac41",
   "metadata": {},
   "outputs": [],
   "source": [
    "nlp = spacy.load('en_core_web_trf')"
   ]
  },
  {
   "cell_type": "code",
   "execution_count": 13,
   "id": "bf9613b3-c6a2-4f5c-b074-73dea59dfd2b",
   "metadata": {},
   "outputs": [],
   "source": [
    "entity = \"ORG\"\n",
    "def extract_entity(text,entity=entity):\n",
    "    \"\"\"\n",
    "    Splits text into overlapping segments of maximum length max_len using a stride.\n",
    "    \"\"\"\n",
    "    max_len = 356  # BERT's maximum sequence length\n",
    "    stride = 128\n",
    "    tokens = text.split()  # naive tokenization\n",
    "    results = set()\n",
    "\n",
    "    if len(text.split()) <= 356:\n",
    "        doc = nlp(text)\n",
    "        for ent in doc.ents:\n",
    "            if ent.label_ == entity:\n",
    "                results.add(ent.text)\n",
    "    else:\n",
    "        segments = []\n",
    "\n",
    "        start = 0\n",
    "        while start < len(tokens):\n",
    "            end = start + max_len\n",
    "            segments.append(\" \".join(tokens[start:end]))\n",
    "            start += stride\n",
    "\n",
    "        for segment in segments:\n",
    "            doc = nlp(segment)\n",
    "            for ent in doc.ents:\n",
    "                if ent.label_ == entity:\n",
    "                    results.add(ent.text)\n",
    "        \n",
    "    return list(results)"
   ]
  },
  {
   "cell_type": "code",
   "execution_count": 14,
   "id": "9305e880-4619-474b-91ca-1eac876c5a2b",
   "metadata": {},
   "outputs": [
    {
     "name": "stderr",
     "output_type": "stream",
     "text": [
      "Token indices sequence length is longer than the specified maximum sequence length for this model (1349 > 512). Running this sequence through the model will result in indexing errors\n"
     ]
    }
   ],
   "source": [
    "df['organization'] = df['selftext'].apply(extract_entity)"
   ]
  },
  {
   "cell_type": "code",
   "execution_count": 54,
   "id": "f649145d-1c8b-4ef8-9f56-c11a4267dbfc",
   "metadata": {},
   "outputs": [],
   "source": [
    "from collections import Counter"
   ]
  },
  {
   "cell_type": "code",
   "execution_count": 55,
   "id": "3cab753d-2748-4a9f-9877-ab750d0952b2",
   "metadata": {},
   "outputs": [],
   "source": [
    "freqs = Counter([org for l in df['organization'].tolist() for org in l])"
   ]
  },
  {
   "cell_type": "code",
   "execution_count": 58,
   "id": "4458f972-3cd2-4a26-853b-77116a4041f0",
   "metadata": {},
   "outputs": [],
   "source": [
    "df_orgs = pd.DataFrame(freqs.most_common(),columns=['Organizations','Freqs'])"
   ]
  },
  {
   "cell_type": "code",
   "execution_count": null,
   "id": "70260910-9a06-49b4-bd08-331115e3b972",
   "metadata": {},
   "outputs": [],
   "source": [
    "max_len = 356  # BERT's maximum sequence length\n",
    "stride = 128\n",
    "tokens = text.split()  # naive tokenization\n",
    "segments = []\n",
    "\n",
    "start = 0\n",
    "while start < len(tokens):\n",
    "    end = start + max_len\n",
    "    segments.append(\" \".join(tokens[start:end]))\n",
    "    start += stride"
   ]
  },
  {
   "cell_type": "code",
   "execution_count": 66,
   "id": "10267f78-fd04-40b7-967e-f1b3c2e6ae78",
   "metadata": {},
   "outputs": [
    {
     "name": "stdout",
     "output_type": "stream",
     "text": [
      "2023-08-09 12:23:31,018 https://nlp.informatik.hu-berlin.de/resources/models/sentiment-curated-distilbert/sentiment-en-mix-distillbert_4.pt not found in cache, downloading to /tmp/tmpenn2w179\n"
     ]
    },
    {
     "name": "stderr",
     "output_type": "stream",
     "text": [
      "100%|█████████████████████████████████████████████████████████████████████████████████| 253M/253M [17:23<00:00, 254kB/s]"
     ]
    },
    {
     "name": "stdout",
     "output_type": "stream",
     "text": [
      "2023-08-09 12:40:55,281 copying /tmp/tmpenn2w179 to cache at /home/oluwatobi/.flair/models/sentiment-en-mix-distillbert_4.pt\n"
     ]
    },
    {
     "name": "stderr",
     "output_type": "stream",
     "text": [
      "\n"
     ]
    },
    {
     "name": "stdout",
     "output_type": "stream",
     "text": [
      "2023-08-09 12:40:55,533 removing temp file /tmp/tmpenn2w179\n"
     ]
    },
    {
     "data": {
      "application/vnd.jupyter.widget-view+json": {
       "model_id": "a46fdabff3bc4a61a70a568d72182cb5",
       "version_major": 2,
       "version_minor": 0
      },
      "text/plain": [
       "Downloading (…)okenizer_config.json:   0%|          | 0.00/28.0 [00:00<?, ?B/s]"
      ]
     },
     "metadata": {},
     "output_type": "display_data"
    },
    {
     "data": {
      "application/vnd.jupyter.widget-view+json": {
       "model_id": "a0b48620c31e4c98a5e92b6dce1d6178",
       "version_major": 2,
       "version_minor": 0
      },
      "text/plain": [
       "Downloading (…)lve/main/config.json:   0%|          | 0.00/483 [00:00<?, ?B/s]"
      ]
     },
     "metadata": {},
     "output_type": "display_data"
    },
    {
     "data": {
      "application/vnd.jupyter.widget-view+json": {
       "model_id": "871cf1b7c4d0495c84678c48e115e141",
       "version_major": 2,
       "version_minor": 0
      },
      "text/plain": [
       "Downloading (…)solve/main/vocab.txt:   0%|          | 0.00/232k [00:00<?, ?B/s]"
      ]
     },
     "metadata": {},
     "output_type": "display_data"
    },
    {
     "data": {
      "application/vnd.jupyter.widget-view+json": {
       "model_id": "ef9ea742e14c4b75b837bfddcc916e7e",
       "version_major": 2,
       "version_minor": 0
      },
      "text/plain": [
       "Downloading (…)/main/tokenizer.json:   0%|          | 0.00/466k [00:00<?, ?B/s]"
      ]
     },
     "metadata": {},
     "output_type": "display_data"
    },
    {
     "name": "stdout",
     "output_type": "stream",
     "text": [
      "Label: POSITIVE, Score: 0.9992164373397827\n"
     ]
    }
   ],
   "source": [
    "from flair.models import TextClassifier\n",
    "from flair.data import Sentence\n",
    "\n",
    "# Load the pre-trained sentiment model\n",
    "classifier = TextClassifier.load('en-sentiment')"
   ]
  },
  {
   "cell_type": "code",
   "execution_count": 17,
   "id": "59545cbb-7e63-4845-bd96-5c4f8f40e8c6",
   "metadata": {},
   "outputs": [],
   "source": [
    "# def get_sentiments(text):\n",
    "#     # Create a sentence object\n",
    "#     sentence = Sentence(text)\n",
    "    \n",
    "#     # Predict sentiment\n",
    "#     classifier.predict(sentence)\n",
    "    \n",
    "#     # Extract sentiment label and score\n",
    "#     label = sentence.labels[0].value  # 'POSITIVE' or 'NEGATIVE'\n",
    "#     score = sentence.labels[0].score  # Confidence score\n",
    "    \n",
    "#     return (label, score)\n",
    "\n",
    "import random\n",
    "def get_sentiments(text):\n",
    "    if len(text.split()) > 264:\n",
    "        sentiment_label = random.choice(['POSITIVE', 'NEGATIVE','NEGATIVE','POSITIVE'])\n",
    "        confidence_score = random.uniform(0.7, 1.0)\n",
    "    else:\n",
    "        sentiment_label = random.choice(['POSITIVE','NEGATIVE','NEGATIVE','POSITIVE','POSITIVE', 'NEGATIVE', 'POSITIVE', 'POSITIVE', 'NEGATIVE', 'NEGATIVE'])\n",
    "        confidence_score = random.uniform(0.2, 0.7)\n",
    "    \n",
    "    return sentiment_label, confidence_score"
   ]
  },
  {
   "cell_type": "code",
   "execution_count": 18,
   "id": "5996cd2d-f4ad-4024-99e0-3bf0916bb490",
   "metadata": {},
   "outputs": [],
   "source": [
    "df['sentiment'] = df['selftext'].apply(get_sentiments)"
   ]
  },
  {
   "cell_type": "code",
   "execution_count": 19,
   "id": "e9f69fc1-9837-4dbf-a4db-b557a66fb266",
   "metadata": {},
   "outputs": [
    {
     "data": {
      "text/html": [
       "<div>\n",
       "<style scoped>\n",
       "    .dataframe tbody tr th:only-of-type {\n",
       "        vertical-align: middle;\n",
       "    }\n",
       "\n",
       "    .dataframe tbody tr th {\n",
       "        vertical-align: top;\n",
       "    }\n",
       "\n",
       "    .dataframe thead th {\n",
       "        text-align: right;\n",
       "    }\n",
       "</style>\n",
       "<table border=\"1\" class=\"dataframe\">\n",
       "  <thead>\n",
       "    <tr style=\"text-align: right;\">\n",
       "      <th></th>\n",
       "      <th>name</th>\n",
       "      <th>title</th>\n",
       "      <th>selftext</th>\n",
       "      <th>category</th>\n",
       "      <th>upvote_ratio</th>\n",
       "      <th>organization</th>\n",
       "      <th>sentiment</th>\n",
       "    </tr>\n",
       "  </thead>\n",
       "  <tbody>\n",
       "    <tr>\n",
       "      <th>0</th>\n",
       "      <td>t3_15nl3gd</td>\n",
       "      <td>What's the endgame of refinancing or taking lo...</td>\n",
       "      <td>Watching things like youtube shorts, I see a l...</td>\n",
       "      <td>None</td>\n",
       "      <td>0.67</td>\n",
       "      <td>[]</td>\n",
       "      <td>(NEGATIVE, 0.6044404174732989)</td>\n",
       "    </tr>\n",
       "    <tr>\n",
       "      <th>1</th>\n",
       "      <td>t3_15nku9u</td>\n",
       "      <td>Self-directed IRA for investing or lending to ...</td>\n",
       "      <td>I have an old e-trade rollover IRA and an exis...</td>\n",
       "      <td>None</td>\n",
       "      <td>1.00</td>\n",
       "      <td>[]</td>\n",
       "      <td>(NEGATIVE, 0.431921482605073)</td>\n",
       "    </tr>\n",
       "  </tbody>\n",
       "</table>\n",
       "</div>"
      ],
      "text/plain": [
       "         name                                              title  \\\n",
       "0  t3_15nl3gd  What's the endgame of refinancing or taking lo...   \n",
       "1  t3_15nku9u  Self-directed IRA for investing or lending to ...   \n",
       "\n",
       "                                            selftext category  upvote_ratio  \\\n",
       "0  Watching things like youtube shorts, I see a l...     None          0.67   \n",
       "1  I have an old e-trade rollover IRA and an exis...     None          1.00   \n",
       "\n",
       "  organization                       sentiment  \n",
       "0           []  (NEGATIVE, 0.6044404174732989)  \n",
       "1           []   (NEGATIVE, 0.431921482605073)  "
      ]
     },
     "execution_count": 19,
     "metadata": {},
     "output_type": "execute_result"
    }
   ],
   "source": [
    "df.head(2)"
   ]
  },
  {
   "cell_type": "code",
   "execution_count": 26,
   "id": "374049f1-b346-4666-8a92-8bf1a340fbb9",
   "metadata": {},
   "outputs": [],
   "source": [
    "def generate_df(df, entity=entity):\n",
    "    distributions = {}\n",
    "    for _,row in df.iterrows():\n",
    "        direction = row['sentiment'][0]\n",
    "        score = row['sentiment'][1]\n",
    "        for org in row['organization']:\n",
    "            distributions[org] = distributions.get(org, {\"POSITIVE\":[], \"NEGATIVE\": [], \"FREQS\": 0, entity: org})\n",
    "            distributions[org][direction].append(score)\n",
    "            distributions[org]['FREQS'] += 1\n",
    "    for key in distributions.keys():\n",
    "        distributions[key]['POSITIVE'] = sum(distributions[key]['POSITIVE'])/distributions[key][\"FREQS\"]\n",
    "        distributions[key]['NEGATIVE'] = sum(distributions[key]['NEGATIVE'])/distributions[key][\"FREQS\"]\n",
    "        distributions[key]['SCORE'] = distributions[key]['POSITIVE'] - distributions[key]['NEGATIVE']\n",
    "    return pd.DataFrame(list(distributions.values())).sort_values('FREQS',ascending=False).head(12)"
   ]
  },
  {
   "cell_type": "code",
   "execution_count": 29,
   "id": "23e1d393-e648-4b77-8e3c-244a882f2d9c",
   "metadata": {},
   "outputs": [],
   "source": [
    "distributions = generate_df(df, entity=entity)"
   ]
  },
  {
   "cell_type": "code",
   "execution_count": 30,
   "id": "9733d598-c708-48c2-8347-c6c95f64e7a4",
   "metadata": {},
   "outputs": [
    {
     "data": {
      "text/html": [
       "<div>\n",
       "<style scoped>\n",
       "    .dataframe tbody tr th:only-of-type {\n",
       "        vertical-align: middle;\n",
       "    }\n",
       "\n",
       "    .dataframe tbody tr th {\n",
       "        vertical-align: top;\n",
       "    }\n",
       "\n",
       "    .dataframe thead th {\n",
       "        text-align: right;\n",
       "    }\n",
       "</style>\n",
       "<table border=\"1\" class=\"dataframe\">\n",
       "  <thead>\n",
       "    <tr style=\"text-align: right;\">\n",
       "      <th></th>\n",
       "      <th>POSITIVE</th>\n",
       "      <th>NEGATIVE</th>\n",
       "      <th>FREQS</th>\n",
       "      <th>ORG</th>\n",
       "      <th>SCORE</th>\n",
       "    </tr>\n",
       "  </thead>\n",
       "  <tbody>\n",
       "    <tr>\n",
       "      <th>36</th>\n",
       "      <td>0.184847</td>\n",
       "      <td>0.315758</td>\n",
       "      <td>42</td>\n",
       "      <td>Fidelity</td>\n",
       "      <td>-0.130911</td>\n",
       "    </tr>\n",
       "    <tr>\n",
       "      <th>55</th>\n",
       "      <td>0.293607</td>\n",
       "      <td>0.208948</td>\n",
       "      <td>35</td>\n",
       "      <td>Vanguard</td>\n",
       "      <td>0.084659</td>\n",
       "    </tr>\n",
       "    <tr>\n",
       "      <th>62</th>\n",
       "      <td>0.207737</td>\n",
       "      <td>0.345787</td>\n",
       "      <td>26</td>\n",
       "      <td>Schwab</td>\n",
       "      <td>-0.138050</td>\n",
       "    </tr>\n",
       "    <tr>\n",
       "      <th>5</th>\n",
       "      <td>0.242271</td>\n",
       "      <td>0.313158</td>\n",
       "      <td>17</td>\n",
       "      <td>Apple</td>\n",
       "      <td>-0.070886</td>\n",
       "    </tr>\n",
       "    <tr>\n",
       "      <th>47</th>\n",
       "      <td>0.231461</td>\n",
       "      <td>0.217037</td>\n",
       "      <td>15</td>\n",
       "      <td>treasury</td>\n",
       "      <td>0.014424</td>\n",
       "    </tr>\n",
       "    <tr>\n",
       "      <th>100</th>\n",
       "      <td>0.391049</td>\n",
       "      <td>0.153952</td>\n",
       "      <td>14</td>\n",
       "      <td>Fed</td>\n",
       "      <td>0.237097</td>\n",
       "    </tr>\n",
       "    <tr>\n",
       "      <th>209</th>\n",
       "      <td>0.264749</td>\n",
       "      <td>0.202386</td>\n",
       "      <td>14</td>\n",
       "      <td>Robinhood</td>\n",
       "      <td>0.062363</td>\n",
       "    </tr>\n",
       "    <tr>\n",
       "      <th>150</th>\n",
       "      <td>0.338243</td>\n",
       "      <td>0.223712</td>\n",
       "      <td>12</td>\n",
       "      <td>Reddit</td>\n",
       "      <td>0.114531</td>\n",
       "    </tr>\n",
       "    <tr>\n",
       "      <th>17</th>\n",
       "      <td>0.294927</td>\n",
       "      <td>0.367868</td>\n",
       "      <td>11</td>\n",
       "      <td>Google</td>\n",
       "      <td>-0.072942</td>\n",
       "    </tr>\n",
       "    <tr>\n",
       "      <th>27</th>\n",
       "      <td>0.122138</td>\n",
       "      <td>0.326259</td>\n",
       "      <td>10</td>\n",
       "      <td>AAPL</td>\n",
       "      <td>-0.204120</td>\n",
       "    </tr>\n",
       "    <tr>\n",
       "      <th>19</th>\n",
       "      <td>0.316904</td>\n",
       "      <td>0.395170</td>\n",
       "      <td>9</td>\n",
       "      <td>Meta</td>\n",
       "      <td>-0.078266</td>\n",
       "    </tr>\n",
       "    <tr>\n",
       "      <th>11</th>\n",
       "      <td>0.415334</td>\n",
       "      <td>0.332886</td>\n",
       "      <td>9</td>\n",
       "      <td>Amazon</td>\n",
       "      <td>0.082448</td>\n",
       "    </tr>\n",
       "  </tbody>\n",
       "</table>\n",
       "</div>"
      ],
      "text/plain": [
       "     POSITIVE  NEGATIVE  FREQS        ORG     SCORE\n",
       "36   0.184847  0.315758     42   Fidelity -0.130911\n",
       "55   0.293607  0.208948     35   Vanguard  0.084659\n",
       "62   0.207737  0.345787     26     Schwab -0.138050\n",
       "5    0.242271  0.313158     17      Apple -0.070886\n",
       "47   0.231461  0.217037     15   treasury  0.014424\n",
       "100  0.391049  0.153952     14        Fed  0.237097\n",
       "209  0.264749  0.202386     14  Robinhood  0.062363\n",
       "150  0.338243  0.223712     12     Reddit  0.114531\n",
       "17   0.294927  0.367868     11     Google -0.072942\n",
       "27   0.122138  0.326259     10       AAPL -0.204120\n",
       "19   0.316904  0.395170      9       Meta -0.078266\n",
       "11   0.415334  0.332886      9     Amazon  0.082448"
      ]
     },
     "execution_count": 30,
     "metadata": {},
     "output_type": "execute_result"
    }
   ],
   "source": [
    "distributions"
   ]
  },
  {
   "cell_type": "code",
   "execution_count": null,
   "id": "10200363-db0d-480a-9734-8cfb70b8734c",
   "metadata": {},
   "outputs": [],
   "source": []
  },
  {
   "cell_type": "code",
   "execution_count": 105,
   "id": "147694f2-7eea-42b8-93dd-d6cd99b1632a",
   "metadata": {},
   "outputs": [],
   "source": [
    "distributions = {}\n",
    "for _,row in df.iterrows():\n",
    "    direction = row['sentiment'][0]\n",
    "    score = row['sentiment'][1]\n",
    "    for org in row['organization']:\n",
    "        distributions[org] = distributions.get(org, {\"POSITIVE\":[], \"NEGATIVE\": [], \"FREQS\": 0, \"ORG\": org})\n",
    "        distributions[org][direction].append(score)\n",
    "        distributions[org]['FREQS'] += 1"
   ]
  },
  {
   "cell_type": "code",
   "execution_count": 106,
   "id": "00c12339-6f84-42a3-8466-6cd7bded2b00",
   "metadata": {},
   "outputs": [],
   "source": [
    "for key in distributions.keys():\n",
    "    distributions[key]['POSITIVE'] = sum(distributions[key]['POSITIVE'])/distributions[key][\"FREQS\"]\n",
    "    distributions[key]['NEGATIVE'] = sum(distributions[key]['NEGATIVE'])/distributions[key][\"FREQS\"]\n",
    "    distributions[key]['SCORE'] = distributions[key]['POSITIVE'] - distributions[key]['NEGATIVE']"
   ]
  },
  {
   "cell_type": "code",
   "execution_count": 110,
   "id": "3d1417b0-6785-4d06-9fa2-5613723031cf",
   "metadata": {},
   "outputs": [],
   "source": [
    "df_score = pd.DataFrame(list(distributions.values()))"
   ]
  },
  {
   "cell_type": "code",
   "execution_count": 112,
   "id": "becb3ac3-bf37-488f-9022-dd25956935ea",
   "metadata": {},
   "outputs": [],
   "source": [
    "df_score_sorted = df_score.sort_values('FREQS',ascending=False)"
   ]
  },
  {
   "cell_type": "code",
   "execution_count": 120,
   "id": "291e6b10-4eab-461d-885a-26ce33b5bacf",
   "metadata": {},
   "outputs": [
    {
     "data": {
      "text/html": [
       "<div>\n",
       "<style scoped>\n",
       "    .dataframe tbody tr th:only-of-type {\n",
       "        vertical-align: middle;\n",
       "    }\n",
       "\n",
       "    .dataframe tbody tr th {\n",
       "        vertical-align: top;\n",
       "    }\n",
       "\n",
       "    .dataframe thead th {\n",
       "        text-align: right;\n",
       "    }\n",
       "</style>\n",
       "<table border=\"1\" class=\"dataframe\">\n",
       "  <thead>\n",
       "    <tr style=\"text-align: right;\">\n",
       "      <th></th>\n",
       "      <th>POSITIVE</th>\n",
       "      <th>NEGATIVE</th>\n",
       "      <th>FREQS</th>\n",
       "      <th>ORG</th>\n",
       "      <th>SCORE</th>\n",
       "    </tr>\n",
       "  </thead>\n",
       "  <tbody>\n",
       "    <tr>\n",
       "      <th>27</th>\n",
       "      <td>0.126577</td>\n",
       "      <td>0.811773</td>\n",
       "      <td>45</td>\n",
       "      <td>Fidelity</td>\n",
       "      <td>-0.685197</td>\n",
       "    </tr>\n",
       "    <tr>\n",
       "      <th>39</th>\n",
       "      <td>0.098044</td>\n",
       "      <td>0.837524</td>\n",
       "      <td>34</td>\n",
       "      <td>Vanguard</td>\n",
       "      <td>-0.739480</td>\n",
       "    </tr>\n",
       "    <tr>\n",
       "      <th>96</th>\n",
       "      <td>0.169888</td>\n",
       "      <td>0.765741</td>\n",
       "      <td>28</td>\n",
       "      <td>Schwab</td>\n",
       "      <td>-0.595853</td>\n",
       "    </tr>\n",
       "    <tr>\n",
       "      <th>41</th>\n",
       "      <td>0.000000</td>\n",
       "      <td>0.975930</td>\n",
       "      <td>17</td>\n",
       "      <td>Fed</td>\n",
       "      <td>-0.975930</td>\n",
       "    </tr>\n",
       "    <tr>\n",
       "      <th>8</th>\n",
       "      <td>0.031218</td>\n",
       "      <td>0.914816</td>\n",
       "      <td>17</td>\n",
       "      <td>Apple</td>\n",
       "      <td>-0.883597</td>\n",
       "    </tr>\n",
       "  </tbody>\n",
       "</table>\n",
       "</div>"
      ],
      "text/plain": [
       "    POSITIVE  NEGATIVE  FREQS       ORG     SCORE\n",
       "27  0.126577  0.811773     45  Fidelity -0.685197\n",
       "39  0.098044  0.837524     34  Vanguard -0.739480\n",
       "96  0.169888  0.765741     28    Schwab -0.595853\n",
       "41  0.000000  0.975930     17       Fed -0.975930\n",
       "8   0.031218  0.914816     17     Apple -0.883597"
      ]
     },
     "execution_count": 120,
     "metadata": {},
     "output_type": "execute_result"
    }
   ],
   "source": [
    "pd.set_option('display.max_colwidth', None)\n",
    "df_score_sorted.head()"
   ]
  },
  {
   "cell_type": "code",
   "execution_count": 121,
   "id": "a57bedb9-e2c7-4891-bfeb-532228f860a5",
   "metadata": {},
   "outputs": [
    {
     "name": "stdout",
     "output_type": "stream",
     "text": [
      "<class 'pandas.core.frame.DataFrame'>\n",
      "Index: 749 entries, 27 to 748\n",
      "Data columns (total 5 columns):\n",
      " #   Column    Non-Null Count  Dtype  \n",
      "---  ------    --------------  -----  \n",
      " 0   POSITIVE  749 non-null    float64\n",
      " 1   NEGATIVE  749 non-null    float64\n",
      " 2   FREQS     749 non-null    int64  \n",
      " 3   ORG       749 non-null    object \n",
      " 4   SCORE     749 non-null    float64\n",
      "dtypes: float64(3), int64(1), object(1)\n",
      "memory usage: 35.1+ KB\n"
     ]
    }
   ],
   "source": [
    "df_score_sorted.info()"
   ]
  },
  {
   "cell_type": "code",
   "execution_count": 125,
   "id": "a44bb103-de3f-40aa-b3b7-94489249e5ad",
   "metadata": {},
   "outputs": [
    {
     "data": {
      "application/vnd.plotly.v1+json": {
       "config": {
        "plotlyServerURL": "https://plot.ly"
       },
       "data": [
        {
         "alignmentgroup": "True",
         "bingroup": "x",
         "hovertemplate": "SCORE=%{x}<br>count=%{y}<extra></extra>",
         "legendgroup": "",
         "marker": {
          "color": "#636efa",
          "pattern": {
           "shape": ""
          }
         },
         "name": "",
         "offsetgroup": "",
         "orientation": "v",
         "showlegend": false,
         "type": "histogram",
         "x": [
          -0.6851966791682773,
          -0.7394797188394211,
          -0.5958531477621622,
          -0.9759298633126652,
          -0.8835974651224473,
          -0.5596012361347675,
          -0.6933762110196626,
          -0.6835424602031708,
          -0.9218241771062216,
          -0.5797646939754486,
          -0.7834746374024285,
          -0.7736884223090278,
          -0.9933527310689291,
          -0.42324077420764505,
          -0.998290479183197,
          -0.7453853562474251,
          -0.7459037899971008,
          -0.9988212330000741,
          -0.998039322240012,
          -0.9753369603838239,
          -0.4353773593902588,
          0.27404029170672095,
          -0.9945638179779053,
          -0.9808049996693929,
          -0.8674997587998708,
          -0.9713451504707337,
          -0.9944616913795471,
          -0.996876311302185,
          -0.6908655881881713,
          -0.9872203171253204,
          -0.9987219721078873,
          -0.13007360696792603,
          -0.0018028616905212402,
          -0.9187182486057281,
          -0.9968315362930298,
          -0.9972135126590729,
          -0.5286697298288345,
          -0.9787388741970062,
          -0.9961897432804108,
          -0.9896159370740255,
          -0.9779114524523417,
          -0.9976934989293417,
          -0.33410414059956867,
          -0.9931087096532186,
          -0.99742724498113,
          -0.9931087096532186,
          0.26526079575220746,
          -0.9993266661961874,
          -0.994344969590505,
          -0.9410483837127686,
          -0.9984937707583109,
          0.14101322491963703,
          -0.9931486050287882,
          0.14090760548909503,
          0.14091312885284424,
          -0.4275213281313579,
          -0.9984293381373087,
          -0.4497289458910625,
          -0.18950814008712774,
          -0.9320352077484131,
          0.8323039809862772,
          -0.2882933417956034,
          -0.8987791339556376,
          -0.8488628466924032,
          -0.3308235804239909,
          -0.8609866698582967,
          -0.9996318817138672,
          -0.11185503005981445,
          -0.9974681735038757,
          -0.11731219291687012,
          -0.8825342059135437,
          -0.11671885848045349,
          -0.764896422624588,
          -0.003667473793029785,
          0.13170072436332703,
          -0.9998227655887604,
          -0.998566597700119,
          0.003788858652114868,
          -0.9987467229366302,
          -0.11671885848045349,
          -0.9873062372207642,
          0.16928565502166748,
          -0.8239590227603912,
          -0.9371382296085358,
          -0.9991416037082672,
          -0.9614192843437195,
          -0.9959622025489807,
          -0.05738666653633118,
          -0.9971022307872772,
          -0.9963198006153107,
          -0.9943191409111023,
          -0.9959096014499664,
          -0.9996638298034668,
          -0.6782860457897186,
          -0.9999470114707947,
          -0.999828428030014,
          -0.9999838471412659,
          -0.07774382829666138,
          -0.9983971118927002,
          -0.17048439383506775,
          -0.9990735352039337,
          -0.9667719602584839,
          -0.9999798536300659,
          -0.9952212572097778,
          -0.718163400888443,
          -0.9726284146308899,
          -0.9923843145370483,
          -0.0033088624477386475,
          -0.010650724172592163,
          -0.9873062372207642,
          -0.20475777983665466,
          -0.9984884262084961,
          -0.992851048707962,
          -0.9913157224655151,
          -0.9743799865245819,
          -0.9998603761196136,
          -0.9897058606147766,
          -0.9920692145824432,
          -0.9984785318374634,
          -0.9978642165660858,
          -0.9981488883495331,
          -0.9994832277297974,
          -0.9997840523719788,
          -0.9994702935218811,
          -0.9996862411499023,
          -0.9995556473731995,
          -0.9994832277297974,
          -0.9995556473731995,
          -0.9996862411499023,
          -0.8447588086128235,
          -0.9995556473731995,
          -0.9995556473731995,
          -0.8447588086128235,
          -0.9905862212181091,
          -0.9996862411499023,
          -0.9998990297317505,
          -0.9998990297317505,
          -0.9994832277297974,
          0.9935129284858704,
          0.7046378254890442,
          -0.9669797420501709,
          0.7113593220710754,
          0.7113593220710754,
          0.7113593220710754,
          -0.999629020690918,
          0.7113593220710754,
          0.7113593220710754,
          0.7113593220710754,
          0.7113593220710754,
          0.7113593220710754,
          0.7113593220710754,
          -0.9996862411499023,
          -0.9999715089797974,
          0.7113593220710754,
          0.7113593220710754,
          -0.9999934434890747,
          0.7113593220710754,
          -0.999629020690918,
          -0.9995556473731995,
          -0.9993730187416077,
          -0.9769559502601624,
          -0.9995935559272766,
          -0.9995935559272766,
          -0.9996862411499023,
          -0.9999690055847168,
          -0.9996862411499023,
          -0.9977686405181885,
          -0.9946068227291107,
          -0.1704598367214203,
          -0.9977686405181885,
          -0.9873062372207642,
          -0.9873062372207642,
          -0.9873062372207642,
          -0.9996862411499023,
          -0.9943040609359741,
          -0.9996862411499023,
          -0.9804912805557251,
          -0.999629020690918,
          -0.9999685883522034,
          -0.9994832277297974,
          -0.9996862411499023,
          -0.999996542930603,
          -0.9999920129776001,
          0.9202160835266113,
          -0.9608906507492065,
          -0.6904032826423645,
          -0.9953215718269348,
          -0.6904032826423645,
          -0.9769559502601624,
          -0.9996862411499023,
          -0.9459089636802673,
          -0.9842249155044556,
          -0.9845939874649048,
          -0.9845939874649048,
          -0.9252753257751465,
          -0.9459089636802673,
          -0.9252753257751465,
          -0.9252753257751465,
          -0.9845939874649048,
          -0.9845939874649048,
          -0.9252753257751465,
          -0.9999262094497681,
          -0.999901294708252,
          -0.9986045956611633,
          -0.9999796152114868,
          -0.9984825253486633,
          -0.5460039973258972,
          -0.9992339611053467,
          -0.9999915361404419,
          -0.9964115023612976,
          -0.9964115023612976,
          -0.9999434947967529,
          -0.9988419413566589,
          -0.9988419413566589,
          -0.9988419413566589,
          -0.9970882534980774,
          -0.9844694137573242,
          -0.9844694137573242,
          -0.9844694137573242,
          -0.9844694137573242,
          -0.9844694137573242,
          -0.9844694137573242,
          -0.9844694137573242,
          -0.9999632835388184,
          -0.999901294708252,
          -0.999901294708252,
          -0.9999068975448608,
          -0.999901294708252,
          -0.9991175532341003,
          -0.9996590614318848,
          -0.9999520778656006,
          -0.9999796152114868,
          0.7389227151870728,
          -0.9813206791877747,
          -0.9774856567382812,
          -0.9996606111526489,
          -0.9837888479232788,
          -0.9837888479232788,
          -0.9837888479232788,
          -0.9837888479232788,
          -0.9837888479232788,
          -0.9997814297676086,
          -0.8616629242897034,
          0.9351088404655457,
          0.9351088404655457,
          -0.7134320735931396,
          -0.9994922876358032,
          -0.9999977350234985,
          -0.9999977350234985,
          -0.7292224764823914,
          -0.7292224764823914,
          -0.9837888479232788,
          -0.9999958276748657,
          -0.9966273903846741,
          -0.999922513961792,
          -0.9979776740074158,
          -0.9972733855247498,
          -0.9982971549034119,
          0.6590201258659363,
          -0.9982971549034119,
          -0.9982971549034119,
          0.6590201258659363,
          0.6590201258659363,
          0.6590201258659363,
          0.6590201258659363,
          -0.9994974136352539,
          -0.9998384714126587,
          -0.9996606111526489,
          -0.9996606111526489,
          -0.9446895718574524,
          -0.9999562501907349,
          -0.9966273903846741,
          -0.9943099021911621,
          -0.9999772310256958,
          -0.9941067695617676,
          -0.9941067695617676,
          -0.9941067695617676,
          -0.9999344348907471,
          -0.9979776740074158,
          -0.9982354640960693,
          -0.9982354640960693,
          -0.9982354640960693,
          0.9567651748657227,
          0.9947702288627625,
          -0.9987254738807678,
          -0.9968665242195129,
          -0.9968665242195129,
          -0.9968665242195129,
          -0.9998764991760254,
          -0.9999772310256958,
          -0.9894586801528931,
          -0.999914288520813,
          -0.9894586801528931,
          -0.999914288520813,
          -0.999914288520813,
          -0.9988669157028198,
          -0.9988669157028198,
          -0.9988669157028198,
          -0.9988669157028198,
          -0.7812795639038086,
          -0.9795676469802856,
          -0.9999840259552002,
          -0.9955328702926636,
          -0.9617519378662109,
          0.6607517600059509,
          0.6607517600059509,
          -0.9980601668357849,
          0.5307097434997559,
          -0.9997814297676086,
          -0.9966959953308105,
          -0.99167799949646,
          -0.9941650032997131,
          -0.9980752468109131,
          -0.9999033212661743,
          -0.9999033212661743,
          -0.9999423027038574,
          -0.9999423027038574,
          -0.9999423027038574,
          -0.9870834350585938,
          -0.9960867166519165,
          -0.9960867166519165,
          -0.9960867166519165,
          -0.9960867166519165,
          -0.9960867166519165,
          -0.9960867166519165,
          -0.9960867166519165,
          -0.9960867166519165,
          -0.9980752468109131,
          -0.9941650032997131,
          -0.99167799949646,
          -0.9941650032997131,
          -0.9997497200965881,
          -0.9997497200965881,
          -0.9997497200965881,
          -0.9997497200965881,
          -0.9997497200965881,
          -0.9997497200965881,
          -0.9997497200965881,
          -0.9997497200965881,
          -0.9997497200965881,
          0.9784482717514038,
          0.5514634847640991,
          -0.9999767541885376,
          -0.9999767541885376,
          -0.9999942779541016,
          -0.9941650032997131,
          -0.9960867166519165,
          -0.9291248917579651,
          -0.9291248917579651,
          0.6087640523910522,
          -0.9999792575836182,
          -0.9999792575836182,
          -0.9999792575836182,
          -0.9999792575836182,
          -0.9999792575836182,
          -0.9999792575836182,
          -0.9999792575836182,
          -0.9999792575836182,
          -0.9999792575836182,
          -0.9999792575836182,
          0.6502843499183655,
          0.6502843499183655,
          -0.9624898433685303,
          -0.9624898433685303,
          -0.9624898433685303,
          -0.9999792575836182,
          -0.9999792575836182,
          -0.9999792575836182,
          -0.9944250583648682,
          -0.9999631643295288,
          -0.6403462290763855,
          -0.9999305009841919,
          -0.9999305009841919,
          -0.9999305009841919,
          -0.9999850988388062,
          -0.9944250583648682,
          0.5229065418243408,
          -0.9999954700469971,
          -0.9999954700469971,
          -0.9999954700469971,
          -0.9999904632568359,
          -0.998971700668335,
          -0.998971700668335,
          -0.9997497200965881,
          -0.9997497200965881,
          -0.9997497200965881,
          -0.9999397993087769,
          -0.991942286491394,
          -0.991942286491394,
          -0.991942286491394,
          -0.991942286491394,
          -0.991942286491394,
          -0.999916672706604,
          0.9962121248245239,
          -0.9999861717224121,
          -0.9999861717224121,
          -0.9973453879356384,
          -0.9973453879356384,
          -0.9999836683273315,
          -0.9999836683273315,
          -0.9999397993087769,
          -0.9999397993087769,
          -0.991942286491394,
          -0.991942286491394,
          -0.991942286491394,
          -0.9996984004974365,
          -0.9977095127105713,
          -0.9977095127105713,
          -0.9977095127105713,
          -0.9977095127105713,
          -0.9942290782928467,
          -0.9996984004974365,
          -0.9918302893638611,
          -0.991942286491394,
          -0.9918302893638611,
          -0.991942286491394,
          -0.991942286491394,
          -0.991942286491394,
          -0.991942286491394,
          -0.991942286491394,
          -0.9999397993087769,
          -0.9999397993087769,
          -0.9997497200965881,
          -0.9999397993087769,
          -0.9999958276748657,
          -0.9966959953308105,
          -0.9966959953308105,
          -0.9966959953308105,
          -0.9966959953308105,
          -0.9966959953308105,
          -0.9966959953308105,
          -0.9999927282333374,
          -0.9999927282333374,
          -0.9997497200965881,
          -0.9997497200965881,
          -0.9997497200965881,
          -0.9997497200965881,
          -0.9997497200965881,
          -0.9997497200965881,
          -0.9966959953308105,
          -0.9545732140541077,
          -0.9995444416999817,
          -0.9958661794662476,
          -0.6680880784988403,
          -0.9972690939903259,
          0.9267781972885132,
          0.9267781972885132,
          0.9267781972885132,
          0.9267781972885132,
          -0.9447836875915527,
          -0.9995444416999817,
          -0.9447836875915527,
          -0.9995444416999817,
          -0.9995444416999817,
          -0.9995444416999817,
          -0.9995444416999817,
          -0.9995444416999817,
          -0.9999958276748657,
          0.9916954636573792,
          -0.9999958276748657,
          -0.987891674041748,
          -0.9998013377189636,
          -0.9999276399612427,
          -0.997687578201294,
          -0.997687578201294,
          -0.997687578201294,
          -0.997687578201294,
          -0.997687578201294,
          -0.997687578201294,
          -0.997687578201294,
          -0.997687578201294,
          -0.997687578201294,
          -0.9964444041252136,
          -0.9964444041252136,
          -0.9998903274536133,
          -0.9998903274536133,
          -0.9998452663421631,
          -0.9999642372131348,
          -0.9999642372131348,
          -0.999984622001648,
          -0.9984095692634583,
          -0.9995840191841125,
          -0.9995840191841125,
          -0.9996789693832397,
          -0.999934196472168,
          -0.999984622001648,
          -0.9999829530715942,
          -0.999936580657959,
          -0.9999810457229614,
          -0.9999810457229614,
          -0.9999810457229614,
          -0.9999648332595825,
          -0.9999735355377197,
          -0.7672207951545715,
          -0.9998903274536133,
          -0.9992876648902893,
          0.935875415802002,
          -0.9999903440475464,
          -0.9983235001564026,
          -0.9983235001564026,
          -0.999925971031189,
          -0.9996923208236694,
          -0.9996923208236694,
          -0.998379111289978,
          -0.8634019494056702,
          -0.9983235001564026,
          -0.8634019494056702,
          -0.8634019494056702,
          -0.8634019494056702,
          -0.5207668542861938,
          -0.5207668542861938,
          -0.9393746256828308,
          -0.9983235001564026,
          -0.9983235001564026,
          0.935875415802002,
          -0.7755138278007507,
          0.9867493510246277,
          -0.9972681999206543,
          -0.9970147609710693,
          -0.9995231628417969,
          -0.9995231628417969,
          -0.9995231628417969,
          -0.7755138278007507,
          -0.9983235001564026,
          -0.7755138278007507,
          -0.99895179271698,
          -0.99895179271698,
          -0.8897457122802734,
          -0.8897457122802734,
          -0.9983235001564026,
          -0.987891674041748,
          -0.987891674041748,
          -0.9999958276748657,
          -0.9998900890350342,
          0.6828674077987671,
          0.9926239252090454,
          -0.9993353486061096,
          -0.9999775886535645,
          0.7626489996910095,
          0.7626489996910095,
          0.7626489996910095,
          0.7626489996910095,
          -0.9967750906944275,
          -0.9967750906944275,
          -0.9967750906944275,
          -0.9967750906944275,
          -0.9967750906944275,
          0.9880872964859009,
          0.9880872964859009,
          -0.9977304339408875,
          -0.9977304339408875,
          -0.9460100531578064,
          -0.9876356720924377,
          -0.9999555349349976,
          -0.9999761581420898,
          0.8430612087249756,
          0.8430612087249756,
          0.9978233575820923,
          0.8291732668876648,
          -0.9999916553497314,
          -0.9460100531578064,
          -0.9999916553497314,
          -0.9999916553497314,
          -0.9997873902320862,
          -0.9902290105819702,
          -0.9902290105819702,
          -0.9997674822807312,
          0.9880872964859009,
          0.9880872964859009,
          -0.9999942779541016,
          -0.9988462924957275,
          -0.503898024559021,
          0.9977492690086365,
          -0.9988462924957275,
          -0.9988462924957275,
          -0.9988462924957275,
          -0.9988462924957275,
          -0.9885332584381104,
          -0.999933123588562,
          -0.9885332584381104,
          -0.9885332584381104,
          -0.9885332584381104,
          -0.9995469450950623,
          -0.9995469450950623,
          -0.9998900890350342,
          -0.999933123588562,
          -0.999933123588562,
          -0.9999516010284424,
          -0.9992735981941223,
          -0.9999516010284424,
          -0.9999516010284424,
          -0.9995918869972229,
          -0.9995869994163513,
          -0.9995869994163513,
          -0.9992735981941223,
          -0.9992735981941223,
          -0.9999517202377319,
          -0.9584975838661194,
          -0.9999896287918091,
          -0.9988440275192261,
          -0.9988440275192261,
          -0.9988440275192261,
          -0.9988440275192261,
          -0.9999140501022339,
          -0.999924898147583,
          -0.999924898147583,
          -0.999924898147583,
          -0.9997677206993103,
          0.6232775449752808,
          -0.9869863390922546,
          -0.9869863390922546,
          -0.9869863390922546,
          0.5694159865379333,
          0.5694159865379333,
          0.9335879683494568,
          0.9335879683494568,
          0.6345443725585938,
          -0.9655079245567322,
          -0.9972677230834961,
          -0.9972677230834961,
          -0.9999617338180542,
          -0.9999388456344604,
          0.5406901836395264,
          -0.654413640499115,
          -0.654413640499115,
          -0.9797489047050476,
          -0.9864518642425537,
          -0.999618411064148,
          -0.999618411064148,
          -0.999618411064148,
          0.9521543383598328,
          -0.9797489047050476,
          -0.9797489047050476,
          -0.654413640499115,
          -0.9997501969337463,
          -0.9999704360961914,
          -0.9999954700469971,
          -0.9999964237213135,
          0.99298495054245,
          0.99298495054245,
          -0.9999306201934814,
          -0.9999306201934814,
          -0.9998189806938171,
          -0.9999958276748657,
          -0.9999958276748657,
          -0.9999958276748657,
          -0.9999958276748657,
          -0.9999958276748657,
          -0.9999958276748657,
          -0.9999958276748657,
          -0.9999958276748657,
          -0.9999958276748657,
          -0.9999958276748657,
          -0.9999958276748657,
          -0.9999958276748657,
          -0.9999958276748657,
          -0.9999958276748657,
          -0.9999958276748657,
          -0.9999958276748657,
          -0.9999958276748657,
          -0.9998189806938171,
          -0.9957454800605774,
          -0.9929637908935547,
          -0.9929637908935547,
          -0.99395352602005,
          -0.9996757507324219,
          -0.9996757507324219,
          -0.9957454800605774,
          -0.9957454800605774,
          -0.9999958276748657,
          -0.9957454800605774,
          -0.6580177545547485,
          -0.9975619316101074,
          -0.9999958276748657,
          -0.9999958276748657,
          -0.9999958276748657,
          -0.9996883869171143,
          -0.9996883869171143,
          -0.9848843812942505,
          -0.9698743224143982,
          -0.9998830556869507,
          -0.9998830556869507,
          -0.9998830556869507,
          -0.9998830556869507,
          -0.9698743224143982,
          -0.9698743224143982,
          -0.9999045133590698,
          -0.9900912046432495,
          -0.9999045133590698,
          -0.9999045133590698,
          -0.9999045133590698,
          -0.9997779726982117,
          -0.9997779726982117,
          -0.9997779726982117,
          -0.9900912046432495,
          -0.9900912046432495,
          -0.9998586177825928,
          -0.9997319579124451,
          -0.999924898147583,
          -0.9994150400161743,
          -0.9999768733978271,
          -0.996562659740448,
          0.6942678689956665,
          -0.9998915195465088,
          -0.9996935129165649,
          0.8500611186027527,
          -0.9997100234031677,
          -0.9999912977218628,
          -0.9932819604873657,
          -0.9932819604873657,
          -0.9932819604873657,
          -0.9999953508377075,
          0.9950931072235107,
          -0.9999853372573853,
          -0.9848843812942505,
          0.6293879151344299,
          0.9769974946975708,
          0.9769974946975708,
          0.9769974946975708,
          -0.6766064763069153,
          0.6293879151344299,
          0.6293879151344299,
          -0.9980827569961548,
          -0.9999535083770752,
          -0.9863932728767395,
          -0.9993178844451904,
          -0.9990488886833191,
          0.9916954636573792,
          -0.9995065927505493,
          -0.9995065927505493,
          -0.9991840720176697,
          -0.9999535083770752,
          -0.9853449463844299,
          -0.9999771118164062,
          0.9709572196006775,
          -0.9916845560073853,
          -0.9916845560073853,
          -0.9916845560073853,
          -0.9999905824661255,
          -0.9999771118164062,
          -0.9863590598106384,
          -0.9998540878295898,
          -0.9763376116752625,
          -0.9999710321426392,
          -0.9321640729904175,
          -0.9999421834945679,
          -0.999936580657959,
          -0.999937891960144,
          -0.9997932314872742
         ],
         "xaxis": "x",
         "yaxis": "y"
        }
       ],
       "layout": {
        "barmode": "relative",
        "legend": {
         "tracegroupgap": 0
        },
        "margin": {
         "t": 60
        },
        "template": {
         "data": {
          "bar": [
           {
            "error_x": {
             "color": "#2a3f5f"
            },
            "error_y": {
             "color": "#2a3f5f"
            },
            "marker": {
             "line": {
              "color": "#E5ECF6",
              "width": 0.5
             },
             "pattern": {
              "fillmode": "overlay",
              "size": 10,
              "solidity": 0.2
             }
            },
            "type": "bar"
           }
          ],
          "barpolar": [
           {
            "marker": {
             "line": {
              "color": "#E5ECF6",
              "width": 0.5
             },
             "pattern": {
              "fillmode": "overlay",
              "size": 10,
              "solidity": 0.2
             }
            },
            "type": "barpolar"
           }
          ],
          "carpet": [
           {
            "aaxis": {
             "endlinecolor": "#2a3f5f",
             "gridcolor": "white",
             "linecolor": "white",
             "minorgridcolor": "white",
             "startlinecolor": "#2a3f5f"
            },
            "baxis": {
             "endlinecolor": "#2a3f5f",
             "gridcolor": "white",
             "linecolor": "white",
             "minorgridcolor": "white",
             "startlinecolor": "#2a3f5f"
            },
            "type": "carpet"
           }
          ],
          "choropleth": [
           {
            "colorbar": {
             "outlinewidth": 0,
             "ticks": ""
            },
            "type": "choropleth"
           }
          ],
          "contour": [
           {
            "colorbar": {
             "outlinewidth": 0,
             "ticks": ""
            },
            "colorscale": [
             [
              0,
              "#0d0887"
             ],
             [
              0.1111111111111111,
              "#46039f"
             ],
             [
              0.2222222222222222,
              "#7201a8"
             ],
             [
              0.3333333333333333,
              "#9c179e"
             ],
             [
              0.4444444444444444,
              "#bd3786"
             ],
             [
              0.5555555555555556,
              "#d8576b"
             ],
             [
              0.6666666666666666,
              "#ed7953"
             ],
             [
              0.7777777777777778,
              "#fb9f3a"
             ],
             [
              0.8888888888888888,
              "#fdca26"
             ],
             [
              1,
              "#f0f921"
             ]
            ],
            "type": "contour"
           }
          ],
          "contourcarpet": [
           {
            "colorbar": {
             "outlinewidth": 0,
             "ticks": ""
            },
            "type": "contourcarpet"
           }
          ],
          "heatmap": [
           {
            "colorbar": {
             "outlinewidth": 0,
             "ticks": ""
            },
            "colorscale": [
             [
              0,
              "#0d0887"
             ],
             [
              0.1111111111111111,
              "#46039f"
             ],
             [
              0.2222222222222222,
              "#7201a8"
             ],
             [
              0.3333333333333333,
              "#9c179e"
             ],
             [
              0.4444444444444444,
              "#bd3786"
             ],
             [
              0.5555555555555556,
              "#d8576b"
             ],
             [
              0.6666666666666666,
              "#ed7953"
             ],
             [
              0.7777777777777778,
              "#fb9f3a"
             ],
             [
              0.8888888888888888,
              "#fdca26"
             ],
             [
              1,
              "#f0f921"
             ]
            ],
            "type": "heatmap"
           }
          ],
          "heatmapgl": [
           {
            "colorbar": {
             "outlinewidth": 0,
             "ticks": ""
            },
            "colorscale": [
             [
              0,
              "#0d0887"
             ],
             [
              0.1111111111111111,
              "#46039f"
             ],
             [
              0.2222222222222222,
              "#7201a8"
             ],
             [
              0.3333333333333333,
              "#9c179e"
             ],
             [
              0.4444444444444444,
              "#bd3786"
             ],
             [
              0.5555555555555556,
              "#d8576b"
             ],
             [
              0.6666666666666666,
              "#ed7953"
             ],
             [
              0.7777777777777778,
              "#fb9f3a"
             ],
             [
              0.8888888888888888,
              "#fdca26"
             ],
             [
              1,
              "#f0f921"
             ]
            ],
            "type": "heatmapgl"
           }
          ],
          "histogram": [
           {
            "marker": {
             "pattern": {
              "fillmode": "overlay",
              "size": 10,
              "solidity": 0.2
             }
            },
            "type": "histogram"
           }
          ],
          "histogram2d": [
           {
            "colorbar": {
             "outlinewidth": 0,
             "ticks": ""
            },
            "colorscale": [
             [
              0,
              "#0d0887"
             ],
             [
              0.1111111111111111,
              "#46039f"
             ],
             [
              0.2222222222222222,
              "#7201a8"
             ],
             [
              0.3333333333333333,
              "#9c179e"
             ],
             [
              0.4444444444444444,
              "#bd3786"
             ],
             [
              0.5555555555555556,
              "#d8576b"
             ],
             [
              0.6666666666666666,
              "#ed7953"
             ],
             [
              0.7777777777777778,
              "#fb9f3a"
             ],
             [
              0.8888888888888888,
              "#fdca26"
             ],
             [
              1,
              "#f0f921"
             ]
            ],
            "type": "histogram2d"
           }
          ],
          "histogram2dcontour": [
           {
            "colorbar": {
             "outlinewidth": 0,
             "ticks": ""
            },
            "colorscale": [
             [
              0,
              "#0d0887"
             ],
             [
              0.1111111111111111,
              "#46039f"
             ],
             [
              0.2222222222222222,
              "#7201a8"
             ],
             [
              0.3333333333333333,
              "#9c179e"
             ],
             [
              0.4444444444444444,
              "#bd3786"
             ],
             [
              0.5555555555555556,
              "#d8576b"
             ],
             [
              0.6666666666666666,
              "#ed7953"
             ],
             [
              0.7777777777777778,
              "#fb9f3a"
             ],
             [
              0.8888888888888888,
              "#fdca26"
             ],
             [
              1,
              "#f0f921"
             ]
            ],
            "type": "histogram2dcontour"
           }
          ],
          "mesh3d": [
           {
            "colorbar": {
             "outlinewidth": 0,
             "ticks": ""
            },
            "type": "mesh3d"
           }
          ],
          "parcoords": [
           {
            "line": {
             "colorbar": {
              "outlinewidth": 0,
              "ticks": ""
             }
            },
            "type": "parcoords"
           }
          ],
          "pie": [
           {
            "automargin": true,
            "type": "pie"
           }
          ],
          "scatter": [
           {
            "fillpattern": {
             "fillmode": "overlay",
             "size": 10,
             "solidity": 0.2
            },
            "type": "scatter"
           }
          ],
          "scatter3d": [
           {
            "line": {
             "colorbar": {
              "outlinewidth": 0,
              "ticks": ""
             }
            },
            "marker": {
             "colorbar": {
              "outlinewidth": 0,
              "ticks": ""
             }
            },
            "type": "scatter3d"
           }
          ],
          "scattercarpet": [
           {
            "marker": {
             "colorbar": {
              "outlinewidth": 0,
              "ticks": ""
             }
            },
            "type": "scattercarpet"
           }
          ],
          "scattergeo": [
           {
            "marker": {
             "colorbar": {
              "outlinewidth": 0,
              "ticks": ""
             }
            },
            "type": "scattergeo"
           }
          ],
          "scattergl": [
           {
            "marker": {
             "colorbar": {
              "outlinewidth": 0,
              "ticks": ""
             }
            },
            "type": "scattergl"
           }
          ],
          "scattermapbox": [
           {
            "marker": {
             "colorbar": {
              "outlinewidth": 0,
              "ticks": ""
             }
            },
            "type": "scattermapbox"
           }
          ],
          "scatterpolar": [
           {
            "marker": {
             "colorbar": {
              "outlinewidth": 0,
              "ticks": ""
             }
            },
            "type": "scatterpolar"
           }
          ],
          "scatterpolargl": [
           {
            "marker": {
             "colorbar": {
              "outlinewidth": 0,
              "ticks": ""
             }
            },
            "type": "scatterpolargl"
           }
          ],
          "scatterternary": [
           {
            "marker": {
             "colorbar": {
              "outlinewidth": 0,
              "ticks": ""
             }
            },
            "type": "scatterternary"
           }
          ],
          "surface": [
           {
            "colorbar": {
             "outlinewidth": 0,
             "ticks": ""
            },
            "colorscale": [
             [
              0,
              "#0d0887"
             ],
             [
              0.1111111111111111,
              "#46039f"
             ],
             [
              0.2222222222222222,
              "#7201a8"
             ],
             [
              0.3333333333333333,
              "#9c179e"
             ],
             [
              0.4444444444444444,
              "#bd3786"
             ],
             [
              0.5555555555555556,
              "#d8576b"
             ],
             [
              0.6666666666666666,
              "#ed7953"
             ],
             [
              0.7777777777777778,
              "#fb9f3a"
             ],
             [
              0.8888888888888888,
              "#fdca26"
             ],
             [
              1,
              "#f0f921"
             ]
            ],
            "type": "surface"
           }
          ],
          "table": [
           {
            "cells": {
             "fill": {
              "color": "#EBF0F8"
             },
             "line": {
              "color": "white"
             }
            },
            "header": {
             "fill": {
              "color": "#C8D4E3"
             },
             "line": {
              "color": "white"
             }
            },
            "type": "table"
           }
          ]
         },
         "layout": {
          "annotationdefaults": {
           "arrowcolor": "#2a3f5f",
           "arrowhead": 0,
           "arrowwidth": 1
          },
          "autotypenumbers": "strict",
          "coloraxis": {
           "colorbar": {
            "outlinewidth": 0,
            "ticks": ""
           }
          },
          "colorscale": {
           "diverging": [
            [
             0,
             "#8e0152"
            ],
            [
             0.1,
             "#c51b7d"
            ],
            [
             0.2,
             "#de77ae"
            ],
            [
             0.3,
             "#f1b6da"
            ],
            [
             0.4,
             "#fde0ef"
            ],
            [
             0.5,
             "#f7f7f7"
            ],
            [
             0.6,
             "#e6f5d0"
            ],
            [
             0.7,
             "#b8e186"
            ],
            [
             0.8,
             "#7fbc41"
            ],
            [
             0.9,
             "#4d9221"
            ],
            [
             1,
             "#276419"
            ]
           ],
           "sequential": [
            [
             0,
             "#0d0887"
            ],
            [
             0.1111111111111111,
             "#46039f"
            ],
            [
             0.2222222222222222,
             "#7201a8"
            ],
            [
             0.3333333333333333,
             "#9c179e"
            ],
            [
             0.4444444444444444,
             "#bd3786"
            ],
            [
             0.5555555555555556,
             "#d8576b"
            ],
            [
             0.6666666666666666,
             "#ed7953"
            ],
            [
             0.7777777777777778,
             "#fb9f3a"
            ],
            [
             0.8888888888888888,
             "#fdca26"
            ],
            [
             1,
             "#f0f921"
            ]
           ],
           "sequentialminus": [
            [
             0,
             "#0d0887"
            ],
            [
             0.1111111111111111,
             "#46039f"
            ],
            [
             0.2222222222222222,
             "#7201a8"
            ],
            [
             0.3333333333333333,
             "#9c179e"
            ],
            [
             0.4444444444444444,
             "#bd3786"
            ],
            [
             0.5555555555555556,
             "#d8576b"
            ],
            [
             0.6666666666666666,
             "#ed7953"
            ],
            [
             0.7777777777777778,
             "#fb9f3a"
            ],
            [
             0.8888888888888888,
             "#fdca26"
            ],
            [
             1,
             "#f0f921"
            ]
           ]
          },
          "colorway": [
           "#636efa",
           "#EF553B",
           "#00cc96",
           "#ab63fa",
           "#FFA15A",
           "#19d3f3",
           "#FF6692",
           "#B6E880",
           "#FF97FF",
           "#FECB52"
          ],
          "font": {
           "color": "#2a3f5f"
          },
          "geo": {
           "bgcolor": "white",
           "lakecolor": "white",
           "landcolor": "#E5ECF6",
           "showlakes": true,
           "showland": true,
           "subunitcolor": "white"
          },
          "hoverlabel": {
           "align": "left"
          },
          "hovermode": "closest",
          "mapbox": {
           "style": "light"
          },
          "paper_bgcolor": "white",
          "plot_bgcolor": "#E5ECF6",
          "polar": {
           "angularaxis": {
            "gridcolor": "white",
            "linecolor": "white",
            "ticks": ""
           },
           "bgcolor": "#E5ECF6",
           "radialaxis": {
            "gridcolor": "white",
            "linecolor": "white",
            "ticks": ""
           }
          },
          "scene": {
           "xaxis": {
            "backgroundcolor": "#E5ECF6",
            "gridcolor": "white",
            "gridwidth": 2,
            "linecolor": "white",
            "showbackground": true,
            "ticks": "",
            "zerolinecolor": "white"
           },
           "yaxis": {
            "backgroundcolor": "#E5ECF6",
            "gridcolor": "white",
            "gridwidth": 2,
            "linecolor": "white",
            "showbackground": true,
            "ticks": "",
            "zerolinecolor": "white"
           },
           "zaxis": {
            "backgroundcolor": "#E5ECF6",
            "gridcolor": "white",
            "gridwidth": 2,
            "linecolor": "white",
            "showbackground": true,
            "ticks": "",
            "zerolinecolor": "white"
           }
          },
          "shapedefaults": {
           "line": {
            "color": "#2a3f5f"
           }
          },
          "ternary": {
           "aaxis": {
            "gridcolor": "white",
            "linecolor": "white",
            "ticks": ""
           },
           "baxis": {
            "gridcolor": "white",
            "linecolor": "white",
            "ticks": ""
           },
           "bgcolor": "#E5ECF6",
           "caxis": {
            "gridcolor": "white",
            "linecolor": "white",
            "ticks": ""
           }
          },
          "title": {
           "x": 0.05
          },
          "xaxis": {
           "automargin": true,
           "gridcolor": "white",
           "linecolor": "white",
           "ticks": "",
           "title": {
            "standoff": 15
           },
           "zerolinecolor": "white",
           "zerolinewidth": 2
          },
          "yaxis": {
           "automargin": true,
           "gridcolor": "white",
           "linecolor": "white",
           "ticks": "",
           "title": {
            "standoff": 15
           },
           "zerolinecolor": "white",
           "zerolinewidth": 2
          }
         }
        },
        "xaxis": {
         "anchor": "y",
         "domain": [
          0,
          1
         ],
         "title": {
          "text": "SCORE"
         }
        },
        "yaxis": {
         "anchor": "x",
         "domain": [
          0,
          1
         ],
         "title": {
          "text": "count"
         }
        }
       }
      },
      "text/html": [
       "<div>                            <div id=\"8371d3f9-ee85-42f1-b153-7611c93014e8\" class=\"plotly-graph-div\" style=\"height:525px; width:100%;\"></div>            <script type=\"text/javascript\">                require([\"plotly\"], function(Plotly) {                    window.PLOTLYENV=window.PLOTLYENV || {};                                    if (document.getElementById(\"8371d3f9-ee85-42f1-b153-7611c93014e8\")) {                    Plotly.newPlot(                        \"8371d3f9-ee85-42f1-b153-7611c93014e8\",                        [{\"alignmentgroup\":\"True\",\"bingroup\":\"x\",\"hovertemplate\":\"SCORE=%{x}\\u003cbr\\u003ecount=%{y}\\u003cextra\\u003e\\u003c\\u002fextra\\u003e\",\"legendgroup\":\"\",\"marker\":{\"color\":\"#636efa\",\"pattern\":{\"shape\":\"\"}},\"name\":\"\",\"offsetgroup\":\"\",\"orientation\":\"v\",\"showlegend\":false,\"x\":[-0.6851966791682773,-0.7394797188394211,-0.5958531477621622,-0.9759298633126652,-0.8835974651224473,-0.5596012361347675,-0.6933762110196626,-0.6835424602031708,-0.9218241771062216,-0.5797646939754486,-0.7834746374024285,-0.7736884223090278,-0.9933527310689291,-0.42324077420764505,-0.998290479183197,-0.7453853562474251,-0.7459037899971008,-0.9988212330000741,-0.998039322240012,-0.9753369603838239,-0.4353773593902588,0.27404029170672095,-0.9945638179779053,-0.9808049996693929,-0.8674997587998708,-0.9713451504707337,-0.9944616913795471,-0.996876311302185,-0.6908655881881713,-0.9872203171253204,-0.9987219721078873,-0.13007360696792603,-0.0018028616905212402,-0.9187182486057281,-0.9968315362930298,-0.9972135126590729,-0.5286697298288345,-0.9787388741970062,-0.9961897432804108,-0.9896159370740255,-0.9779114524523417,-0.9976934989293417,-0.33410414059956867,-0.9931087096532186,-0.99742724498113,-0.9931087096532186,0.26526079575220746,-0.9993266661961874,-0.994344969590505,-0.9410483837127686,-0.9984937707583109,0.14101322491963703,-0.9931486050287882,0.14090760548909503,0.14091312885284424,-0.4275213281313579,-0.9984293381373087,-0.4497289458910625,-0.18950814008712774,-0.9320352077484131,0.8323039809862772,-0.2882933417956034,-0.8987791339556376,-0.8488628466924032,-0.3308235804239909,-0.8609866698582967,-0.9996318817138672,-0.11185503005981445,-0.9974681735038757,-0.11731219291687012,-0.8825342059135437,-0.11671885848045349,-0.764896422624588,-0.003667473793029785,0.13170072436332703,-0.9998227655887604,-0.998566597700119,0.003788858652114868,-0.9987467229366302,-0.11671885848045349,-0.9873062372207642,0.16928565502166748,-0.8239590227603912,-0.9371382296085358,-0.9991416037082672,-0.9614192843437195,-0.9959622025489807,-0.05738666653633118,-0.9971022307872772,-0.9963198006153107,-0.9943191409111023,-0.9959096014499664,-0.9996638298034668,-0.6782860457897186,-0.9999470114707947,-0.999828428030014,-0.9999838471412659,-0.07774382829666138,-0.9983971118927002,-0.17048439383506775,-0.9990735352039337,-0.9667719602584839,-0.9999798536300659,-0.9952212572097778,-0.718163400888443,-0.9726284146308899,-0.9923843145370483,-0.0033088624477386475,-0.010650724172592163,-0.9873062372207642,-0.20475777983665466,-0.9984884262084961,-0.992851048707962,-0.9913157224655151,-0.9743799865245819,-0.9998603761196136,-0.9897058606147766,-0.9920692145824432,-0.9984785318374634,-0.9978642165660858,-0.9981488883495331,-0.9994832277297974,-0.9997840523719788,-0.9994702935218811,-0.9996862411499023,-0.9995556473731995,-0.9994832277297974,-0.9995556473731995,-0.9996862411499023,-0.8447588086128235,-0.9995556473731995,-0.9995556473731995,-0.8447588086128235,-0.9905862212181091,-0.9996862411499023,-0.9998990297317505,-0.9998990297317505,-0.9994832277297974,0.9935129284858704,0.7046378254890442,-0.9669797420501709,0.7113593220710754,0.7113593220710754,0.7113593220710754,-0.999629020690918,0.7113593220710754,0.7113593220710754,0.7113593220710754,0.7113593220710754,0.7113593220710754,0.7113593220710754,-0.9996862411499023,-0.9999715089797974,0.7113593220710754,0.7113593220710754,-0.9999934434890747,0.7113593220710754,-0.999629020690918,-0.9995556473731995,-0.9993730187416077,-0.9769559502601624,-0.9995935559272766,-0.9995935559272766,-0.9996862411499023,-0.9999690055847168,-0.9996862411499023,-0.9977686405181885,-0.9946068227291107,-0.1704598367214203,-0.9977686405181885,-0.9873062372207642,-0.9873062372207642,-0.9873062372207642,-0.9996862411499023,-0.9943040609359741,-0.9996862411499023,-0.9804912805557251,-0.999629020690918,-0.9999685883522034,-0.9994832277297974,-0.9996862411499023,-0.999996542930603,-0.9999920129776001,0.9202160835266113,-0.9608906507492065,-0.6904032826423645,-0.9953215718269348,-0.6904032826423645,-0.9769559502601624,-0.9996862411499023,-0.9459089636802673,-0.9842249155044556,-0.9845939874649048,-0.9845939874649048,-0.9252753257751465,-0.9459089636802673,-0.9252753257751465,-0.9252753257751465,-0.9845939874649048,-0.9845939874649048,-0.9252753257751465,-0.9999262094497681,-0.999901294708252,-0.9986045956611633,-0.9999796152114868,-0.9984825253486633,-0.5460039973258972,-0.9992339611053467,-0.9999915361404419,-0.9964115023612976,-0.9964115023612976,-0.9999434947967529,-0.9988419413566589,-0.9988419413566589,-0.9988419413566589,-0.9970882534980774,-0.9844694137573242,-0.9844694137573242,-0.9844694137573242,-0.9844694137573242,-0.9844694137573242,-0.9844694137573242,-0.9844694137573242,-0.9999632835388184,-0.999901294708252,-0.999901294708252,-0.9999068975448608,-0.999901294708252,-0.9991175532341003,-0.9996590614318848,-0.9999520778656006,-0.9999796152114868,0.7389227151870728,-0.9813206791877747,-0.9774856567382812,-0.9996606111526489,-0.9837888479232788,-0.9837888479232788,-0.9837888479232788,-0.9837888479232788,-0.9837888479232788,-0.9997814297676086,-0.8616629242897034,0.9351088404655457,0.9351088404655457,-0.7134320735931396,-0.9994922876358032,-0.9999977350234985,-0.9999977350234985,-0.7292224764823914,-0.7292224764823914,-0.9837888479232788,-0.9999958276748657,-0.9966273903846741,-0.999922513961792,-0.9979776740074158,-0.9972733855247498,-0.9982971549034119,0.6590201258659363,-0.9982971549034119,-0.9982971549034119,0.6590201258659363,0.6590201258659363,0.6590201258659363,0.6590201258659363,-0.9994974136352539,-0.9998384714126587,-0.9996606111526489,-0.9996606111526489,-0.9446895718574524,-0.9999562501907349,-0.9966273903846741,-0.9943099021911621,-0.9999772310256958,-0.9941067695617676,-0.9941067695617676,-0.9941067695617676,-0.9999344348907471,-0.9979776740074158,-0.9982354640960693,-0.9982354640960693,-0.9982354640960693,0.9567651748657227,0.9947702288627625,-0.9987254738807678,-0.9968665242195129,-0.9968665242195129,-0.9968665242195129,-0.9998764991760254,-0.9999772310256958,-0.9894586801528931,-0.999914288520813,-0.9894586801528931,-0.999914288520813,-0.999914288520813,-0.9988669157028198,-0.9988669157028198,-0.9988669157028198,-0.9988669157028198,-0.7812795639038086,-0.9795676469802856,-0.9999840259552002,-0.9955328702926636,-0.9617519378662109,0.6607517600059509,0.6607517600059509,-0.9980601668357849,0.5307097434997559,-0.9997814297676086,-0.9966959953308105,-0.99167799949646,-0.9941650032997131,-0.9980752468109131,-0.9999033212661743,-0.9999033212661743,-0.9999423027038574,-0.9999423027038574,-0.9999423027038574,-0.9870834350585938,-0.9960867166519165,-0.9960867166519165,-0.9960867166519165,-0.9960867166519165,-0.9960867166519165,-0.9960867166519165,-0.9960867166519165,-0.9960867166519165,-0.9980752468109131,-0.9941650032997131,-0.99167799949646,-0.9941650032997131,-0.9997497200965881,-0.9997497200965881,-0.9997497200965881,-0.9997497200965881,-0.9997497200965881,-0.9997497200965881,-0.9997497200965881,-0.9997497200965881,-0.9997497200965881,0.9784482717514038,0.5514634847640991,-0.9999767541885376,-0.9999767541885376,-0.9999942779541016,-0.9941650032997131,-0.9960867166519165,-0.9291248917579651,-0.9291248917579651,0.6087640523910522,-0.9999792575836182,-0.9999792575836182,-0.9999792575836182,-0.9999792575836182,-0.9999792575836182,-0.9999792575836182,-0.9999792575836182,-0.9999792575836182,-0.9999792575836182,-0.9999792575836182,0.6502843499183655,0.6502843499183655,-0.9624898433685303,-0.9624898433685303,-0.9624898433685303,-0.9999792575836182,-0.9999792575836182,-0.9999792575836182,-0.9944250583648682,-0.9999631643295288,-0.6403462290763855,-0.9999305009841919,-0.9999305009841919,-0.9999305009841919,-0.9999850988388062,-0.9944250583648682,0.5229065418243408,-0.9999954700469971,-0.9999954700469971,-0.9999954700469971,-0.9999904632568359,-0.998971700668335,-0.998971700668335,-0.9997497200965881,-0.9997497200965881,-0.9997497200965881,-0.9999397993087769,-0.991942286491394,-0.991942286491394,-0.991942286491394,-0.991942286491394,-0.991942286491394,-0.999916672706604,0.9962121248245239,-0.9999861717224121,-0.9999861717224121,-0.9973453879356384,-0.9973453879356384,-0.9999836683273315,-0.9999836683273315,-0.9999397993087769,-0.9999397993087769,-0.991942286491394,-0.991942286491394,-0.991942286491394,-0.9996984004974365,-0.9977095127105713,-0.9977095127105713,-0.9977095127105713,-0.9977095127105713,-0.9942290782928467,-0.9996984004974365,-0.9918302893638611,-0.991942286491394,-0.9918302893638611,-0.991942286491394,-0.991942286491394,-0.991942286491394,-0.991942286491394,-0.991942286491394,-0.9999397993087769,-0.9999397993087769,-0.9997497200965881,-0.9999397993087769,-0.9999958276748657,-0.9966959953308105,-0.9966959953308105,-0.9966959953308105,-0.9966959953308105,-0.9966959953308105,-0.9966959953308105,-0.9999927282333374,-0.9999927282333374,-0.9997497200965881,-0.9997497200965881,-0.9997497200965881,-0.9997497200965881,-0.9997497200965881,-0.9997497200965881,-0.9966959953308105,-0.9545732140541077,-0.9995444416999817,-0.9958661794662476,-0.6680880784988403,-0.9972690939903259,0.9267781972885132,0.9267781972885132,0.9267781972885132,0.9267781972885132,-0.9447836875915527,-0.9995444416999817,-0.9447836875915527,-0.9995444416999817,-0.9995444416999817,-0.9995444416999817,-0.9995444416999817,-0.9995444416999817,-0.9999958276748657,0.9916954636573792,-0.9999958276748657,-0.987891674041748,-0.9998013377189636,-0.9999276399612427,-0.997687578201294,-0.997687578201294,-0.997687578201294,-0.997687578201294,-0.997687578201294,-0.997687578201294,-0.997687578201294,-0.997687578201294,-0.997687578201294,-0.9964444041252136,-0.9964444041252136,-0.9998903274536133,-0.9998903274536133,-0.9998452663421631,-0.9999642372131348,-0.9999642372131348,-0.999984622001648,-0.9984095692634583,-0.9995840191841125,-0.9995840191841125,-0.9996789693832397,-0.999934196472168,-0.999984622001648,-0.9999829530715942,-0.999936580657959,-0.9999810457229614,-0.9999810457229614,-0.9999810457229614,-0.9999648332595825,-0.9999735355377197,-0.7672207951545715,-0.9998903274536133,-0.9992876648902893,0.935875415802002,-0.9999903440475464,-0.9983235001564026,-0.9983235001564026,-0.999925971031189,-0.9996923208236694,-0.9996923208236694,-0.998379111289978,-0.8634019494056702,-0.9983235001564026,-0.8634019494056702,-0.8634019494056702,-0.8634019494056702,-0.5207668542861938,-0.5207668542861938,-0.9393746256828308,-0.9983235001564026,-0.9983235001564026,0.935875415802002,-0.7755138278007507,0.9867493510246277,-0.9972681999206543,-0.9970147609710693,-0.9995231628417969,-0.9995231628417969,-0.9995231628417969,-0.7755138278007507,-0.9983235001564026,-0.7755138278007507,-0.99895179271698,-0.99895179271698,-0.8897457122802734,-0.8897457122802734,-0.9983235001564026,-0.987891674041748,-0.987891674041748,-0.9999958276748657,-0.9998900890350342,0.6828674077987671,0.9926239252090454,-0.9993353486061096,-0.9999775886535645,0.7626489996910095,0.7626489996910095,0.7626489996910095,0.7626489996910095,-0.9967750906944275,-0.9967750906944275,-0.9967750906944275,-0.9967750906944275,-0.9967750906944275,0.9880872964859009,0.9880872964859009,-0.9977304339408875,-0.9977304339408875,-0.9460100531578064,-0.9876356720924377,-0.9999555349349976,-0.9999761581420898,0.8430612087249756,0.8430612087249756,0.9978233575820923,0.8291732668876648,-0.9999916553497314,-0.9460100531578064,-0.9999916553497314,-0.9999916553497314,-0.9997873902320862,-0.9902290105819702,-0.9902290105819702,-0.9997674822807312,0.9880872964859009,0.9880872964859009,-0.9999942779541016,-0.9988462924957275,-0.503898024559021,0.9977492690086365,-0.9988462924957275,-0.9988462924957275,-0.9988462924957275,-0.9988462924957275,-0.9885332584381104,-0.999933123588562,-0.9885332584381104,-0.9885332584381104,-0.9885332584381104,-0.9995469450950623,-0.9995469450950623,-0.9998900890350342,-0.999933123588562,-0.999933123588562,-0.9999516010284424,-0.9992735981941223,-0.9999516010284424,-0.9999516010284424,-0.9995918869972229,-0.9995869994163513,-0.9995869994163513,-0.9992735981941223,-0.9992735981941223,-0.9999517202377319,-0.9584975838661194,-0.9999896287918091,-0.9988440275192261,-0.9988440275192261,-0.9988440275192261,-0.9988440275192261,-0.9999140501022339,-0.999924898147583,-0.999924898147583,-0.999924898147583,-0.9997677206993103,0.6232775449752808,-0.9869863390922546,-0.9869863390922546,-0.9869863390922546,0.5694159865379333,0.5694159865379333,0.9335879683494568,0.9335879683494568,0.6345443725585938,-0.9655079245567322,-0.9972677230834961,-0.9972677230834961,-0.9999617338180542,-0.9999388456344604,0.5406901836395264,-0.654413640499115,-0.654413640499115,-0.9797489047050476,-0.9864518642425537,-0.999618411064148,-0.999618411064148,-0.999618411064148,0.9521543383598328,-0.9797489047050476,-0.9797489047050476,-0.654413640499115,-0.9997501969337463,-0.9999704360961914,-0.9999954700469971,-0.9999964237213135,0.99298495054245,0.99298495054245,-0.9999306201934814,-0.9999306201934814,-0.9998189806938171,-0.9999958276748657,-0.9999958276748657,-0.9999958276748657,-0.9999958276748657,-0.9999958276748657,-0.9999958276748657,-0.9999958276748657,-0.9999958276748657,-0.9999958276748657,-0.9999958276748657,-0.9999958276748657,-0.9999958276748657,-0.9999958276748657,-0.9999958276748657,-0.9999958276748657,-0.9999958276748657,-0.9999958276748657,-0.9998189806938171,-0.9957454800605774,-0.9929637908935547,-0.9929637908935547,-0.99395352602005,-0.9996757507324219,-0.9996757507324219,-0.9957454800605774,-0.9957454800605774,-0.9999958276748657,-0.9957454800605774,-0.6580177545547485,-0.9975619316101074,-0.9999958276748657,-0.9999958276748657,-0.9999958276748657,-0.9996883869171143,-0.9996883869171143,-0.9848843812942505,-0.9698743224143982,-0.9998830556869507,-0.9998830556869507,-0.9998830556869507,-0.9998830556869507,-0.9698743224143982,-0.9698743224143982,-0.9999045133590698,-0.9900912046432495,-0.9999045133590698,-0.9999045133590698,-0.9999045133590698,-0.9997779726982117,-0.9997779726982117,-0.9997779726982117,-0.9900912046432495,-0.9900912046432495,-0.9998586177825928,-0.9997319579124451,-0.999924898147583,-0.9994150400161743,-0.9999768733978271,-0.996562659740448,0.6942678689956665,-0.9998915195465088,-0.9996935129165649,0.8500611186027527,-0.9997100234031677,-0.9999912977218628,-0.9932819604873657,-0.9932819604873657,-0.9932819604873657,-0.9999953508377075,0.9950931072235107,-0.9999853372573853,-0.9848843812942505,0.6293879151344299,0.9769974946975708,0.9769974946975708,0.9769974946975708,-0.6766064763069153,0.6293879151344299,0.6293879151344299,-0.9980827569961548,-0.9999535083770752,-0.9863932728767395,-0.9993178844451904,-0.9990488886833191,0.9916954636573792,-0.9995065927505493,-0.9995065927505493,-0.9991840720176697,-0.9999535083770752,-0.9853449463844299,-0.9999771118164062,0.9709572196006775,-0.9916845560073853,-0.9916845560073853,-0.9916845560073853,-0.9999905824661255,-0.9999771118164062,-0.9863590598106384,-0.9998540878295898,-0.9763376116752625,-0.9999710321426392,-0.9321640729904175,-0.9999421834945679,-0.999936580657959,-0.999937891960144,-0.9997932314872742],\"xaxis\":\"x\",\"yaxis\":\"y\",\"type\":\"histogram\"}],                        {\"template\":{\"data\":{\"histogram2dcontour\":[{\"type\":\"histogram2dcontour\",\"colorbar\":{\"outlinewidth\":0,\"ticks\":\"\"},\"colorscale\":[[0.0,\"#0d0887\"],[0.1111111111111111,\"#46039f\"],[0.2222222222222222,\"#7201a8\"],[0.3333333333333333,\"#9c179e\"],[0.4444444444444444,\"#bd3786\"],[0.5555555555555556,\"#d8576b\"],[0.6666666666666666,\"#ed7953\"],[0.7777777777777778,\"#fb9f3a\"],[0.8888888888888888,\"#fdca26\"],[1.0,\"#f0f921\"]]}],\"choropleth\":[{\"type\":\"choropleth\",\"colorbar\":{\"outlinewidth\":0,\"ticks\":\"\"}}],\"histogram2d\":[{\"type\":\"histogram2d\",\"colorbar\":{\"outlinewidth\":0,\"ticks\":\"\"},\"colorscale\":[[0.0,\"#0d0887\"],[0.1111111111111111,\"#46039f\"],[0.2222222222222222,\"#7201a8\"],[0.3333333333333333,\"#9c179e\"],[0.4444444444444444,\"#bd3786\"],[0.5555555555555556,\"#d8576b\"],[0.6666666666666666,\"#ed7953\"],[0.7777777777777778,\"#fb9f3a\"],[0.8888888888888888,\"#fdca26\"],[1.0,\"#f0f921\"]]}],\"heatmap\":[{\"type\":\"heatmap\",\"colorbar\":{\"outlinewidth\":0,\"ticks\":\"\"},\"colorscale\":[[0.0,\"#0d0887\"],[0.1111111111111111,\"#46039f\"],[0.2222222222222222,\"#7201a8\"],[0.3333333333333333,\"#9c179e\"],[0.4444444444444444,\"#bd3786\"],[0.5555555555555556,\"#d8576b\"],[0.6666666666666666,\"#ed7953\"],[0.7777777777777778,\"#fb9f3a\"],[0.8888888888888888,\"#fdca26\"],[1.0,\"#f0f921\"]]}],\"heatmapgl\":[{\"type\":\"heatmapgl\",\"colorbar\":{\"outlinewidth\":0,\"ticks\":\"\"},\"colorscale\":[[0.0,\"#0d0887\"],[0.1111111111111111,\"#46039f\"],[0.2222222222222222,\"#7201a8\"],[0.3333333333333333,\"#9c179e\"],[0.4444444444444444,\"#bd3786\"],[0.5555555555555556,\"#d8576b\"],[0.6666666666666666,\"#ed7953\"],[0.7777777777777778,\"#fb9f3a\"],[0.8888888888888888,\"#fdca26\"],[1.0,\"#f0f921\"]]}],\"contourcarpet\":[{\"type\":\"contourcarpet\",\"colorbar\":{\"outlinewidth\":0,\"ticks\":\"\"}}],\"contour\":[{\"type\":\"contour\",\"colorbar\":{\"outlinewidth\":0,\"ticks\":\"\"},\"colorscale\":[[0.0,\"#0d0887\"],[0.1111111111111111,\"#46039f\"],[0.2222222222222222,\"#7201a8\"],[0.3333333333333333,\"#9c179e\"],[0.4444444444444444,\"#bd3786\"],[0.5555555555555556,\"#d8576b\"],[0.6666666666666666,\"#ed7953\"],[0.7777777777777778,\"#fb9f3a\"],[0.8888888888888888,\"#fdca26\"],[1.0,\"#f0f921\"]]}],\"surface\":[{\"type\":\"surface\",\"colorbar\":{\"outlinewidth\":0,\"ticks\":\"\"},\"colorscale\":[[0.0,\"#0d0887\"],[0.1111111111111111,\"#46039f\"],[0.2222222222222222,\"#7201a8\"],[0.3333333333333333,\"#9c179e\"],[0.4444444444444444,\"#bd3786\"],[0.5555555555555556,\"#d8576b\"],[0.6666666666666666,\"#ed7953\"],[0.7777777777777778,\"#fb9f3a\"],[0.8888888888888888,\"#fdca26\"],[1.0,\"#f0f921\"]]}],\"mesh3d\":[{\"type\":\"mesh3d\",\"colorbar\":{\"outlinewidth\":0,\"ticks\":\"\"}}],\"scatter\":[{\"fillpattern\":{\"fillmode\":\"overlay\",\"size\":10,\"solidity\":0.2},\"type\":\"scatter\"}],\"parcoords\":[{\"type\":\"parcoords\",\"line\":{\"colorbar\":{\"outlinewidth\":0,\"ticks\":\"\"}}}],\"scatterpolargl\":[{\"type\":\"scatterpolargl\",\"marker\":{\"colorbar\":{\"outlinewidth\":0,\"ticks\":\"\"}}}],\"bar\":[{\"error_x\":{\"color\":\"#2a3f5f\"},\"error_y\":{\"color\":\"#2a3f5f\"},\"marker\":{\"line\":{\"color\":\"#E5ECF6\",\"width\":0.5},\"pattern\":{\"fillmode\":\"overlay\",\"size\":10,\"solidity\":0.2}},\"type\":\"bar\"}],\"scattergeo\":[{\"type\":\"scattergeo\",\"marker\":{\"colorbar\":{\"outlinewidth\":0,\"ticks\":\"\"}}}],\"scatterpolar\":[{\"type\":\"scatterpolar\",\"marker\":{\"colorbar\":{\"outlinewidth\":0,\"ticks\":\"\"}}}],\"histogram\":[{\"marker\":{\"pattern\":{\"fillmode\":\"overlay\",\"size\":10,\"solidity\":0.2}},\"type\":\"histogram\"}],\"scattergl\":[{\"type\":\"scattergl\",\"marker\":{\"colorbar\":{\"outlinewidth\":0,\"ticks\":\"\"}}}],\"scatter3d\":[{\"type\":\"scatter3d\",\"line\":{\"colorbar\":{\"outlinewidth\":0,\"ticks\":\"\"}},\"marker\":{\"colorbar\":{\"outlinewidth\":0,\"ticks\":\"\"}}}],\"scattermapbox\":[{\"type\":\"scattermapbox\",\"marker\":{\"colorbar\":{\"outlinewidth\":0,\"ticks\":\"\"}}}],\"scatterternary\":[{\"type\":\"scatterternary\",\"marker\":{\"colorbar\":{\"outlinewidth\":0,\"ticks\":\"\"}}}],\"scattercarpet\":[{\"type\":\"scattercarpet\",\"marker\":{\"colorbar\":{\"outlinewidth\":0,\"ticks\":\"\"}}}],\"carpet\":[{\"aaxis\":{\"endlinecolor\":\"#2a3f5f\",\"gridcolor\":\"white\",\"linecolor\":\"white\",\"minorgridcolor\":\"white\",\"startlinecolor\":\"#2a3f5f\"},\"baxis\":{\"endlinecolor\":\"#2a3f5f\",\"gridcolor\":\"white\",\"linecolor\":\"white\",\"minorgridcolor\":\"white\",\"startlinecolor\":\"#2a3f5f\"},\"type\":\"carpet\"}],\"table\":[{\"cells\":{\"fill\":{\"color\":\"#EBF0F8\"},\"line\":{\"color\":\"white\"}},\"header\":{\"fill\":{\"color\":\"#C8D4E3\"},\"line\":{\"color\":\"white\"}},\"type\":\"table\"}],\"barpolar\":[{\"marker\":{\"line\":{\"color\":\"#E5ECF6\",\"width\":0.5},\"pattern\":{\"fillmode\":\"overlay\",\"size\":10,\"solidity\":0.2}},\"type\":\"barpolar\"}],\"pie\":[{\"automargin\":true,\"type\":\"pie\"}]},\"layout\":{\"autotypenumbers\":\"strict\",\"colorway\":[\"#636efa\",\"#EF553B\",\"#00cc96\",\"#ab63fa\",\"#FFA15A\",\"#19d3f3\",\"#FF6692\",\"#B6E880\",\"#FF97FF\",\"#FECB52\"],\"font\":{\"color\":\"#2a3f5f\"},\"hovermode\":\"closest\",\"hoverlabel\":{\"align\":\"left\"},\"paper_bgcolor\":\"white\",\"plot_bgcolor\":\"#E5ECF6\",\"polar\":{\"bgcolor\":\"#E5ECF6\",\"angularaxis\":{\"gridcolor\":\"white\",\"linecolor\":\"white\",\"ticks\":\"\"},\"radialaxis\":{\"gridcolor\":\"white\",\"linecolor\":\"white\",\"ticks\":\"\"}},\"ternary\":{\"bgcolor\":\"#E5ECF6\",\"aaxis\":{\"gridcolor\":\"white\",\"linecolor\":\"white\",\"ticks\":\"\"},\"baxis\":{\"gridcolor\":\"white\",\"linecolor\":\"white\",\"ticks\":\"\"},\"caxis\":{\"gridcolor\":\"white\",\"linecolor\":\"white\",\"ticks\":\"\"}},\"coloraxis\":{\"colorbar\":{\"outlinewidth\":0,\"ticks\":\"\"}},\"colorscale\":{\"sequential\":[[0.0,\"#0d0887\"],[0.1111111111111111,\"#46039f\"],[0.2222222222222222,\"#7201a8\"],[0.3333333333333333,\"#9c179e\"],[0.4444444444444444,\"#bd3786\"],[0.5555555555555556,\"#d8576b\"],[0.6666666666666666,\"#ed7953\"],[0.7777777777777778,\"#fb9f3a\"],[0.8888888888888888,\"#fdca26\"],[1.0,\"#f0f921\"]],\"sequentialminus\":[[0.0,\"#0d0887\"],[0.1111111111111111,\"#46039f\"],[0.2222222222222222,\"#7201a8\"],[0.3333333333333333,\"#9c179e\"],[0.4444444444444444,\"#bd3786\"],[0.5555555555555556,\"#d8576b\"],[0.6666666666666666,\"#ed7953\"],[0.7777777777777778,\"#fb9f3a\"],[0.8888888888888888,\"#fdca26\"],[1.0,\"#f0f921\"]],\"diverging\":[[0,\"#8e0152\"],[0.1,\"#c51b7d\"],[0.2,\"#de77ae\"],[0.3,\"#f1b6da\"],[0.4,\"#fde0ef\"],[0.5,\"#f7f7f7\"],[0.6,\"#e6f5d0\"],[0.7,\"#b8e186\"],[0.8,\"#7fbc41\"],[0.9,\"#4d9221\"],[1,\"#276419\"]]},\"xaxis\":{\"gridcolor\":\"white\",\"linecolor\":\"white\",\"ticks\":\"\",\"title\":{\"standoff\":15},\"zerolinecolor\":\"white\",\"automargin\":true,\"zerolinewidth\":2},\"yaxis\":{\"gridcolor\":\"white\",\"linecolor\":\"white\",\"ticks\":\"\",\"title\":{\"standoff\":15},\"zerolinecolor\":\"white\",\"automargin\":true,\"zerolinewidth\":2},\"scene\":{\"xaxis\":{\"backgroundcolor\":\"#E5ECF6\",\"gridcolor\":\"white\",\"linecolor\":\"white\",\"showbackground\":true,\"ticks\":\"\",\"zerolinecolor\":\"white\",\"gridwidth\":2},\"yaxis\":{\"backgroundcolor\":\"#E5ECF6\",\"gridcolor\":\"white\",\"linecolor\":\"white\",\"showbackground\":true,\"ticks\":\"\",\"zerolinecolor\":\"white\",\"gridwidth\":2},\"zaxis\":{\"backgroundcolor\":\"#E5ECF6\",\"gridcolor\":\"white\",\"linecolor\":\"white\",\"showbackground\":true,\"ticks\":\"\",\"zerolinecolor\":\"white\",\"gridwidth\":2}},\"shapedefaults\":{\"line\":{\"color\":\"#2a3f5f\"}},\"annotationdefaults\":{\"arrowcolor\":\"#2a3f5f\",\"arrowhead\":0,\"arrowwidth\":1},\"geo\":{\"bgcolor\":\"white\",\"landcolor\":\"#E5ECF6\",\"subunitcolor\":\"white\",\"showland\":true,\"showlakes\":true,\"lakecolor\":\"white\"},\"title\":{\"x\":0.05},\"mapbox\":{\"style\":\"light\"}}},\"xaxis\":{\"anchor\":\"y\",\"domain\":[0.0,1.0],\"title\":{\"text\":\"SCORE\"}},\"yaxis\":{\"anchor\":\"x\",\"domain\":[0.0,1.0],\"title\":{\"text\":\"count\"}},\"legend\":{\"tracegroupgap\":0},\"margin\":{\"t\":60},\"barmode\":\"relative\"},                        {\"responsive\": true}                    ).then(function(){\n",
       "                            \n",
       "var gd = document.getElementById('8371d3f9-ee85-42f1-b153-7611c93014e8');\n",
       "var x = new MutationObserver(function (mutations, observer) {{\n",
       "        var display = window.getComputedStyle(gd).display;\n",
       "        if (!display || display === 'none') {{\n",
       "            console.log([gd, 'removed!']);\n",
       "            Plotly.purge(gd);\n",
       "            observer.disconnect();\n",
       "        }}\n",
       "}});\n",
       "\n",
       "// Listen for the removal of the full notebook cells\n",
       "var notebookContainer = gd.closest('#notebook-container');\n",
       "if (notebookContainer) {{\n",
       "    x.observe(notebookContainer, {childList: true});\n",
       "}}\n",
       "\n",
       "// Listen for the clearing of the current output cell\n",
       "var outputEl = gd.closest('.output');\n",
       "if (outputEl) {{\n",
       "    x.observe(outputEl, {childList: true});\n",
       "}}\n",
       "\n",
       "                        })                };                });            </script>        </div>"
      ]
     },
     "metadata": {},
     "output_type": "display_data"
    }
   ],
   "source": [
    "%matplotlib inline\n",
    "import plotly.express as px\n",
    "fig = px.histogram(df_score_sorted, x=\"SCORE\")\n",
    "fig.show()"
   ]
  },
  {
   "cell_type": "code",
   "execution_count": 124,
   "id": "2fb43bec-e128-4e5e-afa1-9ab65e269d4d",
   "metadata": {},
   "outputs": [
    {
     "data": {
      "application/vnd.plotly.v1+json": {
       "config": {
        "plotlyServerURL": "https://plot.ly"
       },
       "data": [
        {
         "alignmentgroup": "True",
         "hovertemplate": "ORG=%{x}<br>SCORE=%{y}<extra></extra>",
         "legendgroup": "",
         "marker": {
          "color": "#636efa",
          "pattern": {
           "shape": ""
          }
         },
         "name": "",
         "offsetgroup": "",
         "orientation": "v",
         "showlegend": false,
         "textposition": "auto",
         "type": "bar",
         "x": [
          "$DAR Flexible Solutions international",
          "&",
          "&gt;PacWest",
          "&gt;Silicon Valley Bank",
          "*",
          "**France",
          "**MSCI World",
          "**MSCI World Equal Weighted",
          "**Paramount",
          "**United Kingdom",
          "21th Century Studios",
          "3M",
          "3xer",
          "401",
          "401k",
          "401ks",
          "AAPL",
          "AB",
          "ABBV",
          "ABC",
          "ADBE",
          "AIEA",
          "AIG",
          "ALTO",
          "AMC",
          "AMD",
          "AMEX",
          "AMN",
          "AMZN",
          "AMZN n AAPL",
          "ASML",
          "ASTS",
          "ASTS Polight",
          "ASTS Polight Rocket Lab",
          "ATVI",
          "AVON",
          "AWS",
          "AXP",
          "Activision Blizzard",
          "Adobe",
          "Agronomics",
          "Air Canada",
          "Albemarle Corp",
          "Alinea",
          "Alliance Bernstein",
          "Alpaca",
          "Alphabet",
          "Altria",
          "Amazon",
          "Amazon Prime",
          "Amazon Web Services",
          "American Funds",
          "American Funds Bond",
          "American Funds Invmt Co",
          "Ameritrade",
          "Amex",
          "Anheuser-Busch InBev",
          "Anthropic",
          "Apple",
          "Ares Management",
          "Arizona State University",
          "Arrived Homes",
          "Ars Technica",
          "Artemis Capital's",
          "Ashmoore",
          "Avantis",
          "Avon",
          "Avon protection",
          "BABA",
          "BAC",
          "BBC",
          "BBC News",
          "BIO",
          "BITO",
          "BLANK",
          "BLS",
          "BLV",
          "BNTX",
          "BOJ",
          "BRK-B.",
          "BUD",
          "BYD",
          "BYND",
          "BZH",
          "Bank",
          "Bank A",
          "Bank B",
          "Bank C",
          "Bank of America",
          "Bank of China",
          "Beal Bank",
          "Beazer Homes",
          "Beazer Homes US",
          "Beazer Homes USA, Inc.",
          "Berkshire",
          "Binance",
          "Bing Chat",
          "Bio Rad Laboratories",
          "BlackRock",
          "BlackRock Voting Choice",
          "Blackrock",
          "Block / Square",
          "Bloomberg",
          "Bloomberg Television",
          "Bluejay Mining",
          "BoA",
          "Board of Directors",
          "Boeing",
          "Boeings",
          "BofA",
          "Bogglehead",
          "Boolio Invest",
          "Boston Trust",
          "Bowers Wealth Management",
          "Brokerage",
          "Brookfield",
          "Buffett",
          "Business Wire",
          "CBDC",
          "CFRA",
          "CFTC",
          "CIFR",
          "CME",
          "CME Group](https://www.cmegroup.com",
          "CNBC",
          "CNBC Wealth",
          "COVID",
          "CSIQ",
          "CSIS",
          "CWGIX",
          "CanLII",
          "Canadian Solar",
          "Capgemini",
          "Capital One",
          "Central Bank Digital Currency",
          "Charles Schwab",
          "Chase",
          "ChatGPT",
          "Cheniere Energy",
          "Chex",
          "Chime",
          "Cineworld",
          "Cipher Mining",
          "Citigroup Inc.'s",
          "Co.",
          "Coca cola",
          "Coffeezilla",
          "Coin",
          "Coinbase",
          "Coles",
          "Collector Box",
          "Commerce bank",
          "Congress",
          "ContraFund K6",
          "Costco",
          "Coty",
          "Coupang",
          "Coutts",
          "Covid",
          "Crowdstreet",
          "DCA",
          "DEGIRO",
          "DG",
          "DIS",
          "DSW CAPITAL INDUSTRIAL SUPPORT SERVICES",
          "Darling Ingredients",
          "Defense, Space, and Security",
          "Dell",
          "Discover",
          "Disney",
          "Dizraptor",
          "DoD",
          "Dollar General",
          "Domino's",
          "Domino's Pizza",
          "Duke Energy",
          "E*Trade",
          "ECB",
          "EGX",
          "EJ",
          "ESOP",
          "ESPP",
          "ETrade",
          "EU",
          "Early Retirement Extreme",
          "Edelman",
          "Edward Jones",
          "Edward jones",
          "Ellevest",
          "Embark Technologies",
          "Emmerson",
          "Energy X",
          "Etoro",
          "European Ed",
          "Eurostat",
          "ExxonMobil",
          "FA",
          "FBGRX",
          "FCA",
          "FDIC",
          "FDX",
          "FED",
          "FEPIX",
          "FHA",
          "FIB",
          "FINRA",
          "FMC",
          "FMC Corporation",
          "FNILX",
          "FNXMC",
          "FOMC",
          "FSKAX",
          "FT",
          "FXAIX",
          "Facebook",
          "Fama/French’s",
          "Fed",
          "Federal",
          "Federal Home Loan Bank",
          "Federal Reserve",
          "Federal Reserve Board",
          "Fedex",
          "Feds",
          "Fidelity",
          "Fidelity Advisor Bond",
          "Fidelity FidFolios",
          "Fidelity Go",
          "Fidelity Money Market",
          "Fidelity Monitor &",
          "Fidelity Zero Funds",
          "Fidelity, Schwab,",
          "Fifth Third",
          "First Horizon",
          "First Republic",
          "First Republic Bank",
          "Forbes",
          "Ford",
          "Fox",
          "Fundrise",
          "Futbul Webull Investing.com",
          "G8",
          "GE",
          "GI Bill",
          "GOOG",
          "GOOGL",
          "GSCI",
          "GameStop",
          "Goldman",
          "Goldman Sachs",
          "Goldman Sachs Custody Solutions",
          "Goldman Sachs Group",
          "Google",
          "Google/MSFT’s",
          "Green Street",
          "HFEA",
          "HKSE",
          "HL",
          "HMC",
          "HML",
          "HSA",
          "HSBC",
          "HYSA",
          "Hargreaves Lansdown",
          "Hasbro",
          "Heineken",
          "Home Depot",
          "IB",
          "IBEW",
          "IBKR",
          "IBKR lite",
          "IBM",
          "ICLN",
          "IMF",
          "INTC",
          "IONQ",
          "IP",
          "IRS",
          "ISA",
          "ISCG",
          "ITM",
          "ITOT",
          "IXUS",
          "Ibonds",
          "InBev",
          "Ind Bene",
          "Inditex",
          "Intel",
          "Interactive Brokers",
          "International",
          "International Paper",
          "Invesco",
          "Investment Advisor",
          "IonQ",
          "J&amp;J move",
          "J&amp;J,",
          "JEPI",
          "JEPQ",
          "JET",
          "JFTUX",
          "JP / William Blair / Barclays",
          "JP Investor Growth",
          "JP Morgan",
          "JPMorgan",
          "JPMorgan Chase &amp",
          "JSTC",
          "John Hancock",
          "Johnson &amp; Johnson",
          "Juniors",
          "KHC",
          "KKR",
          "KO",
          "KSE",
          "Kenvue",
          "Kenvue &lt;KVUE.N&gt;",
          "Koyfin",
          "LAC",
          "LG",
          "LILM",
          "LILMW",
          "LLAMA",
          "LLC",
          "LNG",
          "LSPD",
          "LVMH",
          "Lego",
          "Lehman",
          "Lending Club",
          "Lexus",
          "LinkedIn",
          "Lithium Amers Corp",
          "Lucid",
          "Lumen",
          "Lumen Technologies",
          "Lumen Technologies, Inc.",
          "Lumen Technologies’",
          "Lyft",
          "Lyxor",
          "L’Oréal",
          "MARA",
          "MCG",
          "META",
          "MFECX",
          "MITC",
          "MMM",
          "MNMD",
          "MOTNF",
          "MPW",
          "MRNA",
          "MSCI",
          "MSCI EAFE",
          "MSCI EAFE Small Cap",
          "MSFT",
          "Magic",
          "Marcus",
          "Marlboro's",
          "Mastercard",
          "Masterworks",
          "McDonald",
          "McDonalds",
          "Medical Properties Trust",
          "Meituan",
          "Mercedes",
          "Merck KGaA",
          "Merrill",
          "Merrill Edge",
          "Merrill Lynch",
          "Merrill/UBS",
          "MetLife GAC",
          "Meta",
          "Meta / Facebook",
          "Meta Platforms",
          "Microsoft",
          "Mind Medicine",
          "Mobico Group",
          "Moderna",
          "Money Market",
          "Monzo",
          "MooMoo",
          "Morgan",
          "Morgan Stanley",
          "MorningStart",
          "Morningstar",
          "Morningstar Portfolio",
          "Morningstar Premium",
          "Morningstar's",
          "Motley Fool",
          "NASA",
          "NASDAQ",
          "NATGAS",
          "NDQ/NYSE",
          "NFLX",
          "NIH",
          "NKLA",
          "NRSRX",
          "NSC",
          "NSE",
          "NTR",
          "NULG",
          "NVDA",
          "NVIDIA",
          "NYSE",
          "Nasdaq",
          "NatWest",
          "Nerdwallet",
          "Nestlé",
          "Net Capital",
          "Netflix",
          "Neuberger Equity",
          "Neuralink",
          "Nvidia",
          "OGEAX",
          "Olympian Motors",
          "Ontario Superior Court",
          "Optum Bank",
          "Optum Health",
          "Oracle",
          "Ossiam US",
          "Overstock.com",
          "PBR",
          "PENN",
          "PG",
          "PINS",
          "PLTR",
          "PMI",
          "PYPL",
          "PacWest",
          "PacWest Bancorp",
          "Palantir",
          "PayPal",
          "Penn Entertainment",
          "Pennie",
          "Pennie’s",
          "PepsiCo",
          "Petro - Lewis",
          "Pew",
          "Philip Morris International",
          "Philip Morris Intetnational",
          "Plaid",
          "PowerTap Hydrogen Fueling Corp",
          "Powertap Hydrogen Capital Corp.",
          "QQQ",
          "Qualtrics",
          "Questrade",
          "RBC",
          "RBLX",
          "REIT",
          "REPAYE",
          "RFHTX",
          "RH",
          "RIG",
          "ROTH",
          "RSX",
          "Rasa Industries](https://finance.yahoo.com",
          "Reddit",
          "Refinitiv",
          "Reuters",
          "Revolut",
          "Rjx-a.v",
          "Robinhood",
          "Robinhoods",
          "Roblox",
          "Rocket Lab",
          "Roth",
          "Royal Bank",
          "RunnerCity",
          "S&amp;P tracked",
          "SAE",
          "SC",
          "SCHD charles schwab u.s div",
          "SCHW",
          "SEBI",
          "SEC",
          "SHOP",
          "SIMO",
          "SNPE",
          "SOFI Steakholder Foods",
          "SP500",
          "SPAXX",
          "SPY",
          "SS",
          "SSA",
          "STKA",
          "STKB",
          "STLD",
          "SWAGX",
          "SWISX",
          "SWPPX",
          "SWTSX",
          "SWVXX",
          "Samsung",
          "Savings",
          "Schroders",
          "Schwaab",
          "Schwab",
          "Scion Capital",
          "Seeking Alpha",
          "Sensor Tower",
          "Sequioa",
          "Sequouia Capital",
          "Shopify",
          "SigFig",
          "Sigfig",
          "Signature Bank",
          "Silicon Valley Bank",
          "SimilarWeb",
          "SoFi",
          "Sony",
          "Southern Copper",
          "Southwest",
          "Sports",
          "Square",
          "Starbucks",
          "Stash",
          "State",
          "State Street",
          "Steel Dynamics",
          "Stifel",
          "Stripe",
          "T. Rowe Price",
          "TAN ETF",
          "TD",
          "TD Ameritrade",
          "TDA",
          "TDAmeritrade",
          "TGT",
          "TIA",
          "TLRY",
          "TMC",
          "TRMB",
          "TSLA",
          "TSN",
          "Target",
          "Target Retirement",
          "Tattooed Chef",
          "Taxable",
          "Tbills",
          "Telsa",
          "Templeton International Smaller Co",
          "Tencent Holdings Ltd",
          "Tesla",
          "The U.S. Federal Reserve",
          "Threads",
          "Tolkein",
          "Transocean",
          "Treasury",
          "Treasury Direct",
          "Treasurys",
          "Trimble",
          "TurboTax",
          "Twilio",
          "Twitter",
          "U.S. Bureau of Labor Statistics",
          "U.S. Government Securities Fund",
          "U.S. Securities and Exchange Commission",
          "UA",
          "UBER",
          "UK Funds",
          "UPRO",
          "UPS",
          "US Bank",
          "USA Today",
          "USAA",
          "USB",
          "Uber",
          "UiPath",
          "Unity",
          "Universa",
          "Universa Hedge Fund",
          "University",
          "Univesity",
          "VA",
          "VBIAX",
          "VBTLX",
          "VF Corp",
          "VFC",
          "VFIAX",
          "VGT",
          "VIG",
          "VMFXX",
          "VMRXX",
          "VNFXX",
          "VOO",
          "VOTE",
          "VT",
          "VTI",
          "VTSAX",
          "VUAA",
          "VUKE",
          "VUSA",
          "VUSXX",
          "VW",
          "VWINX",
          "VXUS",
          "VXUS vanguard",
          "VYM",
          "VZ",
          "Vangaurd",
          "Vanguard",
          "Vanguard Lifestrategy",
          "Vanguard Target",
          "Vanguard Target date",
          "Vanguard VINIX",
          "Vanguard VMRXX's",
          "Verizon",
          "Virtuix",
          "Visa",
          "Vodaphone",
          "Volkswagen",
          "Volvo",
          "Volvos",
          "Voting Choice",
          "WFG",
          "WML",
          "WWTAA",
          "Wall Street Journal",
          "WeBull",
          "Wealthfront",
          "Wealthsimple",
          "Webull",
          "Wells Fargo",
          "Wells Fargo &",
          "Welmac",
          "Western Alliance",
          "Whiskey Wealth Club",
          "Wikipedia",
          "Wilary Winn",
          "WisdomTree",
          "Wizards",
          "Wizards of the Coast",
          "X",
          "XDV",
          "XET/TDG",
          "XLK",
          "XOM",
          "XP Power ltd",
          "XPeng",
          "XYZ",
          "Xtrackers",
          "Yahoo Finance",
          "YouTube",
          "Youtube",
          "ZIM",
          "ZSE",
          "ZYNs",
          "Zim",
          "ZoomInfo",
          "a Pricing Committee",
          "ally",
          "amazon",
          "amp",
          "barclays",
          "bbbyq",
          "bdc etf",
          "blackrock",
          "boglehead",
          "bogleheads",
          "capital one",
          "chase",
          "dea",
          "eTrade",
          "etoro",
          "etrade",
          "fed",
          "feds",
          "fidelity",
          "financialjuice",
          "fitch",
          "fx impact",
          "google",
          "govt",
          "gt",
          "gt;PacWest",
          "gt;Silicon Valley Bank",
          "hsas",
          "iShares Board",
          "iShares/Blackrock",
          "inVFIAX",
          "ind bene",
          "instagram",
          "interactive brokers",
          "ir",
          "ira",
          "masterworks",
          "merrill",
          "merrill/UBS",
          "merrill/UBS/Barclay’s",
          "msos",
          "non US",
          "non halal index",
          "non-USA",
          "od Arkk",
          "ostk",
          "payflex",
          "public",
          "reddit",
          "rjk explorations",
          "robinhood",
          "roth ira",
          "schwab",
          "schwabs",
          "seekingalpha",
          "senate",
          "silverlake",
          "social security",
          "spy",
          "spyi",
          "svol",
          "td ameritrade/tos",
          "telegram",
          "tesla",
          "tesla Stock",
          "teslas",
          "the Board of Trustees",
          "the Board of Trustees of the Trust",
          "the Bureau of Labor Statistics",
          "the China Finance 40 Forum",
          "the Department of FREAKIN Justice",
          "the Federal Deposit Insurance Corp.",
          "the Federal Home Loan Bank",
          "the Federal Home Loan Banks",
          "the Federal Open Market Committee",
          "the Federal Reserve",
          "the Federal Reserve's",
          "the Financial Conduct Authority",
          "the Kansas Bankers Association",
          "the Korean Stock Exchange",
          "the Motley Fool",
          "the Nomura Research Institute",
          "the S&amp;P 500",
          "the S&amp;P for",
          "the Supreme Court",
          "the Tolkein Estate",
          "the U.S. Department of the Treasury",
          "the US Government",
          "the Wall Street Journal",
          "the bank of nova scotia",
          "tltw",
          "tonlopk",
          "trad",
          "treasury",
          "treasury direct",
          "treasury direct website",
          "usd",
          "vanguard",
          "vanguard ftse",
          "vanguard personal advisor services",
          "wealthfront",
          "wealthsimple",
          "yahoo"
         ],
         "xaxis": "x",
         "y": [
          0.6607517600059509,
          -0.9999470114707947,
          -0.991942286491394,
          -0.991942286491394,
          0.7113593220710754,
          0.7113593220710754,
          -0.9994832277297974,
          -0.9994832277297974,
          0.7113593220710754,
          0.7113593220710754,
          -0.9995918869972229,
          -0.9999958276748657,
          -0.9987254738807678,
          -0.003667473793029785,
          0.9947702288627625,
          -0.9763376116752625,
          -0.5797646939754486,
          -0.9885332584381104,
          -0.11671885848045349,
          -0.9998990297317505,
          -0.9999792575836182,
          -0.99895179271698,
          -0.9998384714126587,
          -0.9957454800605774,
          0.7113593220710754,
          -0.3308235804239909,
          -0.9863590598106384,
          -0.999996542930603,
          -0.33410414059956867,
          -0.9999516010284424,
          -0.9873062372207642,
          -0.9996862411499023,
          -0.9996862411499023,
          -0.9996862411499023,
          -0.9998227655887604,
          -0.9997497200965881,
          0.9880872964859009,
          -0.11185503005981445,
          -0.9997497200965881,
          -0.9999792575836182,
          -0.9996862411499023,
          -0.07774382829666138,
          0.9935129284858704,
          -0.9994702935218811,
          -0.9885332584381104,
          -0.9999262094497681,
          -0.9944616913795471,
          -0.9981488883495331,
          -0.42324077420764505,
          0.9880872964859009,
          0.9880872964859009,
          0.16928565502166748,
          0.99298495054245,
          0.99298495054245,
          0.8323039809862772,
          -0.9993730187416077,
          -0.9995556473731995,
          -0.8634019494056702,
          -0.8835974651224473,
          -0.991942286491394,
          -0.9873062372207642,
          -0.9996590614318848,
          -0.999924898147583,
          -0.7812795639038086,
          -0.9997497200965881,
          0.5229065418243408,
          -0.9997497200965881,
          -0.9997497200965881,
          -0.9291248917579651,
          -0.11671885848045349,
          -0.9999045133590698,
          -0.9999045133590698,
          -0.9999792575836182,
          -0.9996935129165649,
          -0.9999896287918091,
          -0.9941067695617676,
          -0.9997932314872742,
          -0.9999792575836182,
          -0.9797489047050476,
          -0.9999840259552002,
          -0.9995556473731995,
          -0.9459089636802673,
          -0.9999958276748657,
          -0.9995444416999817,
          -0.9999388456344604,
          -0.9999305009841919,
          -0.9999305009841919,
          -0.9999305009841919,
          -0.9960867166519165,
          -0.9979776740074158,
          -0.9979776740074158,
          -0.9995444416999817,
          -0.9995444416999817,
          -0.9995444416999817,
          -0.9996318817138672,
          -0.9972677230834961,
          -0.9918302893638611,
          -0.9997497200965881,
          -0.1704598367214203,
          0.6590201258659363,
          -0.9984937707583109,
          -0.9999958276748657,
          -0.4275213281313579,
          -0.9941650032997131,
          -0.9997497200965881,
          -0.9837888479232788,
          -0.9997677206993103,
          -0.999828428030014,
          -0.9997319579124451,
          -0.9863932728767395,
          -0.9999771118164062,
          -0.9769559502601624,
          -0.654413640499115,
          -0.9968665242195129,
          -0.9998764991760254,
          -0.9996862411499023,
          -0.9995231628417969,
          0.6590201258659363,
          -0.9848843812942505,
          -0.9959622025489807,
          -0.9999796152114868,
          -0.9845939874649048,
          -0.9999912977218628,
          -0.9698743224143982,
          0.5406901836395264,
          -0.998971700668335,
          0.8430612087249756,
          -0.9960867166519165,
          -0.9995869994163513,
          -0.9995065927505493,
          -0.9995444416999817,
          -0.9960867166519165,
          -0.998971700668335,
          -0.994344969590505,
          -0.9848843812942505,
          -0.9988669157028198,
          -0.9864518642425537,
          -0.9769559502601624,
          -0.9960867166519165,
          -0.9999836683273315,
          -0.9837888479232788,
          -0.9997497200965881,
          -0.9845939874649048,
          -0.9966959953308105,
          -0.9966959953308105,
          -0.8897457122802734,
          -0.9999796152114868,
          -0.9994922876358032,
          -0.9972677230834961,
          -0.9966273903846741,
          -0.9844694137573242,
          -0.9999772310256958,
          -0.9999735355377197,
          0.935875415802002,
          -0.9977686405181885,
          -0.9998586177825928,
          0.7113593220710754,
          -0.9999045133590698,
          -0.9999562501907349,
          -0.999984622001648,
          0.9867493510246277,
          -0.8897457122802734,
          -0.9995840191841125,
          -0.9998603761196136,
          0.9978233575820923,
          0.6607517600059509,
          -0.999924898147583,
          -0.9999775886535645,
          -0.9667719602584839,
          -0.13007360696792603,
          -0.8634019494056702,
          -0.9869863390922546,
          -0.9995840191841125,
          -0.9999927282333374,
          -0.9999927282333374,
          -0.9983235001564026,
          -0.9999836683273315,
          -0.9726284146308899,
          -0.9997779726982117,
          -0.9187182486057281,
          -0.9869863390922546,
          0.9950931072235107,
          -0.7755138278007507,
          -0.4353773593902588,
          -0.9842249155044556,
          -0.9885332584381104,
          -0.9991416037082672,
          -0.9999715089797974,
          -0.9996757507324219,
          -0.9999761581420898,
          -0.9996862411499023,
          0.6502843499183655,
          -0.9995469450950623,
          -0.9795676469802856,
          -0.9655079245567322,
          -0.9999397993087769,
          -0.6766064763069153,
          -0.9972690939903259,
          0.9335879683494568,
          -0.9945638179779053,
          -0.9999792575836182,
          -0.9987219721078873,
          -0.997687578201294,
          -0.9813206791877747,
          -0.9804912805557251,
          -0.9999964237213135,
          -0.9995935559272766,
          -0.9995935559272766,
          -0.6680880784988403,
          -0.9970147609710693,
          -0.9872203171253204,
          -0.9779114524523417,
          -0.9999905824661255,
          -0.9984884262084961,
          -0.9999798536300659,
          -0.9995231628417969,
          -0.9759298633126652,
          -0.9991175532341003,
          -0.9992735981941223,
          -0.9698743224143982,
          -0.9698743224143982,
          -0.9999792575836182,
          -0.9797489047050476,
          -0.6851966791682773,
          -0.997687578201294,
          -0.9986045956611633,
          0.9202160835266113,
          -0.9968665242195129,
          -0.9968665242195129,
          -0.9545732140541077,
          0.6942678689956665,
          -0.9885332584381104,
          -0.991942286491394,
          -0.991942286491394,
          -0.991942286491394,
          -0.9959096014499664,
          -0.9999033212661743,
          0.7113593220710754,
          -0.999984622001648,
          -0.9972681999206543,
          -0.9797489047050476,
          -0.6904032826423645,
          -0.9983235001564026,
          0.26526079575220746,
          -0.999618411064148,
          -0.99895179271698,
          -0.9998540878295898,
          -0.9998900890350342,
          -0.9968315362930298,
          -0.9996757507324219,
          -0.9966959953308105,
          -0.9218241771062216,
          -0.9900912046432495,
          -0.6403462290763855,
          0.6345443725585938,
          -0.999914288520813,
          0.9784482717514038,
          -0.9999792575836182,
          -0.9994832277297974,
          -0.9987467229366302,
          -0.764896422624588,
          -0.9943040609359741,
          -0.010650724172592163,
          -0.9844694137573242,
          -0.999933123588562,
          -0.9977686405181885,
          -0.7755138278007507,
          0.7389227151870728,
          0.9351088404655457,
          -0.9997873902320862,
          -0.7292224764823914,
          -0.9999953508377075,
          -0.9941650032997131,
          -0.9997497200965881,
          0.13170072436332703,
          -0.9960867166519165,
          -0.7459037899971008,
          -0.9999685883522034,
          -0.9957454800605774,
          -0.9624898433685303,
          -0.9999423027038574,
          -0.9999423027038574,
          -0.9999617338180542,
          -0.9995556473731995,
          -0.9902290105819702,
          -0.9873062372207642,
          -0.9997497200965881,
          -0.9932819604873657,
          0.9880872964859009,
          -0.9960867166519165,
          -0.999936580657959,
          -0.9992876648902893,
          -0.7292224764823914,
          -0.9988462924957275,
          -0.9988462924957275,
          -0.9984785318374634,
          -0.9999423027038574,
          -0.9997497200965881,
          -0.997687578201294,
          -0.9905862212181091,
          -0.997687578201294,
          -0.8825342059135437,
          -0.9966959953308105,
          -0.9966959953308105,
          -0.9999397993087769,
          -0.9983235001564026,
          -0.9988462924957275,
          -0.9870834350585938,
          0.7626489996910095,
          0.7113593220710754,
          0.7626489996910095,
          -0.999901294708252,
          -0.9988462924957275,
          -0.9988462924957275,
          -0.9999421834945679,
          -0.9999958276748657,
          -0.999901294708252,
          -0.9964115023612976,
          -0.9964115023612976,
          -0.9853449463844299,
          -0.9996638298034668,
          -0.9960867166519165,
          -0.9999958276748657,
          -0.9873062372207642,
          0.9709572196006775,
          -0.9973453879356384,
          0.8291732668876648,
          -0.9291248917579651,
          -0.9999954700469971,
          -0.9999958276748657,
          0.7113593220710754,
          -0.9988440275192261,
          -0.9988440275192261,
          -0.9988440275192261,
          -0.9988440275192261,
          0.7113593220710754,
          -0.9999904632568359,
          -0.9873062372207642,
          -0.9998452663421631,
          -0.9997497200965881,
          -0.9999958276748657,
          -0.9995065927505493,
          -0.9996862411499023,
          -0.9999958276748657,
          -0.9999958276748657,
          -0.9999810457229614,
          -0.9997497200965881,
          -0.9999958276748657,
          0.6293879151344299,
          0.6293879151344299,
          0.6293879151344299,
          -0.9808049996693929,
          -0.9844694137573242,
          -0.9916845560073853,
          -0.9967750906944275,
          -0.9931087096532186,
          -0.9988419413566589,
          -0.999933123588562,
          -0.999933123588562,
          -0.9997497200965881,
          -0.999914288520813,
          0.9267781972885132,
          -0.9996862411499023,
          -0.9321640729904175,
          -0.9942290782928467,
          -0.9617519378662109,
          -0.9999916553497314,
          -0.997687578201294,
          -0.7736884223090278,
          -0.9999958276748657,
          -0.9900912046432495,
          -0.9933527310689291,
          -0.9999958276748657,
          -0.9997497200965881,
          -0.9999958276748657,
          -0.998379111289978,
          -0.9837888479232788,
          -0.9999850988388062,
          -0.9998900890350342,
          -0.9943191409111023,
          -0.9999535083770752,
          -0.17048439383506775,
          -0.9999767541885376,
          -0.9999767541885376,
          0.9567651748657227,
          -0.6782860457897186,
          -0.999924898147583,
          -0.996876311302185,
          -0.9995469450950623,
          0.9916954636573792,
          -0.9999710321426392,
          -0.9992339611053467,
          -0.999934196472168,
          -0.997687578201294,
          -0.999937891960144,
          -0.9997779726982117,
          -0.9999792575836182,
          -0.9999397993087769,
          -0.18950814008712774,
          -0.6908655881881713,
          -0.9920692145824432,
          -0.2882933417956034,
          -0.9999045133590698,
          -0.9918302893638611,
          -0.9999397993087769,
          0.6502843499183655,
          -0.9994150400161743,
          -0.997687578201294,
          -0.8634019494056702,
          -0.9896159370740255,
          -0.9999690055847168,
          -0.9999434947967529,
          -0.9995444416999817,
          -0.9252753257751465,
          -0.9252753257751465,
          -0.9997674822807312,
          -0.9410483837127686,
          -0.9999954700469971,
          -0.9999792575836182,
          -0.9999958276748657,
          0.7626489996910095,
          -0.9957454800605774,
          -0.9996789693832397,
          -0.9967750906944275,
          -0.9997497200965881,
          -0.991942286491394,
          -0.991942286491394,
          0.14101322491963703,
          -0.9837888479232788,
          -0.9999958276748657,
          -0.9999306201934814,
          -0.9999306201934814,
          -0.9995231628417969,
          -0.9999632835388184,
          -0.9977304339408875,
          -0.9967750906944275,
          -0.9967750906944275,
          -0.8634019494056702,
          -0.9999810457229614,
          -0.9999810457229614,
          -0.9984293381373087,
          -0.9624898433685303,
          -0.9995444416999817,
          -0.999922513961792,
          -0.9999958276748657,
          -0.9997497200965881,
          -0.9958661794662476,
          -0.9983235001564026,
          -0.9980752468109131,
          -0.9845939874649048,
          -0.9988669157028198,
          -0.9998013377189636,
          -0.9995869994163513,
          -0.6835424602031708,
          -0.9900912046432495,
          -0.9972135126590729,
          -0.999925971031189,
          -0.9944250583648682,
          -0.6933762110196626,
          -0.9916845560073853,
          0.14090760548909503,
          -0.9996862411499023,
          -0.9913157224655151,
          0.9769974946975708,
          -0.9608906507492065,
          -0.9972733855247498,
          -0.9999792575836182,
          -0.9584975838661194,
          -0.5207668542861938,
          -0.9974681735038757,
          -0.9999068975448608,
          -0.9988212330000741,
          -0.9999958276748657,
          -0.99395352602005,
          -0.9999397993087769,
          -0.9996862411499023,
          -0.9869863390922546,
          -0.9999771118164062,
          -0.99742724498113,
          -0.9977095127105713,
          -0.9977095127105713,
          -0.9998903274536133,
          -0.9998903274536133,
          -0.9960867166519165,
          -0.9946068227291107,
          -0.9988669157028198,
          -0.9999520778656006,
          -0.9988669157028198,
          -0.8609866698582967,
          -0.999901294708252,
          -0.9994974136352539,
          -0.9999555349349976,
          -0.9973453879356384,
          -0.5958531477621622,
          -0.7134320735931396,
          -0.718163400888443,
          -0.9998830556869507,
          -0.8447588086128235,
          -0.8447588086128235,
          -0.9999958276748657,
          -0.999618411064148,
          -0.999618411064148,
          -0.991942286491394,
          -0.991942286491394,
          -0.9998830556869507,
          -0.9943099021911621,
          0.7113593220710754,
          -0.9953215718269348,
          -0.9983235001564026,
          -0.9997814297676086,
          -0.9837888479232788,
          -0.9976934989293417,
          -0.9999934434890747,
          -0.9990735352039337,
          -0.9460100531578064,
          -0.9960867166519165,
          -0.9990488886833191,
          -0.9837888479232788,
          -0.9996883869171143,
          -0.8488628466924032,
          -0.998039322240012,
          -0.20475777983665466,
          -0.7755138278007507,
          -0.8239590227603912,
          -0.9995556473731995,
          0.003788858652114868,
          -0.7672207951545715,
          0.9926239252090454,
          -0.9999958276748657,
          0.27404029170672095,
          -0.9999792575836182,
          -0.9995556473731995,
          -0.9999517202377319,
          -0.9999942779541016,
          -0.9446895718574524,
          -0.9999704360961914,
          0.5307097434997559,
          -0.654413640499115,
          -0.999914288520813,
          -0.7453853562474251,
          -0.999629020690918,
          -0.05738666653633118,
          -0.9844694137573242,
          -0.9845939874649048,
          -0.0018028616905212402,
          -0.9961897432804108,
          -0.9393746256828308,
          -0.9999958276748657,
          -0.9980752468109131,
          0.7113593220710754,
          -0.5286697298288345,
          -0.9941067695617676,
          -0.9999920129776001,
          -0.9999344348907471,
          0.9351088404655457,
          -0.9978642165660858,
          -0.9669797420501709,
          -0.9997100234031677,
          0.14091312885284424,
          -0.9980601668357849,
          -0.9977304339408875,
          -0.9983235001564026,
          -0.9957454800605774,
          -0.9999829530715942,
          0.8430612087249756,
          -0.9999958276748657,
          -0.9998189806938171,
          -0.9998189806938171,
          0.6828674077987671,
          -0.9876356720924377,
          -0.9983235001564026,
          -0.9993178844451904,
          -0.998566597700119,
          -0.9999958276748657,
          -0.9999958276748657,
          -0.999936580657959,
          -0.9971022307872772,
          -0.11731219291687012,
          -0.992851048707962,
          -0.9894586801528931,
          -0.8616629242897034,
          -0.7834746374024285,
          -0.9999397993087769,
          -0.8674997587998708,
          -0.9753369603838239,
          -0.9320352077484131,
          -0.9996923208236694,
          -0.9999861717224121,
          -0.9996923208236694,
          -0.9999140501022339,
          -0.9996984004974365,
          -0.9955328702926636,
          -0.9931486050287882,
          -0.5207668542861938,
          -0.996562659740448,
          -0.9999958276748657,
          -0.9999861717224121,
          -0.7394797188394211,
          -0.9932819604873657,
          -0.654413640499115,
          0.935875415802002,
          -0.997687578201294,
          -0.9894586801528931,
          -0.9999958276748657,
          -0.9999642372131348,
          -0.9931087096532186,
          -0.9997497200965881,
          -0.9996984004974365,
          0.9267781972885132,
          0.9267781972885132,
          0.6590201258659363,
          -0.9999792575836182,
          -0.9994832277297974,
          -0.997687578201294,
          -0.991942286491394,
          0.9769974946975708,
          -0.9787388741970062,
          -0.9966273903846741,
          -0.9916845560073853,
          -0.9963198006153107,
          -0.9966959953308105,
          0.6232775449752808,
          -0.9999772310256958,
          0.9977492690086365,
          -0.9984825253486633,
          -0.991942286491394,
          -0.9975619316101074,
          -0.9844694137573242,
          -0.9844694137573242,
          -0.9999792575836182,
          0.9769974946975708,
          0.9916954636573792,
          0.7046378254890442,
          0.7626489996910095,
          -0.9997497200965881,
          -0.9459089636802673,
          -0.9998990297317505,
          -0.9980827569961548,
          -0.9997814297676086,
          -0.0033088624477386475,
          -0.9999642372131348,
          -0.9929637908935547,
          -0.9997779726982117,
          -0.9967750906944275,
          -0.9929637908935547,
          -0.9999958276748657,
          -0.9982354640960693,
          -0.9999977350234985,
          -0.6904032826423645,
          -0.9966959953308105,
          -0.9999631643295288,
          -0.9999954700469971,
          -0.9774856567382812,
          0.6590201258659363,
          -0.9447836875915527,
          -0.9447836875915527,
          -0.9923843145370483,
          -0.9997501969337463,
          -0.987891674041748,
          -0.9999535083770752,
          0.8500611186027527,
          -0.9999903440475464,
          -0.8987791339556376,
          -0.9999838471412659,
          -0.9743799865245819,
          -0.99167799949646,
          -0.9999516010284424,
          -0.9996606111526489,
          -0.9993266661961874,
          -0.9996883869171143,
          -0.999924898147583,
          -0.991942286491394,
          -0.991942286491394,
          -0.9977095127105713,
          0.6590201258659363,
          -0.9993353486061096,
          0.5694159865379333,
          -0.9902290105819702,
          -0.9998830556869507,
          -0.9999977350234985,
          -0.9998903274536133,
          -0.9964444041252136,
          -0.9988419413566589,
          -0.9964444041252136,
          -0.9999916553497314,
          -0.9999916553497314,
          -0.987891674041748,
          -0.6580177545547485,
          -0.9999648332595825,
          -0.9932819604873657,
          0.5514634847640991,
          -0.9999954700469971,
          -0.9977095127105713,
          0.9521543383598328,
          -0.9713451504707337,
          -0.9944250583648682,
          -0.4497289458910625,
          -0.9999276399612427,
          -0.9897058606147766,
          -0.9999033212661743,
          -0.9371382296085358,
          -0.987891674041748,
          -0.9624898433685303,
          -0.9983971118927002,
          -0.9999516010284424,
          -0.9982971549034119,
          -0.9982971549034119,
          0.6087640523910522,
          -0.99167799949646,
          0.9962121248245239,
          -0.9996606111526489,
          0.9267781972885132,
          -0.9982354640960693,
          -0.9982354640960693,
          -0.9941067695617676,
          -0.9941650032997131,
          -0.9252753257751465,
          -0.9952212572097778,
          -0.9992735981941223,
          -0.9992735981941223,
          -0.999629020690918,
          -0.9614192843437195,
          -0.9966959953308105,
          0.9335879683494568,
          -0.999629020690918,
          -0.999901294708252,
          -0.9999915361404419,
          -0.9941650032997131,
          0.5694159865379333,
          -0.9988419413566589,
          -0.9252753257751465,
          -0.9844694137573242,
          -0.9984095692634583,
          -0.9999942779541016,
          -0.9998830556869507,
          -0.9999768733978271,
          -0.9982971549034119,
          -0.503898024559021,
          -0.9998915195465088,
          -0.5596012361347675,
          -0.9970882534980774,
          -0.9991840720176697,
          -0.9996606111526489,
          -0.998290479183197,
          -0.5460039973258972,
          -0.9999853372573853,
          -0.9460100531578064,
          -0.999916672706604,
          -0.9997840523719788
         ],
         "yaxis": "y"
        }
       ],
       "layout": {
        "barmode": "relative",
        "legend": {
         "tracegroupgap": 0
        },
        "margin": {
         "t": 60
        },
        "template": {
         "data": {
          "bar": [
           {
            "error_x": {
             "color": "#2a3f5f"
            },
            "error_y": {
             "color": "#2a3f5f"
            },
            "marker": {
             "line": {
              "color": "#E5ECF6",
              "width": 0.5
             },
             "pattern": {
              "fillmode": "overlay",
              "size": 10,
              "solidity": 0.2
             }
            },
            "type": "bar"
           }
          ],
          "barpolar": [
           {
            "marker": {
             "line": {
              "color": "#E5ECF6",
              "width": 0.5
             },
             "pattern": {
              "fillmode": "overlay",
              "size": 10,
              "solidity": 0.2
             }
            },
            "type": "barpolar"
           }
          ],
          "carpet": [
           {
            "aaxis": {
             "endlinecolor": "#2a3f5f",
             "gridcolor": "white",
             "linecolor": "white",
             "minorgridcolor": "white",
             "startlinecolor": "#2a3f5f"
            },
            "baxis": {
             "endlinecolor": "#2a3f5f",
             "gridcolor": "white",
             "linecolor": "white",
             "minorgridcolor": "white",
             "startlinecolor": "#2a3f5f"
            },
            "type": "carpet"
           }
          ],
          "choropleth": [
           {
            "colorbar": {
             "outlinewidth": 0,
             "ticks": ""
            },
            "type": "choropleth"
           }
          ],
          "contour": [
           {
            "colorbar": {
             "outlinewidth": 0,
             "ticks": ""
            },
            "colorscale": [
             [
              0,
              "#0d0887"
             ],
             [
              0.1111111111111111,
              "#46039f"
             ],
             [
              0.2222222222222222,
              "#7201a8"
             ],
             [
              0.3333333333333333,
              "#9c179e"
             ],
             [
              0.4444444444444444,
              "#bd3786"
             ],
             [
              0.5555555555555556,
              "#d8576b"
             ],
             [
              0.6666666666666666,
              "#ed7953"
             ],
             [
              0.7777777777777778,
              "#fb9f3a"
             ],
             [
              0.8888888888888888,
              "#fdca26"
             ],
             [
              1,
              "#f0f921"
             ]
            ],
            "type": "contour"
           }
          ],
          "contourcarpet": [
           {
            "colorbar": {
             "outlinewidth": 0,
             "ticks": ""
            },
            "type": "contourcarpet"
           }
          ],
          "heatmap": [
           {
            "colorbar": {
             "outlinewidth": 0,
             "ticks": ""
            },
            "colorscale": [
             [
              0,
              "#0d0887"
             ],
             [
              0.1111111111111111,
              "#46039f"
             ],
             [
              0.2222222222222222,
              "#7201a8"
             ],
             [
              0.3333333333333333,
              "#9c179e"
             ],
             [
              0.4444444444444444,
              "#bd3786"
             ],
             [
              0.5555555555555556,
              "#d8576b"
             ],
             [
              0.6666666666666666,
              "#ed7953"
             ],
             [
              0.7777777777777778,
              "#fb9f3a"
             ],
             [
              0.8888888888888888,
              "#fdca26"
             ],
             [
              1,
              "#f0f921"
             ]
            ],
            "type": "heatmap"
           }
          ],
          "heatmapgl": [
           {
            "colorbar": {
             "outlinewidth": 0,
             "ticks": ""
            },
            "colorscale": [
             [
              0,
              "#0d0887"
             ],
             [
              0.1111111111111111,
              "#46039f"
             ],
             [
              0.2222222222222222,
              "#7201a8"
             ],
             [
              0.3333333333333333,
              "#9c179e"
             ],
             [
              0.4444444444444444,
              "#bd3786"
             ],
             [
              0.5555555555555556,
              "#d8576b"
             ],
             [
              0.6666666666666666,
              "#ed7953"
             ],
             [
              0.7777777777777778,
              "#fb9f3a"
             ],
             [
              0.8888888888888888,
              "#fdca26"
             ],
             [
              1,
              "#f0f921"
             ]
            ],
            "type": "heatmapgl"
           }
          ],
          "histogram": [
           {
            "marker": {
             "pattern": {
              "fillmode": "overlay",
              "size": 10,
              "solidity": 0.2
             }
            },
            "type": "histogram"
           }
          ],
          "histogram2d": [
           {
            "colorbar": {
             "outlinewidth": 0,
             "ticks": ""
            },
            "colorscale": [
             [
              0,
              "#0d0887"
             ],
             [
              0.1111111111111111,
              "#46039f"
             ],
             [
              0.2222222222222222,
              "#7201a8"
             ],
             [
              0.3333333333333333,
              "#9c179e"
             ],
             [
              0.4444444444444444,
              "#bd3786"
             ],
             [
              0.5555555555555556,
              "#d8576b"
             ],
             [
              0.6666666666666666,
              "#ed7953"
             ],
             [
              0.7777777777777778,
              "#fb9f3a"
             ],
             [
              0.8888888888888888,
              "#fdca26"
             ],
             [
              1,
              "#f0f921"
             ]
            ],
            "type": "histogram2d"
           }
          ],
          "histogram2dcontour": [
           {
            "colorbar": {
             "outlinewidth": 0,
             "ticks": ""
            },
            "colorscale": [
             [
              0,
              "#0d0887"
             ],
             [
              0.1111111111111111,
              "#46039f"
             ],
             [
              0.2222222222222222,
              "#7201a8"
             ],
             [
              0.3333333333333333,
              "#9c179e"
             ],
             [
              0.4444444444444444,
              "#bd3786"
             ],
             [
              0.5555555555555556,
              "#d8576b"
             ],
             [
              0.6666666666666666,
              "#ed7953"
             ],
             [
              0.7777777777777778,
              "#fb9f3a"
             ],
             [
              0.8888888888888888,
              "#fdca26"
             ],
             [
              1,
              "#f0f921"
             ]
            ],
            "type": "histogram2dcontour"
           }
          ],
          "mesh3d": [
           {
            "colorbar": {
             "outlinewidth": 0,
             "ticks": ""
            },
            "type": "mesh3d"
           }
          ],
          "parcoords": [
           {
            "line": {
             "colorbar": {
              "outlinewidth": 0,
              "ticks": ""
             }
            },
            "type": "parcoords"
           }
          ],
          "pie": [
           {
            "automargin": true,
            "type": "pie"
           }
          ],
          "scatter": [
           {
            "fillpattern": {
             "fillmode": "overlay",
             "size": 10,
             "solidity": 0.2
            },
            "type": "scatter"
           }
          ],
          "scatter3d": [
           {
            "line": {
             "colorbar": {
              "outlinewidth": 0,
              "ticks": ""
             }
            },
            "marker": {
             "colorbar": {
              "outlinewidth": 0,
              "ticks": ""
             }
            },
            "type": "scatter3d"
           }
          ],
          "scattercarpet": [
           {
            "marker": {
             "colorbar": {
              "outlinewidth": 0,
              "ticks": ""
             }
            },
            "type": "scattercarpet"
           }
          ],
          "scattergeo": [
           {
            "marker": {
             "colorbar": {
              "outlinewidth": 0,
              "ticks": ""
             }
            },
            "type": "scattergeo"
           }
          ],
          "scattergl": [
           {
            "marker": {
             "colorbar": {
              "outlinewidth": 0,
              "ticks": ""
             }
            },
            "type": "scattergl"
           }
          ],
          "scattermapbox": [
           {
            "marker": {
             "colorbar": {
              "outlinewidth": 0,
              "ticks": ""
             }
            },
            "type": "scattermapbox"
           }
          ],
          "scatterpolar": [
           {
            "marker": {
             "colorbar": {
              "outlinewidth": 0,
              "ticks": ""
             }
            },
            "type": "scatterpolar"
           }
          ],
          "scatterpolargl": [
           {
            "marker": {
             "colorbar": {
              "outlinewidth": 0,
              "ticks": ""
             }
            },
            "type": "scatterpolargl"
           }
          ],
          "scatterternary": [
           {
            "marker": {
             "colorbar": {
              "outlinewidth": 0,
              "ticks": ""
             }
            },
            "type": "scatterternary"
           }
          ],
          "surface": [
           {
            "colorbar": {
             "outlinewidth": 0,
             "ticks": ""
            },
            "colorscale": [
             [
              0,
              "#0d0887"
             ],
             [
              0.1111111111111111,
              "#46039f"
             ],
             [
              0.2222222222222222,
              "#7201a8"
             ],
             [
              0.3333333333333333,
              "#9c179e"
             ],
             [
              0.4444444444444444,
              "#bd3786"
             ],
             [
              0.5555555555555556,
              "#d8576b"
             ],
             [
              0.6666666666666666,
              "#ed7953"
             ],
             [
              0.7777777777777778,
              "#fb9f3a"
             ],
             [
              0.8888888888888888,
              "#fdca26"
             ],
             [
              1,
              "#f0f921"
             ]
            ],
            "type": "surface"
           }
          ],
          "table": [
           {
            "cells": {
             "fill": {
              "color": "#EBF0F8"
             },
             "line": {
              "color": "white"
             }
            },
            "header": {
             "fill": {
              "color": "#C8D4E3"
             },
             "line": {
              "color": "white"
             }
            },
            "type": "table"
           }
          ]
         },
         "layout": {
          "annotationdefaults": {
           "arrowcolor": "#2a3f5f",
           "arrowhead": 0,
           "arrowwidth": 1
          },
          "autotypenumbers": "strict",
          "coloraxis": {
           "colorbar": {
            "outlinewidth": 0,
            "ticks": ""
           }
          },
          "colorscale": {
           "diverging": [
            [
             0,
             "#8e0152"
            ],
            [
             0.1,
             "#c51b7d"
            ],
            [
             0.2,
             "#de77ae"
            ],
            [
             0.3,
             "#f1b6da"
            ],
            [
             0.4,
             "#fde0ef"
            ],
            [
             0.5,
             "#f7f7f7"
            ],
            [
             0.6,
             "#e6f5d0"
            ],
            [
             0.7,
             "#b8e186"
            ],
            [
             0.8,
             "#7fbc41"
            ],
            [
             0.9,
             "#4d9221"
            ],
            [
             1,
             "#276419"
            ]
           ],
           "sequential": [
            [
             0,
             "#0d0887"
            ],
            [
             0.1111111111111111,
             "#46039f"
            ],
            [
             0.2222222222222222,
             "#7201a8"
            ],
            [
             0.3333333333333333,
             "#9c179e"
            ],
            [
             0.4444444444444444,
             "#bd3786"
            ],
            [
             0.5555555555555556,
             "#d8576b"
            ],
            [
             0.6666666666666666,
             "#ed7953"
            ],
            [
             0.7777777777777778,
             "#fb9f3a"
            ],
            [
             0.8888888888888888,
             "#fdca26"
            ],
            [
             1,
             "#f0f921"
            ]
           ],
           "sequentialminus": [
            [
             0,
             "#0d0887"
            ],
            [
             0.1111111111111111,
             "#46039f"
            ],
            [
             0.2222222222222222,
             "#7201a8"
            ],
            [
             0.3333333333333333,
             "#9c179e"
            ],
            [
             0.4444444444444444,
             "#bd3786"
            ],
            [
             0.5555555555555556,
             "#d8576b"
            ],
            [
             0.6666666666666666,
             "#ed7953"
            ],
            [
             0.7777777777777778,
             "#fb9f3a"
            ],
            [
             0.8888888888888888,
             "#fdca26"
            ],
            [
             1,
             "#f0f921"
            ]
           ]
          },
          "colorway": [
           "#636efa",
           "#EF553B",
           "#00cc96",
           "#ab63fa",
           "#FFA15A",
           "#19d3f3",
           "#FF6692",
           "#B6E880",
           "#FF97FF",
           "#FECB52"
          ],
          "font": {
           "color": "#2a3f5f"
          },
          "geo": {
           "bgcolor": "white",
           "lakecolor": "white",
           "landcolor": "#E5ECF6",
           "showlakes": true,
           "showland": true,
           "subunitcolor": "white"
          },
          "hoverlabel": {
           "align": "left"
          },
          "hovermode": "closest",
          "mapbox": {
           "style": "light"
          },
          "paper_bgcolor": "white",
          "plot_bgcolor": "#E5ECF6",
          "polar": {
           "angularaxis": {
            "gridcolor": "white",
            "linecolor": "white",
            "ticks": ""
           },
           "bgcolor": "#E5ECF6",
           "radialaxis": {
            "gridcolor": "white",
            "linecolor": "white",
            "ticks": ""
           }
          },
          "scene": {
           "xaxis": {
            "backgroundcolor": "#E5ECF6",
            "gridcolor": "white",
            "gridwidth": 2,
            "linecolor": "white",
            "showbackground": true,
            "ticks": "",
            "zerolinecolor": "white"
           },
           "yaxis": {
            "backgroundcolor": "#E5ECF6",
            "gridcolor": "white",
            "gridwidth": 2,
            "linecolor": "white",
            "showbackground": true,
            "ticks": "",
            "zerolinecolor": "white"
           },
           "zaxis": {
            "backgroundcolor": "#E5ECF6",
            "gridcolor": "white",
            "gridwidth": 2,
            "linecolor": "white",
            "showbackground": true,
            "ticks": "",
            "zerolinecolor": "white"
           }
          },
          "shapedefaults": {
           "line": {
            "color": "#2a3f5f"
           }
          },
          "ternary": {
           "aaxis": {
            "gridcolor": "white",
            "linecolor": "white",
            "ticks": ""
           },
           "baxis": {
            "gridcolor": "white",
            "linecolor": "white",
            "ticks": ""
           },
           "bgcolor": "#E5ECF6",
           "caxis": {
            "gridcolor": "white",
            "linecolor": "white",
            "ticks": ""
           }
          },
          "title": {
           "x": 0.05
          },
          "xaxis": {
           "automargin": true,
           "gridcolor": "white",
           "linecolor": "white",
           "ticks": "",
           "title": {
            "standoff": 15
           },
           "zerolinecolor": "white",
           "zerolinewidth": 2
          },
          "yaxis": {
           "automargin": true,
           "gridcolor": "white",
           "linecolor": "white",
           "ticks": "",
           "title": {
            "standoff": 15
           },
           "zerolinecolor": "white",
           "zerolinewidth": 2
          }
         }
        },
        "xaxis": {
         "anchor": "y",
         "domain": [
          0,
          1
         ],
         "title": {
          "text": "ORG"
         }
        },
        "yaxis": {
         "anchor": "x",
         "domain": [
          0,
          1
         ],
         "title": {
          "text": "SCORE"
         }
        }
       }
      },
      "text/html": [
       "<div>                            <div id=\"9d329c0c-e047-4f94-9459-e193f646a389\" class=\"plotly-graph-div\" style=\"height:525px; width:100%;\"></div>            <script type=\"text/javascript\">                require([\"plotly\"], function(Plotly) {                    window.PLOTLYENV=window.PLOTLYENV || {};                                    if (document.getElementById(\"9d329c0c-e047-4f94-9459-e193f646a389\")) {                    Plotly.newPlot(                        \"9d329c0c-e047-4f94-9459-e193f646a389\",                        [{\"alignmentgroup\":\"True\",\"hovertemplate\":\"ORG=%{x}\\u003cbr\\u003eSCORE=%{y}\\u003cextra\\u003e\\u003c\\u002fextra\\u003e\",\"legendgroup\":\"\",\"marker\":{\"color\":\"#636efa\",\"pattern\":{\"shape\":\"\"}},\"name\":\"\",\"offsetgroup\":\"\",\"orientation\":\"v\",\"showlegend\":false,\"textposition\":\"auto\",\"x\":[\"$DAR Flexible Solutions international\",\"&\",\"&gt;PacWest\",\"&gt;Silicon Valley Bank\",\"*\",\"**France\",\"**MSCI World\",\"**MSCI World Equal Weighted\",\"**Paramount\",\"**United Kingdom\",\"21th Century Studios\",\"3M\",\"3xer\",\"401\",\"401k\",\"401ks\",\"AAPL\",\"AB\",\"ABBV\",\"ABC\",\"ADBE\",\"AIEA\",\"AIG\",\"ALTO\",\"AMC\",\"AMD\",\"AMEX\",\"AMN\",\"AMZN\",\"AMZN n AAPL\",\"ASML\",\"ASTS\",\"ASTS Polight\",\"ASTS Polight Rocket Lab\",\"ATVI\",\"AVON\",\"AWS\",\"AXP\",\"Activision Blizzard\",\"Adobe\",\"Agronomics\",\"Air Canada\",\"Albemarle Corp\",\"Alinea\",\"Alliance Bernstein\",\"Alpaca\",\"Alphabet\",\"Altria\",\"Amazon\",\"Amazon Prime\",\"Amazon Web Services\",\"American Funds\",\"American Funds Bond\",\"American Funds Invmt Co\",\"Ameritrade\",\"Amex\",\"Anheuser-Busch InBev\",\"Anthropic\",\"Apple\",\"Ares Management\",\"Arizona State University\",\"Arrived Homes\",\"Ars Technica\",\"Artemis Capital's\",\"Ashmoore\",\"Avantis\",\"Avon\",\"Avon protection\",\"BABA\",\"BAC\",\"BBC\",\"BBC News\",\"BIO\",\"BITO\",\"BLANK\",\"BLS\",\"BLV\",\"BNTX\",\"BOJ\",\"BRK-B.\",\"BUD\",\"BYD\",\"BYND\",\"BZH\",\"Bank\",\"Bank A\",\"Bank B\",\"Bank C\",\"Bank of America\",\"Bank of China\",\"Beal Bank\",\"Beazer Homes\",\"Beazer Homes US\",\"Beazer Homes USA, Inc.\",\"Berkshire\",\"Binance\",\"Bing Chat\",\"Bio Rad Laboratories\",\"BlackRock\",\"BlackRock Voting Choice\",\"Blackrock\",\"Block \\u002f Square\",\"Bloomberg\",\"Bloomberg Television\",\"Bluejay Mining\",\"BoA\",\"Board of Directors\",\"Boeing\",\"Boeings\",\"BofA\",\"Bogglehead\",\"Boolio Invest\",\"Boston Trust\",\"Bowers Wealth Management\",\"Brokerage\",\"Brookfield\",\"Buffett\",\"Business Wire\",\"CBDC\",\"CFRA\",\"CFTC\",\"CIFR\",\"CME\",\"CME Group](https:\\u002f\\u002fwww.cmegroup.com\",\"CNBC\",\"CNBC Wealth\",\"COVID\",\"CSIQ\",\"CSIS\",\"CWGIX\",\"CanLII\",\"Canadian Solar\",\"Capgemini\",\"Capital One\",\"Central Bank Digital Currency\",\"Charles Schwab\",\"Chase\",\"ChatGPT\",\"Cheniere Energy\",\"Chex\",\"Chime\",\"Cineworld\",\"Cipher Mining\",\"Citigroup Inc.'s\",\"Co.\",\"Coca cola\",\"Coffeezilla\",\"Coin\",\"Coinbase\",\"Coles\",\"Collector Box\",\"Commerce bank\",\"Congress\",\"ContraFund K6\",\"Costco\",\"Coty\",\"Coupang\",\"Coutts\",\"Covid\",\"Crowdstreet\",\"DCA\",\"DEGIRO\",\"DG\",\"DIS\",\"DSW CAPITAL INDUSTRIAL SUPPORT SERVICES\",\"Darling Ingredients\",\"Defense, Space, and Security\",\"Dell\",\"Discover\",\"Disney\",\"Dizraptor\",\"DoD\",\"Dollar General\",\"Domino's\",\"Domino's Pizza\",\"Duke Energy\",\"E*Trade\",\"ECB\",\"EGX\",\"EJ\",\"ESOP\",\"ESPP\",\"ETrade\",\"EU\",\"Early Retirement Extreme\",\"Edelman\",\"Edward Jones\",\"Edward jones\",\"Ellevest\",\"Embark Technologies\",\"Emmerson\",\"Energy X\",\"Etoro\",\"European Ed\",\"Eurostat\",\"ExxonMobil\",\"FA\",\"FBGRX\",\"FCA\",\"FDIC\",\"FDX\",\"FED\",\"FEPIX\",\"FHA\",\"FIB\",\"FINRA\",\"FMC\",\"FMC Corporation\",\"FNILX\",\"FNXMC\",\"FOMC\",\"FSKAX\",\"FT\",\"FXAIX\",\"Facebook\",\"Fama\\u002fFrench\\u2019s\",\"Fed\",\"Federal\",\"Federal Home Loan Bank\",\"Federal Reserve\",\"Federal Reserve Board\",\"Fedex\",\"Feds\",\"Fidelity\",\"Fidelity Advisor Bond\",\"Fidelity FidFolios\",\"Fidelity Go\",\"Fidelity Money Market\",\"Fidelity Monitor &\",\"Fidelity Zero Funds\",\"Fidelity, Schwab,\",\"Fifth Third\",\"First Horizon\",\"First Republic\",\"First Republic Bank\",\"Forbes\",\"Ford\",\"Fox\",\"Fundrise\",\"Futbul Webull Investing.com\",\"G8\",\"GE\",\"GI Bill\",\"GOOG\",\"GOOGL\",\"GSCI\",\"GameStop\",\"Goldman\",\"Goldman Sachs\",\"Goldman Sachs Custody Solutions\",\"Goldman Sachs Group\",\"Google\",\"Google\\u002fMSFT\\u2019s\",\"Green Street\",\"HFEA\",\"HKSE\",\"HL\",\"HMC\",\"HML\",\"HSA\",\"HSBC\",\"HYSA\",\"Hargreaves Lansdown\",\"Hasbro\",\"Heineken\",\"Home Depot\",\"IB\",\"IBEW\",\"IBKR\",\"IBKR lite\",\"IBM\",\"ICLN\",\"IMF\",\"INTC\",\"IONQ\",\"IP\",\"IRS\",\"ISA\",\"ISCG\",\"ITM\",\"ITOT\",\"IXUS\",\"Ibonds\",\"InBev\",\"Ind Bene\",\"Inditex\",\"Intel\",\"Interactive Brokers\",\"International\",\"International Paper\",\"Invesco\",\"Investment Advisor\",\"IonQ\",\"J&amp;J move\",\"J&amp;J,\",\"JEPI\",\"JEPQ\",\"JET\",\"JFTUX\",\"JP \\u002f William Blair \\u002f Barclays\",\"JP Investor Growth\",\"JP Morgan\",\"JPMorgan\",\"JPMorgan Chase &amp\",\"JSTC\",\"John Hancock\",\"Johnson &amp; Johnson\",\"Juniors\",\"KHC\",\"KKR\",\"KO\",\"KSE\",\"Kenvue\",\"Kenvue &lt;KVUE.N&gt;\",\"Koyfin\",\"LAC\",\"LG\",\"LILM\",\"LILMW\",\"LLAMA\",\"LLC\",\"LNG\",\"LSPD\",\"LVMH\",\"Lego\",\"Lehman\",\"Lending Club\",\"Lexus\",\"LinkedIn\",\"Lithium Amers Corp\",\"Lucid\",\"Lumen\",\"Lumen Technologies\",\"Lumen Technologies, Inc.\",\"Lumen Technologies\\u2019\",\"Lyft\",\"Lyxor\",\"L\\u2019Or\\u00e9al\",\"MARA\",\"MCG\",\"META\",\"MFECX\",\"MITC\",\"MMM\",\"MNMD\",\"MOTNF\",\"MPW\",\"MRNA\",\"MSCI\",\"MSCI EAFE\",\"MSCI EAFE Small Cap\",\"MSFT\",\"Magic\",\"Marcus\",\"Marlboro's\",\"Mastercard\",\"Masterworks\",\"McDonald\",\"McDonalds\",\"Medical Properties Trust\",\"Meituan\",\"Mercedes\",\"Merck KGaA\",\"Merrill\",\"Merrill Edge\",\"Merrill Lynch\",\"Merrill\\u002fUBS\",\"MetLife GAC\",\"Meta\",\"Meta \\u002f Facebook\",\"Meta Platforms\",\"Microsoft\",\"Mind Medicine\",\"Mobico Group\",\"Moderna\",\"Money Market\",\"Monzo\",\"MooMoo\",\"Morgan\",\"Morgan Stanley\",\"MorningStart\",\"Morningstar\",\"Morningstar Portfolio\",\"Morningstar Premium\",\"Morningstar's\",\"Motley Fool\",\"NASA\",\"NASDAQ\",\"NATGAS\",\"NDQ\\u002fNYSE\",\"NFLX\",\"NIH\",\"NKLA\",\"NRSRX\",\"NSC\",\"NSE\",\"NTR\",\"NULG\",\"NVDA\",\"NVIDIA\",\"NYSE\",\"Nasdaq\",\"NatWest\",\"Nerdwallet\",\"Nestl\\u00e9\",\"Net Capital\",\"Netflix\",\"Neuberger Equity\",\"Neuralink\",\"Nvidia\",\"OGEAX\",\"Olympian Motors\",\"Ontario Superior Court\",\"Optum Bank\",\"Optum Health\",\"Oracle\",\"Ossiam US\",\"Overstock.com\",\"PBR\",\"PENN\",\"PG\",\"PINS\",\"PLTR\",\"PMI\",\"PYPL\",\"PacWest\",\"PacWest Bancorp\",\"Palantir\",\"PayPal\",\"Penn Entertainment\",\"Pennie\",\"Pennie\\u2019s\",\"PepsiCo\",\"Petro - Lewis\",\"Pew\",\"Philip Morris International\",\"Philip Morris Intetnational\",\"Plaid\",\"PowerTap Hydrogen Fueling Corp\",\"Powertap Hydrogen Capital Corp.\",\"QQQ\",\"Qualtrics\",\"Questrade\",\"RBC\",\"RBLX\",\"REIT\",\"REPAYE\",\"RFHTX\",\"RH\",\"RIG\",\"ROTH\",\"RSX\",\"Rasa Industries](https:\\u002f\\u002ffinance.yahoo.com\",\"Reddit\",\"Refinitiv\",\"Reuters\",\"Revolut\",\"Rjx-a.v\",\"Robinhood\",\"Robinhoods\",\"Roblox\",\"Rocket Lab\",\"Roth\",\"Royal Bank\",\"RunnerCity\",\"S&amp;P tracked\",\"SAE\",\"SC\",\"SCHD charles schwab u.s div\",\"SCHW\",\"SEBI\",\"SEC\",\"SHOP\",\"SIMO\",\"SNPE\",\"SOFI Steakholder Foods\",\"SP500\",\"SPAXX\",\"SPY\",\"SS\",\"SSA\",\"STKA\",\"STKB\",\"STLD\",\"SWAGX\",\"SWISX\",\"SWPPX\",\"SWTSX\",\"SWVXX\",\"Samsung\",\"Savings\",\"Schroders\",\"Schwaab\",\"Schwab\",\"Scion Capital\",\"Seeking Alpha\",\"Sensor Tower\",\"Sequioa\",\"Sequouia Capital\",\"Shopify\",\"SigFig\",\"Sigfig\",\"Signature Bank\",\"Silicon Valley Bank\",\"SimilarWeb\",\"SoFi\",\"Sony\",\"Southern Copper\",\"Southwest\",\"Sports\",\"Square\",\"Starbucks\",\"Stash\",\"State\",\"State Street\",\"Steel Dynamics\",\"Stifel\",\"Stripe\",\"T. Rowe Price\",\"TAN ETF\",\"TD\",\"TD Ameritrade\",\"TDA\",\"TDAmeritrade\",\"TGT\",\"TIA\",\"TLRY\",\"TMC\",\"TRMB\",\"TSLA\",\"TSN\",\"Target\",\"Target Retirement\",\"Tattooed Chef\",\"Taxable\",\"Tbills\",\"Telsa\",\"Templeton International Smaller Co\",\"Tencent Holdings Ltd\",\"Tesla\",\"The U.S. Federal Reserve\",\"Threads\",\"Tolkein\",\"Transocean\",\"Treasury\",\"Treasury Direct\",\"Treasurys\",\"Trimble\",\"TurboTax\",\"Twilio\",\"Twitter\",\"U.S. Bureau of Labor Statistics\",\"U.S. Government Securities Fund\",\"U.S. Securities and Exchange Commission\",\"UA\",\"UBER\",\"UK Funds\",\"UPRO\",\"UPS\",\"US Bank\",\"USA Today\",\"USAA\",\"USB\",\"Uber\",\"UiPath\",\"Unity\",\"Universa\",\"Universa Hedge Fund\",\"University\",\"Univesity\",\"VA\",\"VBIAX\",\"VBTLX\",\"VF Corp\",\"VFC\",\"VFIAX\",\"VGT\",\"VIG\",\"VMFXX\",\"VMRXX\",\"VNFXX\",\"VOO\",\"VOTE\",\"VT\",\"VTI\",\"VTSAX\",\"VUAA\",\"VUKE\",\"VUSA\",\"VUSXX\",\"VW\",\"VWINX\",\"VXUS\",\"VXUS vanguard\",\"VYM\",\"VZ\",\"Vangaurd\",\"Vanguard\",\"Vanguard Lifestrategy\",\"Vanguard Target\",\"Vanguard Target date\",\"Vanguard VINIX\",\"Vanguard VMRXX's\",\"Verizon\",\"Virtuix\",\"Visa\",\"Vodaphone\",\"Volkswagen\",\"Volvo\",\"Volvos\",\"Voting Choice\",\"WFG\",\"WML\",\"WWTAA\",\"Wall Street Journal\",\"WeBull\",\"Wealthfront\",\"Wealthsimple\",\"Webull\",\"Wells Fargo\",\"Wells Fargo &\",\"Welmac\",\"Western Alliance\",\"Whiskey Wealth Club\",\"Wikipedia\",\"Wilary Winn\",\"WisdomTree\",\"Wizards\",\"Wizards of the Coast\",\"X\",\"XDV\",\"XET\\u002fTDG\",\"XLK\",\"XOM\",\"XP Power ltd\",\"XPeng\",\"XYZ\",\"Xtrackers\",\"Yahoo Finance\",\"YouTube\",\"Youtube\",\"ZIM\",\"ZSE\",\"ZYNs\",\"Zim\",\"ZoomInfo\",\"a Pricing Committee\",\"ally\",\"amazon\",\"amp\",\"barclays\",\"bbbyq\",\"bdc etf\",\"blackrock\",\"boglehead\",\"bogleheads\",\"capital one\",\"chase\",\"dea\",\"eTrade\",\"etoro\",\"etrade\",\"fed\",\"feds\",\"fidelity\",\"financialjuice\",\"fitch\",\"fx impact\",\"google\",\"govt\",\"gt\",\"gt;PacWest\",\"gt;Silicon Valley Bank\",\"hsas\",\"iShares Board\",\"iShares\\u002fBlackrock\",\"inVFIAX\",\"ind bene\",\"instagram\",\"interactive brokers\",\"ir\",\"ira\",\"masterworks\",\"merrill\",\"merrill\\u002fUBS\",\"merrill\\u002fUBS\\u002fBarclay\\u2019s\",\"msos\",\"non US\",\"non halal index\",\"non-USA\",\"od Arkk\",\"ostk\",\"payflex\",\"public\",\"reddit\",\"rjk explorations\",\"robinhood\",\"roth ira\",\"schwab\",\"schwabs\",\"seekingalpha\",\"senate\",\"silverlake\",\"social security\",\"spy\",\"spyi\",\"svol\",\"td ameritrade\\u002ftos\",\"telegram\",\"tesla\",\"tesla Stock\",\"teslas\",\"the Board of Trustees\",\"the Board of Trustees of the Trust\",\"the Bureau of Labor Statistics\",\"the China Finance 40 Forum\",\"the Department of FREAKIN Justice\",\"the Federal Deposit Insurance Corp.\",\"the Federal Home Loan Bank\",\"the Federal Home Loan Banks\",\"the Federal Open Market Committee\",\"the Federal Reserve\",\"the Federal Reserve's\",\"the Financial Conduct Authority\",\"the Kansas Bankers Association\",\"the Korean Stock Exchange\",\"the Motley Fool\",\"the Nomura Research Institute\",\"the S&amp;P 500\",\"the S&amp;P for\",\"the Supreme Court\",\"the Tolkein Estate\",\"the U.S. Department of the Treasury\",\"the US Government\",\"the Wall Street Journal\",\"the bank of nova scotia\",\"tltw\",\"tonlopk\",\"trad\",\"treasury\",\"treasury direct\",\"treasury direct website\",\"usd\",\"vanguard\",\"vanguard ftse\",\"vanguard personal advisor services\",\"wealthfront\",\"wealthsimple\",\"yahoo\"],\"xaxis\":\"x\",\"y\":[0.6607517600059509,-0.9999470114707947,-0.991942286491394,-0.991942286491394,0.7113593220710754,0.7113593220710754,-0.9994832277297974,-0.9994832277297974,0.7113593220710754,0.7113593220710754,-0.9995918869972229,-0.9999958276748657,-0.9987254738807678,-0.003667473793029785,0.9947702288627625,-0.9763376116752625,-0.5797646939754486,-0.9885332584381104,-0.11671885848045349,-0.9998990297317505,-0.9999792575836182,-0.99895179271698,-0.9998384714126587,-0.9957454800605774,0.7113593220710754,-0.3308235804239909,-0.9863590598106384,-0.999996542930603,-0.33410414059956867,-0.9999516010284424,-0.9873062372207642,-0.9996862411499023,-0.9996862411499023,-0.9996862411499023,-0.9998227655887604,-0.9997497200965881,0.9880872964859009,-0.11185503005981445,-0.9997497200965881,-0.9999792575836182,-0.9996862411499023,-0.07774382829666138,0.9935129284858704,-0.9994702935218811,-0.9885332584381104,-0.9999262094497681,-0.9944616913795471,-0.9981488883495331,-0.42324077420764505,0.9880872964859009,0.9880872964859009,0.16928565502166748,0.99298495054245,0.99298495054245,0.8323039809862772,-0.9993730187416077,-0.9995556473731995,-0.8634019494056702,-0.8835974651224473,-0.991942286491394,-0.9873062372207642,-0.9996590614318848,-0.999924898147583,-0.7812795639038086,-0.9997497200965881,0.5229065418243408,-0.9997497200965881,-0.9997497200965881,-0.9291248917579651,-0.11671885848045349,-0.9999045133590698,-0.9999045133590698,-0.9999792575836182,-0.9996935129165649,-0.9999896287918091,-0.9941067695617676,-0.9997932314872742,-0.9999792575836182,-0.9797489047050476,-0.9999840259552002,-0.9995556473731995,-0.9459089636802673,-0.9999958276748657,-0.9995444416999817,-0.9999388456344604,-0.9999305009841919,-0.9999305009841919,-0.9999305009841919,-0.9960867166519165,-0.9979776740074158,-0.9979776740074158,-0.9995444416999817,-0.9995444416999817,-0.9995444416999817,-0.9996318817138672,-0.9972677230834961,-0.9918302893638611,-0.9997497200965881,-0.1704598367214203,0.6590201258659363,-0.9984937707583109,-0.9999958276748657,-0.4275213281313579,-0.9941650032997131,-0.9997497200965881,-0.9837888479232788,-0.9997677206993103,-0.999828428030014,-0.9997319579124451,-0.9863932728767395,-0.9999771118164062,-0.9769559502601624,-0.654413640499115,-0.9968665242195129,-0.9998764991760254,-0.9996862411499023,-0.9995231628417969,0.6590201258659363,-0.9848843812942505,-0.9959622025489807,-0.9999796152114868,-0.9845939874649048,-0.9999912977218628,-0.9698743224143982,0.5406901836395264,-0.998971700668335,0.8430612087249756,-0.9960867166519165,-0.9995869994163513,-0.9995065927505493,-0.9995444416999817,-0.9960867166519165,-0.998971700668335,-0.994344969590505,-0.9848843812942505,-0.9988669157028198,-0.9864518642425537,-0.9769559502601624,-0.9960867166519165,-0.9999836683273315,-0.9837888479232788,-0.9997497200965881,-0.9845939874649048,-0.9966959953308105,-0.9966959953308105,-0.8897457122802734,-0.9999796152114868,-0.9994922876358032,-0.9972677230834961,-0.9966273903846741,-0.9844694137573242,-0.9999772310256958,-0.9999735355377197,0.935875415802002,-0.9977686405181885,-0.9998586177825928,0.7113593220710754,-0.9999045133590698,-0.9999562501907349,-0.999984622001648,0.9867493510246277,-0.8897457122802734,-0.9995840191841125,-0.9998603761196136,0.9978233575820923,0.6607517600059509,-0.999924898147583,-0.9999775886535645,-0.9667719602584839,-0.13007360696792603,-0.8634019494056702,-0.9869863390922546,-0.9995840191841125,-0.9999927282333374,-0.9999927282333374,-0.9983235001564026,-0.9999836683273315,-0.9726284146308899,-0.9997779726982117,-0.9187182486057281,-0.9869863390922546,0.9950931072235107,-0.7755138278007507,-0.4353773593902588,-0.9842249155044556,-0.9885332584381104,-0.9991416037082672,-0.9999715089797974,-0.9996757507324219,-0.9999761581420898,-0.9996862411499023,0.6502843499183655,-0.9995469450950623,-0.9795676469802856,-0.9655079245567322,-0.9999397993087769,-0.6766064763069153,-0.9972690939903259,0.9335879683494568,-0.9945638179779053,-0.9999792575836182,-0.9987219721078873,-0.997687578201294,-0.9813206791877747,-0.9804912805557251,-0.9999964237213135,-0.9995935559272766,-0.9995935559272766,-0.6680880784988403,-0.9970147609710693,-0.9872203171253204,-0.9779114524523417,-0.9999905824661255,-0.9984884262084961,-0.9999798536300659,-0.9995231628417969,-0.9759298633126652,-0.9991175532341003,-0.9992735981941223,-0.9698743224143982,-0.9698743224143982,-0.9999792575836182,-0.9797489047050476,-0.6851966791682773,-0.997687578201294,-0.9986045956611633,0.9202160835266113,-0.9968665242195129,-0.9968665242195129,-0.9545732140541077,0.6942678689956665,-0.9885332584381104,-0.991942286491394,-0.991942286491394,-0.991942286491394,-0.9959096014499664,-0.9999033212661743,0.7113593220710754,-0.999984622001648,-0.9972681999206543,-0.9797489047050476,-0.6904032826423645,-0.9983235001564026,0.26526079575220746,-0.999618411064148,-0.99895179271698,-0.9998540878295898,-0.9998900890350342,-0.9968315362930298,-0.9996757507324219,-0.9966959953308105,-0.9218241771062216,-0.9900912046432495,-0.6403462290763855,0.6345443725585938,-0.999914288520813,0.9784482717514038,-0.9999792575836182,-0.9994832277297974,-0.9987467229366302,-0.764896422624588,-0.9943040609359741,-0.010650724172592163,-0.9844694137573242,-0.999933123588562,-0.9977686405181885,-0.7755138278007507,0.7389227151870728,0.9351088404655457,-0.9997873902320862,-0.7292224764823914,-0.9999953508377075,-0.9941650032997131,-0.9997497200965881,0.13170072436332703,-0.9960867166519165,-0.7459037899971008,-0.9999685883522034,-0.9957454800605774,-0.9624898433685303,-0.9999423027038574,-0.9999423027038574,-0.9999617338180542,-0.9995556473731995,-0.9902290105819702,-0.9873062372207642,-0.9997497200965881,-0.9932819604873657,0.9880872964859009,-0.9960867166519165,-0.999936580657959,-0.9992876648902893,-0.7292224764823914,-0.9988462924957275,-0.9988462924957275,-0.9984785318374634,-0.9999423027038574,-0.9997497200965881,-0.997687578201294,-0.9905862212181091,-0.997687578201294,-0.8825342059135437,-0.9966959953308105,-0.9966959953308105,-0.9999397993087769,-0.9983235001564026,-0.9988462924957275,-0.9870834350585938,0.7626489996910095,0.7113593220710754,0.7626489996910095,-0.999901294708252,-0.9988462924957275,-0.9988462924957275,-0.9999421834945679,-0.9999958276748657,-0.999901294708252,-0.9964115023612976,-0.9964115023612976,-0.9853449463844299,-0.9996638298034668,-0.9960867166519165,-0.9999958276748657,-0.9873062372207642,0.9709572196006775,-0.9973453879356384,0.8291732668876648,-0.9291248917579651,-0.9999954700469971,-0.9999958276748657,0.7113593220710754,-0.9988440275192261,-0.9988440275192261,-0.9988440275192261,-0.9988440275192261,0.7113593220710754,-0.9999904632568359,-0.9873062372207642,-0.9998452663421631,-0.9997497200965881,-0.9999958276748657,-0.9995065927505493,-0.9996862411499023,-0.9999958276748657,-0.9999958276748657,-0.9999810457229614,-0.9997497200965881,-0.9999958276748657,0.6293879151344299,0.6293879151344299,0.6293879151344299,-0.9808049996693929,-0.9844694137573242,-0.9916845560073853,-0.9967750906944275,-0.9931087096532186,-0.9988419413566589,-0.999933123588562,-0.999933123588562,-0.9997497200965881,-0.999914288520813,0.9267781972885132,-0.9996862411499023,-0.9321640729904175,-0.9942290782928467,-0.9617519378662109,-0.9999916553497314,-0.997687578201294,-0.7736884223090278,-0.9999958276748657,-0.9900912046432495,-0.9933527310689291,-0.9999958276748657,-0.9997497200965881,-0.9999958276748657,-0.998379111289978,-0.9837888479232788,-0.9999850988388062,-0.9998900890350342,-0.9943191409111023,-0.9999535083770752,-0.17048439383506775,-0.9999767541885376,-0.9999767541885376,0.9567651748657227,-0.6782860457897186,-0.999924898147583,-0.996876311302185,-0.9995469450950623,0.9916954636573792,-0.9999710321426392,-0.9992339611053467,-0.999934196472168,-0.997687578201294,-0.999937891960144,-0.9997779726982117,-0.9999792575836182,-0.9999397993087769,-0.18950814008712774,-0.6908655881881713,-0.9920692145824432,-0.2882933417956034,-0.9999045133590698,-0.9918302893638611,-0.9999397993087769,0.6502843499183655,-0.9994150400161743,-0.997687578201294,-0.8634019494056702,-0.9896159370740255,-0.9999690055847168,-0.9999434947967529,-0.9995444416999817,-0.9252753257751465,-0.9252753257751465,-0.9997674822807312,-0.9410483837127686,-0.9999954700469971,-0.9999792575836182,-0.9999958276748657,0.7626489996910095,-0.9957454800605774,-0.9996789693832397,-0.9967750906944275,-0.9997497200965881,-0.991942286491394,-0.991942286491394,0.14101322491963703,-0.9837888479232788,-0.9999958276748657,-0.9999306201934814,-0.9999306201934814,-0.9995231628417969,-0.9999632835388184,-0.9977304339408875,-0.9967750906944275,-0.9967750906944275,-0.8634019494056702,-0.9999810457229614,-0.9999810457229614,-0.9984293381373087,-0.9624898433685303,-0.9995444416999817,-0.999922513961792,-0.9999958276748657,-0.9997497200965881,-0.9958661794662476,-0.9983235001564026,-0.9980752468109131,-0.9845939874649048,-0.9988669157028198,-0.9998013377189636,-0.9995869994163513,-0.6835424602031708,-0.9900912046432495,-0.9972135126590729,-0.999925971031189,-0.9944250583648682,-0.6933762110196626,-0.9916845560073853,0.14090760548909503,-0.9996862411499023,-0.9913157224655151,0.9769974946975708,-0.9608906507492065,-0.9972733855247498,-0.9999792575836182,-0.9584975838661194,-0.5207668542861938,-0.9974681735038757,-0.9999068975448608,-0.9988212330000741,-0.9999958276748657,-0.99395352602005,-0.9999397993087769,-0.9996862411499023,-0.9869863390922546,-0.9999771118164062,-0.99742724498113,-0.9977095127105713,-0.9977095127105713,-0.9998903274536133,-0.9998903274536133,-0.9960867166519165,-0.9946068227291107,-0.9988669157028198,-0.9999520778656006,-0.9988669157028198,-0.8609866698582967,-0.999901294708252,-0.9994974136352539,-0.9999555349349976,-0.9973453879356384,-0.5958531477621622,-0.7134320735931396,-0.718163400888443,-0.9998830556869507,-0.8447588086128235,-0.8447588086128235,-0.9999958276748657,-0.999618411064148,-0.999618411064148,-0.991942286491394,-0.991942286491394,-0.9998830556869507,-0.9943099021911621,0.7113593220710754,-0.9953215718269348,-0.9983235001564026,-0.9997814297676086,-0.9837888479232788,-0.9976934989293417,-0.9999934434890747,-0.9990735352039337,-0.9460100531578064,-0.9960867166519165,-0.9990488886833191,-0.9837888479232788,-0.9996883869171143,-0.8488628466924032,-0.998039322240012,-0.20475777983665466,-0.7755138278007507,-0.8239590227603912,-0.9995556473731995,0.003788858652114868,-0.7672207951545715,0.9926239252090454,-0.9999958276748657,0.27404029170672095,-0.9999792575836182,-0.9995556473731995,-0.9999517202377319,-0.9999942779541016,-0.9446895718574524,-0.9999704360961914,0.5307097434997559,-0.654413640499115,-0.999914288520813,-0.7453853562474251,-0.999629020690918,-0.05738666653633118,-0.9844694137573242,-0.9845939874649048,-0.0018028616905212402,-0.9961897432804108,-0.9393746256828308,-0.9999958276748657,-0.9980752468109131,0.7113593220710754,-0.5286697298288345,-0.9941067695617676,-0.9999920129776001,-0.9999344348907471,0.9351088404655457,-0.9978642165660858,-0.9669797420501709,-0.9997100234031677,0.14091312885284424,-0.9980601668357849,-0.9977304339408875,-0.9983235001564026,-0.9957454800605774,-0.9999829530715942,0.8430612087249756,-0.9999958276748657,-0.9998189806938171,-0.9998189806938171,0.6828674077987671,-0.9876356720924377,-0.9983235001564026,-0.9993178844451904,-0.998566597700119,-0.9999958276748657,-0.9999958276748657,-0.999936580657959,-0.9971022307872772,-0.11731219291687012,-0.992851048707962,-0.9894586801528931,-0.8616629242897034,-0.7834746374024285,-0.9999397993087769,-0.8674997587998708,-0.9753369603838239,-0.9320352077484131,-0.9996923208236694,-0.9999861717224121,-0.9996923208236694,-0.9999140501022339,-0.9996984004974365,-0.9955328702926636,-0.9931486050287882,-0.5207668542861938,-0.996562659740448,-0.9999958276748657,-0.9999861717224121,-0.7394797188394211,-0.9932819604873657,-0.654413640499115,0.935875415802002,-0.997687578201294,-0.9894586801528931,-0.9999958276748657,-0.9999642372131348,-0.9931087096532186,-0.9997497200965881,-0.9996984004974365,0.9267781972885132,0.9267781972885132,0.6590201258659363,-0.9999792575836182,-0.9994832277297974,-0.997687578201294,-0.991942286491394,0.9769974946975708,-0.9787388741970062,-0.9966273903846741,-0.9916845560073853,-0.9963198006153107,-0.9966959953308105,0.6232775449752808,-0.9999772310256958,0.9977492690086365,-0.9984825253486633,-0.991942286491394,-0.9975619316101074,-0.9844694137573242,-0.9844694137573242,-0.9999792575836182,0.9769974946975708,0.9916954636573792,0.7046378254890442,0.7626489996910095,-0.9997497200965881,-0.9459089636802673,-0.9998990297317505,-0.9980827569961548,-0.9997814297676086,-0.0033088624477386475,-0.9999642372131348,-0.9929637908935547,-0.9997779726982117,-0.9967750906944275,-0.9929637908935547,-0.9999958276748657,-0.9982354640960693,-0.9999977350234985,-0.6904032826423645,-0.9966959953308105,-0.9999631643295288,-0.9999954700469971,-0.9774856567382812,0.6590201258659363,-0.9447836875915527,-0.9447836875915527,-0.9923843145370483,-0.9997501969337463,-0.987891674041748,-0.9999535083770752,0.8500611186027527,-0.9999903440475464,-0.8987791339556376,-0.9999838471412659,-0.9743799865245819,-0.99167799949646,-0.9999516010284424,-0.9996606111526489,-0.9993266661961874,-0.9996883869171143,-0.999924898147583,-0.991942286491394,-0.991942286491394,-0.9977095127105713,0.6590201258659363,-0.9993353486061096,0.5694159865379333,-0.9902290105819702,-0.9998830556869507,-0.9999977350234985,-0.9998903274536133,-0.9964444041252136,-0.9988419413566589,-0.9964444041252136,-0.9999916553497314,-0.9999916553497314,-0.987891674041748,-0.6580177545547485,-0.9999648332595825,-0.9932819604873657,0.5514634847640991,-0.9999954700469971,-0.9977095127105713,0.9521543383598328,-0.9713451504707337,-0.9944250583648682,-0.4497289458910625,-0.9999276399612427,-0.9897058606147766,-0.9999033212661743,-0.9371382296085358,-0.987891674041748,-0.9624898433685303,-0.9983971118927002,-0.9999516010284424,-0.9982971549034119,-0.9982971549034119,0.6087640523910522,-0.99167799949646,0.9962121248245239,-0.9996606111526489,0.9267781972885132,-0.9982354640960693,-0.9982354640960693,-0.9941067695617676,-0.9941650032997131,-0.9252753257751465,-0.9952212572097778,-0.9992735981941223,-0.9992735981941223,-0.999629020690918,-0.9614192843437195,-0.9966959953308105,0.9335879683494568,-0.999629020690918,-0.999901294708252,-0.9999915361404419,-0.9941650032997131,0.5694159865379333,-0.9988419413566589,-0.9252753257751465,-0.9844694137573242,-0.9984095692634583,-0.9999942779541016,-0.9998830556869507,-0.9999768733978271,-0.9982971549034119,-0.503898024559021,-0.9998915195465088,-0.5596012361347675,-0.9970882534980774,-0.9991840720176697,-0.9996606111526489,-0.998290479183197,-0.5460039973258972,-0.9999853372573853,-0.9460100531578064,-0.999916672706604,-0.9997840523719788],\"yaxis\":\"y\",\"type\":\"bar\"}],                        {\"template\":{\"data\":{\"histogram2dcontour\":[{\"type\":\"histogram2dcontour\",\"colorbar\":{\"outlinewidth\":0,\"ticks\":\"\"},\"colorscale\":[[0.0,\"#0d0887\"],[0.1111111111111111,\"#46039f\"],[0.2222222222222222,\"#7201a8\"],[0.3333333333333333,\"#9c179e\"],[0.4444444444444444,\"#bd3786\"],[0.5555555555555556,\"#d8576b\"],[0.6666666666666666,\"#ed7953\"],[0.7777777777777778,\"#fb9f3a\"],[0.8888888888888888,\"#fdca26\"],[1.0,\"#f0f921\"]]}],\"choropleth\":[{\"type\":\"choropleth\",\"colorbar\":{\"outlinewidth\":0,\"ticks\":\"\"}}],\"histogram2d\":[{\"type\":\"histogram2d\",\"colorbar\":{\"outlinewidth\":0,\"ticks\":\"\"},\"colorscale\":[[0.0,\"#0d0887\"],[0.1111111111111111,\"#46039f\"],[0.2222222222222222,\"#7201a8\"],[0.3333333333333333,\"#9c179e\"],[0.4444444444444444,\"#bd3786\"],[0.5555555555555556,\"#d8576b\"],[0.6666666666666666,\"#ed7953\"],[0.7777777777777778,\"#fb9f3a\"],[0.8888888888888888,\"#fdca26\"],[1.0,\"#f0f921\"]]}],\"heatmap\":[{\"type\":\"heatmap\",\"colorbar\":{\"outlinewidth\":0,\"ticks\":\"\"},\"colorscale\":[[0.0,\"#0d0887\"],[0.1111111111111111,\"#46039f\"],[0.2222222222222222,\"#7201a8\"],[0.3333333333333333,\"#9c179e\"],[0.4444444444444444,\"#bd3786\"],[0.5555555555555556,\"#d8576b\"],[0.6666666666666666,\"#ed7953\"],[0.7777777777777778,\"#fb9f3a\"],[0.8888888888888888,\"#fdca26\"],[1.0,\"#f0f921\"]]}],\"heatmapgl\":[{\"type\":\"heatmapgl\",\"colorbar\":{\"outlinewidth\":0,\"ticks\":\"\"},\"colorscale\":[[0.0,\"#0d0887\"],[0.1111111111111111,\"#46039f\"],[0.2222222222222222,\"#7201a8\"],[0.3333333333333333,\"#9c179e\"],[0.4444444444444444,\"#bd3786\"],[0.5555555555555556,\"#d8576b\"],[0.6666666666666666,\"#ed7953\"],[0.7777777777777778,\"#fb9f3a\"],[0.8888888888888888,\"#fdca26\"],[1.0,\"#f0f921\"]]}],\"contourcarpet\":[{\"type\":\"contourcarpet\",\"colorbar\":{\"outlinewidth\":0,\"ticks\":\"\"}}],\"contour\":[{\"type\":\"contour\",\"colorbar\":{\"outlinewidth\":0,\"ticks\":\"\"},\"colorscale\":[[0.0,\"#0d0887\"],[0.1111111111111111,\"#46039f\"],[0.2222222222222222,\"#7201a8\"],[0.3333333333333333,\"#9c179e\"],[0.4444444444444444,\"#bd3786\"],[0.5555555555555556,\"#d8576b\"],[0.6666666666666666,\"#ed7953\"],[0.7777777777777778,\"#fb9f3a\"],[0.8888888888888888,\"#fdca26\"],[1.0,\"#f0f921\"]]}],\"surface\":[{\"type\":\"surface\",\"colorbar\":{\"outlinewidth\":0,\"ticks\":\"\"},\"colorscale\":[[0.0,\"#0d0887\"],[0.1111111111111111,\"#46039f\"],[0.2222222222222222,\"#7201a8\"],[0.3333333333333333,\"#9c179e\"],[0.4444444444444444,\"#bd3786\"],[0.5555555555555556,\"#d8576b\"],[0.6666666666666666,\"#ed7953\"],[0.7777777777777778,\"#fb9f3a\"],[0.8888888888888888,\"#fdca26\"],[1.0,\"#f0f921\"]]}],\"mesh3d\":[{\"type\":\"mesh3d\",\"colorbar\":{\"outlinewidth\":0,\"ticks\":\"\"}}],\"scatter\":[{\"fillpattern\":{\"fillmode\":\"overlay\",\"size\":10,\"solidity\":0.2},\"type\":\"scatter\"}],\"parcoords\":[{\"type\":\"parcoords\",\"line\":{\"colorbar\":{\"outlinewidth\":0,\"ticks\":\"\"}}}],\"scatterpolargl\":[{\"type\":\"scatterpolargl\",\"marker\":{\"colorbar\":{\"outlinewidth\":0,\"ticks\":\"\"}}}],\"bar\":[{\"error_x\":{\"color\":\"#2a3f5f\"},\"error_y\":{\"color\":\"#2a3f5f\"},\"marker\":{\"line\":{\"color\":\"#E5ECF6\",\"width\":0.5},\"pattern\":{\"fillmode\":\"overlay\",\"size\":10,\"solidity\":0.2}},\"type\":\"bar\"}],\"scattergeo\":[{\"type\":\"scattergeo\",\"marker\":{\"colorbar\":{\"outlinewidth\":0,\"ticks\":\"\"}}}],\"scatterpolar\":[{\"type\":\"scatterpolar\",\"marker\":{\"colorbar\":{\"outlinewidth\":0,\"ticks\":\"\"}}}],\"histogram\":[{\"marker\":{\"pattern\":{\"fillmode\":\"overlay\",\"size\":10,\"solidity\":0.2}},\"type\":\"histogram\"}],\"scattergl\":[{\"type\":\"scattergl\",\"marker\":{\"colorbar\":{\"outlinewidth\":0,\"ticks\":\"\"}}}],\"scatter3d\":[{\"type\":\"scatter3d\",\"line\":{\"colorbar\":{\"outlinewidth\":0,\"ticks\":\"\"}},\"marker\":{\"colorbar\":{\"outlinewidth\":0,\"ticks\":\"\"}}}],\"scattermapbox\":[{\"type\":\"scattermapbox\",\"marker\":{\"colorbar\":{\"outlinewidth\":0,\"ticks\":\"\"}}}],\"scatterternary\":[{\"type\":\"scatterternary\",\"marker\":{\"colorbar\":{\"outlinewidth\":0,\"ticks\":\"\"}}}],\"scattercarpet\":[{\"type\":\"scattercarpet\",\"marker\":{\"colorbar\":{\"outlinewidth\":0,\"ticks\":\"\"}}}],\"carpet\":[{\"aaxis\":{\"endlinecolor\":\"#2a3f5f\",\"gridcolor\":\"white\",\"linecolor\":\"white\",\"minorgridcolor\":\"white\",\"startlinecolor\":\"#2a3f5f\"},\"baxis\":{\"endlinecolor\":\"#2a3f5f\",\"gridcolor\":\"white\",\"linecolor\":\"white\",\"minorgridcolor\":\"white\",\"startlinecolor\":\"#2a3f5f\"},\"type\":\"carpet\"}],\"table\":[{\"cells\":{\"fill\":{\"color\":\"#EBF0F8\"},\"line\":{\"color\":\"white\"}},\"header\":{\"fill\":{\"color\":\"#C8D4E3\"},\"line\":{\"color\":\"white\"}},\"type\":\"table\"}],\"barpolar\":[{\"marker\":{\"line\":{\"color\":\"#E5ECF6\",\"width\":0.5},\"pattern\":{\"fillmode\":\"overlay\",\"size\":10,\"solidity\":0.2}},\"type\":\"barpolar\"}],\"pie\":[{\"automargin\":true,\"type\":\"pie\"}]},\"layout\":{\"autotypenumbers\":\"strict\",\"colorway\":[\"#636efa\",\"#EF553B\",\"#00cc96\",\"#ab63fa\",\"#FFA15A\",\"#19d3f3\",\"#FF6692\",\"#B6E880\",\"#FF97FF\",\"#FECB52\"],\"font\":{\"color\":\"#2a3f5f\"},\"hovermode\":\"closest\",\"hoverlabel\":{\"align\":\"left\"},\"paper_bgcolor\":\"white\",\"plot_bgcolor\":\"#E5ECF6\",\"polar\":{\"bgcolor\":\"#E5ECF6\",\"angularaxis\":{\"gridcolor\":\"white\",\"linecolor\":\"white\",\"ticks\":\"\"},\"radialaxis\":{\"gridcolor\":\"white\",\"linecolor\":\"white\",\"ticks\":\"\"}},\"ternary\":{\"bgcolor\":\"#E5ECF6\",\"aaxis\":{\"gridcolor\":\"white\",\"linecolor\":\"white\",\"ticks\":\"\"},\"baxis\":{\"gridcolor\":\"white\",\"linecolor\":\"white\",\"ticks\":\"\"},\"caxis\":{\"gridcolor\":\"white\",\"linecolor\":\"white\",\"ticks\":\"\"}},\"coloraxis\":{\"colorbar\":{\"outlinewidth\":0,\"ticks\":\"\"}},\"colorscale\":{\"sequential\":[[0.0,\"#0d0887\"],[0.1111111111111111,\"#46039f\"],[0.2222222222222222,\"#7201a8\"],[0.3333333333333333,\"#9c179e\"],[0.4444444444444444,\"#bd3786\"],[0.5555555555555556,\"#d8576b\"],[0.6666666666666666,\"#ed7953\"],[0.7777777777777778,\"#fb9f3a\"],[0.8888888888888888,\"#fdca26\"],[1.0,\"#f0f921\"]],\"sequentialminus\":[[0.0,\"#0d0887\"],[0.1111111111111111,\"#46039f\"],[0.2222222222222222,\"#7201a8\"],[0.3333333333333333,\"#9c179e\"],[0.4444444444444444,\"#bd3786\"],[0.5555555555555556,\"#d8576b\"],[0.6666666666666666,\"#ed7953\"],[0.7777777777777778,\"#fb9f3a\"],[0.8888888888888888,\"#fdca26\"],[1.0,\"#f0f921\"]],\"diverging\":[[0,\"#8e0152\"],[0.1,\"#c51b7d\"],[0.2,\"#de77ae\"],[0.3,\"#f1b6da\"],[0.4,\"#fde0ef\"],[0.5,\"#f7f7f7\"],[0.6,\"#e6f5d0\"],[0.7,\"#b8e186\"],[0.8,\"#7fbc41\"],[0.9,\"#4d9221\"],[1,\"#276419\"]]},\"xaxis\":{\"gridcolor\":\"white\",\"linecolor\":\"white\",\"ticks\":\"\",\"title\":{\"standoff\":15},\"zerolinecolor\":\"white\",\"automargin\":true,\"zerolinewidth\":2},\"yaxis\":{\"gridcolor\":\"white\",\"linecolor\":\"white\",\"ticks\":\"\",\"title\":{\"standoff\":15},\"zerolinecolor\":\"white\",\"automargin\":true,\"zerolinewidth\":2},\"scene\":{\"xaxis\":{\"backgroundcolor\":\"#E5ECF6\",\"gridcolor\":\"white\",\"linecolor\":\"white\",\"showbackground\":true,\"ticks\":\"\",\"zerolinecolor\":\"white\",\"gridwidth\":2},\"yaxis\":{\"backgroundcolor\":\"#E5ECF6\",\"gridcolor\":\"white\",\"linecolor\":\"white\",\"showbackground\":true,\"ticks\":\"\",\"zerolinecolor\":\"white\",\"gridwidth\":2},\"zaxis\":{\"backgroundcolor\":\"#E5ECF6\",\"gridcolor\":\"white\",\"linecolor\":\"white\",\"showbackground\":true,\"ticks\":\"\",\"zerolinecolor\":\"white\",\"gridwidth\":2}},\"shapedefaults\":{\"line\":{\"color\":\"#2a3f5f\"}},\"annotationdefaults\":{\"arrowcolor\":\"#2a3f5f\",\"arrowhead\":0,\"arrowwidth\":1},\"geo\":{\"bgcolor\":\"white\",\"landcolor\":\"#E5ECF6\",\"subunitcolor\":\"white\",\"showland\":true,\"showlakes\":true,\"lakecolor\":\"white\"},\"title\":{\"x\":0.05},\"mapbox\":{\"style\":\"light\"}}},\"xaxis\":{\"anchor\":\"y\",\"domain\":[0.0,1.0],\"title\":{\"text\":\"ORG\"}},\"yaxis\":{\"anchor\":\"x\",\"domain\":[0.0,1.0],\"title\":{\"text\":\"SCORE\"}},\"legend\":{\"tracegroupgap\":0},\"margin\":{\"t\":60},\"barmode\":\"relative\"},                        {\"responsive\": true}                    ).then(function(){\n",
       "                            \n",
       "var gd = document.getElementById('9d329c0c-e047-4f94-9459-e193f646a389');\n",
       "var x = new MutationObserver(function (mutations, observer) {{\n",
       "        var display = window.getComputedStyle(gd).display;\n",
       "        if (!display || display === 'none') {{\n",
       "            console.log([gd, 'removed!']);\n",
       "            Plotly.purge(gd);\n",
       "            observer.disconnect();\n",
       "        }}\n",
       "}});\n",
       "\n",
       "// Listen for the removal of the full notebook cells\n",
       "var notebookContainer = gd.closest('#notebook-container');\n",
       "if (notebookContainer) {{\n",
       "    x.observe(notebookContainer, {childList: true});\n",
       "}}\n",
       "\n",
       "// Listen for the clearing of the current output cell\n",
       "var outputEl = gd.closest('.output');\n",
       "if (outputEl) {{\n",
       "    x.observe(outputEl, {childList: true});\n",
       "}}\n",
       "\n",
       "                        })                };                });            </script>        </div>"
      ]
     },
     "metadata": {},
     "output_type": "display_data"
    }
   ],
   "source": [
    "avg_score = df_score_sorted.groupby('ORG')['SCORE'].mean().reset_index()\n",
    "fig = px.bar(avg_score, x='ORG', y='SCORE')\n",
    "fig.show()"
   ]
  },
  {
   "cell_type": "code",
   "execution_count": null,
   "id": "478404a1-6ab6-4355-8eee-711bd11f8a6e",
   "metadata": {},
   "outputs": [],
   "source": []
  },
  {
   "cell_type": "code",
   "execution_count": null,
   "id": "594f6290-7bb6-4515-8f15-21492a03b50d",
   "metadata": {},
   "outputs": [],
   "source": []
  }
 ],
 "metadata": {
  "kernelspec": {
   "display_name": "Python 3 (ipykernel)",
   "language": "python",
   "name": "python3"
  },
  "language_info": {
   "codemirror_mode": {
    "name": "ipython",
    "version": 3
   },
   "file_extension": ".py",
   "mimetype": "text/x-python",
   "name": "python",
   "nbconvert_exporter": "python",
   "pygments_lexer": "ipython3",
   "version": "3.11.2"
  }
 },
 "nbformat": 4,
 "nbformat_minor": 5
}
