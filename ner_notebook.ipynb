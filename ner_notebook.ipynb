{
 "cells": [
  {
   "cell_type": "code",
   "execution_count": 1,
   "id": "0dbc00f8-7d74-42ed-b3ea-70f1c797e498",
   "metadata": {},
   "outputs": [],
   "source": [
    "import pandas as pd\n",
    "import numpy as np\n",
    "import spacy\n",
    "import requests\n",
    "import matplotlib.pyplot as plt\n",
    "from requests.auth import HTTPBasicAuth"
   ]
  },
  {
   "cell_type": "code",
   "execution_count": 11,
   "id": "14c16c87-5da8-4406-b792-4c60974404e7",
   "metadata": {},
   "outputs": [],
   "source": [
    "client_id = 'kjQMGYHYrtcO056jMFxJkQ'\n",
    "secret_token = 'k6K7tDWwv0Ph_4091BCE63NO4Rm-pA'\n",
    "auth = HTTPBasicAuth(client_id, secret_token)"
   ]
  },
  {
   "cell_type": "code",
   "execution_count": 106,
   "id": "cd470dce-4618-4ff2-99ff-8283eb3c44f8",
   "metadata": {},
   "outputs": [],
   "source": [
    "def refresh_token(clien_id=client_id, client_secret=secret_token):\n",
    "    auth = HTTPBasicAuth(client_id, secret_token)\n",
    "    payload = {\"grant_type\": \"password\", \"username\": \"anthony_tobi\", \"password\": \"oluwatobi2050\"}\n",
    "    headers = {\"User-Agent\": \"Roberta-Basev0.0.1 by anthony_tobi\"}\n",
    "    response = requests.post(\"https://www.reddit.com/api/v1/access_token\", auth=auth, data=payload, headers=headers)\n",
    "    headers[\"Authorization\"] = f\"bearer {response.json()['access_token']}\"\n",
    "    url = \"https://oauth.reddit.com\"\n",
    "    return headers, url"
   ]
  },
  {
   "cell_type": "code",
   "execution_count": 111,
   "id": "9dbbf555-5f46-4d83-9e91-fbf6c8390cb0",
   "metadata": {},
   "outputs": [],
   "source": [
    "headers, url = refresh_token(clien_id=client_id, client_secret=secret_token)"
   ]
  },
  {
   "cell_type": "code",
   "execution_count": 119,
   "id": "30cd1b9a-dabd-4fb5-b80b-59ac8047ed62",
   "metadata": {},
   "outputs": [],
   "source": [
    "def get_reddit_data(subreddit=\"Investing\",url=url, headers=headers):\n",
    "    res = requests.get(f\"{url}/r/{subreddit}/new\", headers=headers, params={\"limit\": 100})\n",
    "    data = pd.DataFrame({'name': [], 'title':[], 'selftext':[], 'category':[], 'upvote_ratio':[]})\n",
    "\n",
    "    while True:\n",
    "        try:\n",
    "            for post in res.json()['data']['children']:\n",
    "                # Convert the dictionary to a data frame\n",
    "                dict_to_append = {'name': post['data']['name'], 'title':post['data']['title'], 'selftext': post['data']['selftext'], \n",
    "                                  'category': post['data']['category'],'upvote_ratio': post['data']['upvote_ratio']}\n",
    "                # print(dict_to_append['name'])\n",
    "                df_to_append = pd.DataFrame(dict_to_append, index=[0])\n",
    "                \n",
    "                # Use concat to append the data\n",
    "                data = pd.concat([data, df_to_append], axis=0,ignore_index=True)\n",
    "            res = requests.get(f\"{url}/r/{subreddit}/new\", headers=headers, params={\"limit\": 100, \"after\": res.json()['data']['after']})\n",
    "        except:\n",
    "            return data"
   ]
  },
  {
   "cell_type": "code",
   "execution_count": 120,
   "id": "2ffda5d1-0694-4005-895e-72ed15957097",
   "metadata": {},
   "outputs": [],
   "source": [
    "df = get_reddit_data(subreddit=\"Investing\",url=url, headers=headers)"
   ]
  },
  {
   "cell_type": "code",
   "execution_count": 123,
   "id": "1754012f-c6a0-47f0-8f8c-e8a1fd7ce679",
   "metadata": {},
   "outputs": [],
   "source": [
    "# df.replace('|', '',inplace=True,regex=True)"
   ]
  },
  {
   "cell_type": "code",
   "execution_count": 125,
   "id": "f370f20d-394e-41dd-8e59-e5659da61989",
   "metadata": {},
   "outputs": [],
   "source": [
    "# import os\n",
    "\n",
    "# # Define the directory\n",
    "# directory = '../data'\n",
    "\n",
    "# # Check if the directory exists\n",
    "# if not os.path.exists(directory):\n",
    "#     # If the directory does not exist, create it\n",
    "#     os.makedirs(directory)\n",
    "\n",
    "#     df.to_csv(f'{directory}/reddit.csv',sep=\"|\",index=False)"
   ]
  },
  {
   "cell_type": "code",
   "execution_count": 126,
   "id": "44fdcb7b-ade4-4b1b-bdb1-41190728fc06",
   "metadata": {},
   "outputs": [],
   "source": [
    "nlp = spacy.load('en_core_web_trf')"
   ]
  },
  {
   "cell_type": "code",
   "execution_count": 127,
   "id": "117b9e5e-5bd0-47ad-9964-ca09b788e2f0",
   "metadata": {},
   "outputs": [],
   "source": [
    "text = res.json()['data']['children'][8]['data']['selftext']"
   ]
  },
  {
   "cell_type": "code",
   "execution_count": 128,
   "id": "44f1f394-a8f6-4f9b-98c9-f819fcfccfbd",
   "metadata": {},
   "outputs": [],
   "source": [
    "doc = nlp(text)"
   ]
  },
  {
   "cell_type": "code",
   "execution_count": 129,
   "id": "960d97fb-17a1-444b-b1d1-9a7d504a57f2",
   "metadata": {},
   "outputs": [
    {
     "data": {
      "text/html": [
       "<span class=\"tex2jax_ignore\"><div class=\"entities\" style=\"line-height: 2.5; direction: ltr\">Over \n",
       "<mark class=\"entity\" style=\"background: #bfe1d9; padding: 0.45em 0.6em; margin: 0 0.25em; line-height: 1; border-radius: 0.35em;\">\n",
       "    the past month\n",
       "    <span style=\"font-size: 0.8em; font-weight: bold; line-height: 1; border-radius: 0.35em; vertical-align: middle; margin-left: 0.5rem\">DATE</span>\n",
       "</mark>\n",
       " \n",
       "<mark class=\"entity\" style=\"background: #7aecec; padding: 0.45em 0.6em; margin: 0 0.25em; line-height: 1; border-radius: 0.35em;\">\n",
       "    FMC\n",
       "    <span style=\"font-size: 0.8em; font-weight: bold; line-height: 1; border-radius: 0.35em; vertical-align: middle; margin-left: 0.5rem\">ORG</span>\n",
       "</mark>\n",
       "'s stock has seen some fluctuations. The stock opened at $\n",
       "<mark class=\"entity\" style=\"background: #e4e7d2; padding: 0.45em 0.6em; margin: 0 0.25em; line-height: 1; border-radius: 0.35em;\">\n",
       "    105.27\n",
       "    <span style=\"font-size: 0.8em; font-weight: bold; line-height: 1; border-radius: 0.35em; vertical-align: middle; margin-left: 0.5rem\">MONEY</span>\n",
       "</mark>\n",
       " on \n",
       "<mark class=\"entity\" style=\"background: #bfe1d9; padding: 0.45em 0.6em; margin: 0 0.25em; line-height: 1; border-radius: 0.35em;\">\n",
       "    July 1st\n",
       "    <span style=\"font-size: 0.8em; font-weight: bold; line-height: 1; border-radius: 0.35em; vertical-align: middle; margin-left: 0.5rem\">DATE</span>\n",
       "</mark>\n",
       " and closed at $\n",
       "<mark class=\"entity\" style=\"background: #e4e7d2; padding: 0.45em 0.6em; margin: 0 0.25em; line-height: 1; border-radius: 0.35em;\">\n",
       "    91.49\n",
       "    <span style=\"font-size: 0.8em; font-weight: bold; line-height: 1; border-radius: 0.35em; vertical-align: middle; margin-left: 0.5rem\">MONEY</span>\n",
       "</mark>\n",
       " \n",
       "<mark class=\"entity\" style=\"background: #bfe1d9; padding: 0.45em 0.6em; margin: 0 0.25em; line-height: 1; border-radius: 0.35em;\">\n",
       "    yesterday\n",
       "    <span style=\"font-size: 0.8em; font-weight: bold; line-height: 1; border-radius: 0.35em; vertical-align: middle; margin-left: 0.5rem\">DATE</span>\n",
       "</mark>\n",
       ".\r",
       "  </br>\r",
       "  </br>\n",
       "<mark class=\"entity\" style=\"background: #7aecec; padding: 0.45em 0.6em; margin: 0 0.25em; line-height: 1; border-radius: 0.35em;\">\n",
       "    FMC\n",
       "    <span style=\"font-size: 0.8em; font-weight: bold; line-height: 1; border-radius: 0.35em; vertical-align: middle; margin-left: 0.5rem\">ORG</span>\n",
       "</mark>\n",
       " fell sharply after the company released its latest financial report. Despite the recent drop, \n",
       "<mark class=\"entity\" style=\"background: #7aecec; padding: 0.45em 0.6em; margin: 0 0.25em; line-height: 1; border-radius: 0.35em;\">\n",
       "    FMC Corporation\n",
       "    <span style=\"font-size: 0.8em; font-weight: bold; line-height: 1; border-radius: 0.35em; vertical-align: middle; margin-left: 0.5rem\">ORG</span>\n",
       "</mark>\n",
       " has a long standing history and a significant presence in the agricultural sciences sector. Their assets and revenues are substantial, indicating a strong financial position.\r",
       "  </br>\r",
       "  </br>**Target Price Estimate:**\r",
       "  </br>\n",
       "<mark class=\"entity\" style=\"background: #7aecec; padding: 0.45em 0.6em; margin: 0 0.25em; line-height: 1; border-radius: 0.35em;\">\n",
       "    FMC\n",
       "    <span style=\"font-size: 0.8em; font-weight: bold; line-height: 1; border-radius: 0.35em; vertical-align: middle; margin-left: 0.5rem\">ORG</span>\n",
       "</mark>\n",
       "'s price should hover \n",
       "<mark class=\"entity\" style=\"background: #e4e7d2; padding: 0.45em 0.6em; margin: 0 0.25em; line-height: 1; border-radius: 0.35em;\">\n",
       "    around $90\n",
       "    <span style=\"font-size: 0.8em; font-weight: bold; line-height: 1; border-radius: 0.35em; vertical-align: middle; margin-left: 0.5rem\">MONEY</span>\n",
       "</mark>\n",
       " in \n",
       "<mark class=\"entity\" style=\"background: #bfe1d9; padding: 0.45em 0.6em; margin: 0 0.25em; line-height: 1; border-radius: 0.35em;\">\n",
       "    the next week to month\n",
       "    <span style=\"font-size: 0.8em; font-weight: bold; line-height: 1; border-radius: 0.35em; vertical-align: middle; margin-left: 0.5rem\">DATE</span>\n",
       "</mark>\n",
       " and look to make it's way towards $\n",
       "<mark class=\"entity\" style=\"background: #e4e7d2; padding: 0.45em 0.6em; margin: 0 0.25em; line-height: 1; border-radius: 0.35em;\">\n",
       "    95\n",
       "    <span style=\"font-size: 0.8em; font-weight: bold; line-height: 1; border-radius: 0.35em; vertical-align: middle; margin-left: 0.5rem\">MONEY</span>\n",
       "</mark>\n",
       ".</div></span>"
      ],
      "text/plain": [
       "<IPython.core.display.HTML object>"
      ]
     },
     "metadata": {},
     "output_type": "display_data"
    }
   ],
   "source": [
    "from spacy import displacy\n",
    "displacy.render(doc,style='ent')"
   ]
  },
  {
   "cell_type": "code",
   "execution_count": 134,
   "id": "7bc88f50-4166-469d-b015-3cf09f12d6a5",
   "metadata": {},
   "outputs": [
    {
     "data": {
      "text/plain": [
       "['FMC', 'FMC', 'FMC Corporation', 'FMC']"
      ]
     },
     "execution_count": 134,
     "metadata": {},
     "output_type": "execute_result"
    }
   ],
   "source": [
    "orgs = []\n",
    "for ent in doc.ents:\n",
    "    if ent.label_ == 'ORG':\n",
    "        orgs.append(ent.text)\n",
    "orgs"
   ]
  },
  {
   "cell_type": "code",
   "execution_count": null,
   "id": "1175c95f-5156-47bd-ba02-83c58a7e6b3e",
   "metadata": {},
   "outputs": [],
   "source": [
    "pd.read_csv('../data/reddit.csv',sep='!')"
   ]
  },
  {
   "cell_type": "code",
   "execution_count": 139,
   "id": "2f94b3ef-9c18-443f-b2d9-1ef907f5dd8d",
   "metadata": {},
   "outputs": [],
   "source": [
    "def extract_entity(text):\n",
    "    doc = nlp(text)\n",
    "    orgs = []\n",
    "    for ent in doc.ents:\n",
    "        if ent.label_ == 'ORG':\n",
    "            orgs.append(ent.text)\n",
    "    return orgs"
   ]
  },
  {
   "cell_type": "code",
   "execution_count": null,
   "id": "9305e880-4619-474b-91ca-1eac876c5a2b",
   "metadata": {},
   "outputs": [
    {
     "name": "stderr",
     "output_type": "stream",
     "text": [
      "Token indices sequence length is longer than the specified maximum sequence length for this model (1349 > 512). Running this sequence through the model will result in indexing errors\n"
     ]
    }
   ],
   "source": [
    "df['selftext'].apply(extract_entity)"
   ]
  },
  {
   "cell_type": "code",
   "execution_count": null,
   "id": "2a344bc8-765c-4e84-b05c-a18142740b7e",
   "metadata": {},
   "outputs": [],
   "source": []
  },
  {
   "cell_type": "code",
   "execution_count": null,
   "id": "3c424901-50bf-44dd-9582-b2090595430a",
   "metadata": {},
   "outputs": [],
   "source": []
  },
  {
   "cell_type": "code",
   "execution_count": null,
   "id": "3cab753d-2748-4a9f-9877-ab750d0952b2",
   "metadata": {},
   "outputs": [],
   "source": []
  }
 ],
 "metadata": {
  "kernelspec": {
   "display_name": "Python 3 (ipykernel)",
   "language": "python",
   "name": "python3"
  },
  "language_info": {
   "codemirror_mode": {
    "name": "ipython",
    "version": 3
   },
   "file_extension": ".py",
   "mimetype": "text/x-python",
   "name": "python",
   "nbconvert_exporter": "python",
   "pygments_lexer": "ipython3",
   "version": "3.11.2"
  }
 },
 "nbformat": 4,
 "nbformat_minor": 5
}
